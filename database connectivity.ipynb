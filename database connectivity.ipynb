{
 "cells": [
  {
   "attachments": {},
   "cell_type": "markdown",
   "metadata": {},
   "source": [
    "1) program to connect with  database and print its version\n"
   ]
  },
  {
   "cell_type": "code",
   "execution_count": 1,
   "metadata": {},
   "outputs": [
    {
     "name": "stdout",
     "output_type": "stream",
     "text": [
      "Database version : 8.0.19 \n"
     ]
    }
   ],
   "source": [
    "from mysql import connector\n",
    "try:\n",
    "    con=connector.connect(host='localhost',database='db',username='root',password='root')\n",
    "    cursor=con.cursor()\n",
    "    cursor.execute(\"SELECT VERSION()\")\n",
    "    data = cursor.fetchone()\n",
    "    print (\"Database version : %s \" % data)\n",
    "except connector.Error as e:\n",
    "    print(e)\n",
    "finally:\n",
    "    con.close()"
   ]
  },
  {
   "cell_type": "code",
   "execution_count": 2,
   "metadata": {},
   "outputs": [
    {
     "name": "stdout",
     "output_type": "stream",
     "text": [
      "8.0.19\n"
     ]
    }
   ],
   "source": [
    "try:\n",
    "    con=connector.connect(host='localhost',database='db',username='root',password='root')\n",
    "    print (con.get_server_info())\n",
    "except connector.Error as e:\n",
    "    print(e)\n",
    "finally:\n",
    "    con.close()"
   ]
  },
  {
   "attachments": {},
   "cell_type": "markdown",
   "metadata": {},
   "source": [
    "2)program to create employees table in the database"
   ]
  },
  {
   "attachments": {},
   "cell_type": "markdown",
   "metadata": {},
   "source": [
    "5)program to insert multiple rows in employees table by executemany() method\n"
   ]
  },
  {
   "cell_type": "markdown",
   "metadata": {},
   "source": [
    "10)program to select all employees info by using fetchall() method"
   ]
  },
  {
   "cell_type": "code",
   "execution_count": 3,
   "metadata": {},
   "outputs": [
    {
     "name": "stdout",
     "output_type": "stream",
     "text": [
      "Table Created\n",
      "data stored in table\n",
      "Employee ID: 1\n",
      "Employee Name: jan\n",
      "Employee salary: 100000.0\n",
      "Employee ID: 2\n",
      "Employee Name: rak\n",
      "Employee salary: 15000.0\n",
      "Employee ID: 3\n",
      "Employee Name: swa\n",
      "Employee salary: 1000000.0\n"
     ]
    }
   ],
   "source": [
    "try:\n",
    "    con=connector.connect(host='localhost',database='db',username='root',password='root')\n",
    "    cursor = con.cursor()\n",
    "    cursor.execute('create table employees(eID int primary key,ename varchar(50),esal double(10,2))')\n",
    "    print('Table Created')\n",
    "    query='insert into employees(eID,ename,esal) values(%s,%s,%s)'\n",
    "    data=[(1,'jan',100000.00),\n",
    "          (2,'rak',15000.00),\n",
    "          (3,'swa',1000000.00)]\n",
    "    cursor.executemany(query,data)\n",
    "    con.commit()\n",
    "    print('data stored in table')\n",
    "    cursor.execute('select * from employees')\n",
    "    elements=cursor.fetchall()\n",
    "    for i in elements:\n",
    "        print('Employee ID:',i[0])\n",
    "        print('Employee Name:',i[1])\n",
    "        print('Employee salary:',i[2])\n",
    "except connector.Error as e:\n",
    "    print(e)\n",
    "finally:\n",
    "    con.close()\n",
    "    cursor.close()"
   ]
  },
  {
   "attachments": {},
   "cell_type": "markdown",
   "metadata": {},
   "source": [
    "4)program to insert a single row in employees table"
   ]
  },
  {
   "cell_type": "code",
   "execution_count": 4,
   "metadata": {},
   "outputs": [],
   "source": [
    "try:\n",
    "    con=connector.connect(host=\"localhost\",database=\"db\",user=\"root\",password=\"root\")\n",
    "    cursor=con.cursor()\n",
    "    cursor.execute(\"insert into employees values(4,'poopoo',15000.00)\")\n",
    "    con.commit()\n",
    "except connector.Error as e:\n",
    "    print(e)\n",
    "finally:\n",
    "    con.close()\n",
    "    cursor.close()"
   ]
  },
  {
   "attachments": {},
   "cell_type": "markdown",
   "metadata": {},
   "source": [
    "6)program to insert multiple rows in employees table with dynamic input from keyboard"
   ]
  },
  {
   "cell_type": "code",
   "execution_count": 5,
   "metadata": {},
   "outputs": [
    {
     "name": "stdout",
     "output_type": "stream",
     "text": [
      "enter the data5 mand 50000\n"
     ]
    }
   ],
   "source": [
    "try:\n",
    "    con=connector.connect(host=\"localhost\",database=\"db\",user=\"root\",password=\"root\")\n",
    "    cursor=con.cursor()\n",
    "    eID,ename,esal=input(\"enter the data\").split()\n",
    "    eID=int(eID)\n",
    "    esal=float(esal)\n",
    "    query=\"insert into employees values(%d,'%s',%f)\"\n",
    "    cursor.execute(query %(eID,ename,esal))\n",
    "    con.commit()\n",
    "except connector.Error as e:\n",
    "    print(e)\n",
    "finally:\n",
    "    con.close()\n",
    "    cursor.close()"
   ]
  },
  {
   "attachments": {},
   "cell_type": "markdown",
   "metadata": {},
   "source": [
    "7)program to update employees salaries with increment for the certain range  with dynamic input"
   ]
  },
  {
   "cell_type": "code",
   "execution_count": 6,
   "metadata": {},
   "outputs": [
    {
     "name": "stdout",
     "output_type": "stream",
     "text": [
      "Enter Increment Salary:5000\n",
      "Enter Salary Range:20000\n"
     ]
    }
   ],
   "source": [
    "try:\n",
    "    con=connector.connect(host=\"localhost\",database=\"db\",user=\"root\",password=\"root\")\n",
    "    cursor=con.cursor()\n",
    "    increment=float(input(\"Enter Increment Salary:\"))\n",
    "    salrange=float(input(\"Enter Salary Range:\"))\n",
    "    sql=\"update employees set esal=esal+%f where esal<%f\"\n",
    "    cursor.execute(sql %(increment,salrange))\n",
    "    con.commit()\n",
    "except connector.Error as e:\n",
    "    print(e)\n",
    "finally:\n",
    "    con.close()\n",
    "    cursor.close()"
   ]
  },
  {
   "attachments": {},
   "cell_type": "markdown",
   "metadata": {},
   "source": [
    "8)program to delete employees whose salary greater than provided salary as dynamic input"
   ]
  },
  {
   "cell_type": "code",
   "execution_count": 7,
   "metadata": {},
   "outputs": [
    {
     "name": "stdout",
     "output_type": "stream",
     "text": [
      "Enter Salary Range:50000\n"
     ]
    }
   ],
   "source": [
    "try:\n",
    "    con=connector.connect(host=\"localhost\",database=\"db\",user=\"root\",password=\"root\")\n",
    "    cursor=con.cursor()\n",
    "    salrange=float(input(\"Enter Salary Range:\"))\n",
    "    sql=\"delete from employees where esal>%f\"\n",
    "    cursor.execute(sql %(salrange))\n",
    "    con.commit()\n",
    "except connector.Error as e:\n",
    "    print(e)\n",
    "finally:\n",
    "    con.close()\n",
    "    cursor.close()"
   ]
  },
  {
   "attachments": {},
   "cell_type": "markdown",
   "metadata": {},
   "source": [
    "9)program to select all employees info by using fetchone() method"
   ]
  },
  {
   "cell_type": "code",
   "execution_count": 8,
   "metadata": {},
   "outputs": [
    {
     "name": "stdout",
     "output_type": "stream",
     "text": [
      "(2, 'rak', 20000.0)\n",
      "(4, 'poopoo', 20000.0)\n",
      "(5, 'mand', 50000.0)\n"
     ]
    }
   ],
   "source": [
    "try:\n",
    "    con=connector.connect(host=\"localhost\",database=\"db\",user=\"root\",password=\"root\")\n",
    "    cursor=con.cursor()\n",
    "    cursor.execute(\"select * from employees\")\n",
    "    row=cursor.fetchone()\n",
    "    while row is not None:\n",
    "        print(row)\n",
    "        row=cursor.fetchone()\n",
    "        \n",
    "except connector.Error as e:\n",
    "    print(e)\n",
    "finally:\n",
    "    con.close()\n",
    "    cursor.close()"
   ]
  },
  {
   "attachments": {},
   "cell_type": "markdown",
   "metadata": {},
   "source": [
    "11)program to select all employees info by using fetchmany() method , required number of rows provided as dynamic input\n"
   ]
  },
  {
   "cell_type": "code",
   "execution_count": 9,
   "metadata": {},
   "outputs": [
    {
     "name": "stdout",
     "output_type": "stream",
     "text": [
      "Enter the number of required rows:3\n",
      "[(2, 'rak', 20000.0), (4, 'poopoo', 20000.0), (5, 'mand', 50000.0)]\n"
     ]
    }
   ],
   "source": [
    "try:\n",
    "    con=connector.connect(host=\"localhost\",database=\"db\",user=\"root\",password=\"root\")\n",
    "    cursor=con.cursor()\n",
    "    cursor.execute(\"select * from employees\")\n",
    "    n=int(input(\"Enter the number of required rows:\"))\n",
    "    row=cursor.fetchmany(n)  \n",
    "    print(row)\n",
    "except connector.Error as e:\n",
    "    print(e)\n",
    "finally:\n",
    "    con.close()\n",
    "    cursor.close()"
   ]
  },
  {
   "attachments": {},
   "cell_type": "markdown",
   "metadata": {},
   "source": [
    "3)program to drop employess table from database"
   ]
  },
  {
   "cell_type": "code",
   "execution_count": 10,
   "metadata": {},
   "outputs": [],
   "source": [
    "try:\n",
    "    con=connector.connect(host=\"localhost\",database=\"db\",user=\"root\",password=\"root\")\n",
    "    cursor=con.cursor()\n",
    "    cursor.execute(\"drop table employees\")\n",
    "    con.commit()\n",
    "except connector.Error as e:\n",
    "    print(e)\n",
    "finally:\n",
    "    con.close()\n",
    "    cursor.close()"
   ]
  },
  {
   "cell_type": "code",
   "execution_count": null,
   "metadata": {},
   "outputs": [],
   "source": []
  }
 ],
 "metadata": {
  "kernelspec": {
   "display_name": "Python 3",
   "language": "python",
   "name": "python3"
  },
  "language_info": {
   "codemirror_mode": {
    "name": "ipython",
    "version": 3
   },
   "file_extension": ".py",
   "mimetype": "text/x-python",
   "name": "python",
   "nbconvert_exporter": "python",
   "pygments_lexer": "ipython3",
   "version": "3.7.4"
  }
 },
 "nbformat": 4,
 "nbformat_minor": 2
}
