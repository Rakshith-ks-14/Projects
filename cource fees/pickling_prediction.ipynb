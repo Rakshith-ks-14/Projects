{
 "cells": [
  {
   "cell_type": "code",
   "execution_count": 1,
   "metadata": {},
   "outputs": [],
   "source": [
    "import warnings\n",
    "warnings.filterwarnings('ignore')\n",
    "import numpy as np\n",
    "import pandas as pd\n",
    "import seaborn as sns\n",
    "import matplotlib.pyplot as plt\n",
    "import pandas as pd\n",
    "from sklearn.model_selection import train_test_split\n",
    "from sklearn.ensemble import GradientBoostingClassifier\n",
    "from sklearn.metrics import accuracy_score,classification_report,confusion_matrix"
   ]
  },
  {
   "cell_type": "code",
   "execution_count": 2,
   "metadata": {},
   "outputs": [],
   "source": [
    "pred=pd.read_excel('Predict.xlsx')"
   ]
  },
  {
   "cell_type": "code",
   "execution_count": 3,
   "metadata": {},
   "outputs": [
    {
     "data": {
      "text/html": [
       "<div>\n",
       "<style scoped>\n",
       "    .dataframe tbody tr th:only-of-type {\n",
       "        vertical-align: middle;\n",
       "    }\n",
       "\n",
       "    .dataframe tbody tr th {\n",
       "        vertical-align: top;\n",
       "    }\n",
       "\n",
       "    .dataframe thead th {\n",
       "        text-align: right;\n",
       "    }\n",
       "</style>\n",
       "<table border=\"1\" class=\"dataframe\">\n",
       "  <thead>\n",
       "    <tr style=\"text-align: right;\">\n",
       "      <th></th>\n",
       "      <th>Gender</th>\n",
       "      <th>Fresher/Experience</th>\n",
       "      <th>10th Year of Pass out</th>\n",
       "      <th>10th Aggregate</th>\n",
       "      <th>12th Board</th>\n",
       "      <th>12th Course Type</th>\n",
       "      <th>12th/Diploma/ITI Year of Pass out</th>\n",
       "      <th>12th/Diploma/ITI-Aggregate</th>\n",
       "      <th>Diploma Course Type</th>\n",
       "      <th>Diploma Stream</th>\n",
       "      <th>...</th>\n",
       "      <th>Currently Are You Working</th>\n",
       "      <th>State</th>\n",
       "      <th>Course(s)</th>\n",
       "      <th>Mode of Enquiry</th>\n",
       "      <th>Balance Fees</th>\n",
       "      <th>Target_fees</th>\n",
       "      <th>Post date</th>\n",
       "      <th>Paid_fees</th>\n",
       "      <th>Paid_per</th>\n",
       "      <th>Paid_per_cat</th>\n",
       "    </tr>\n",
       "  </thead>\n",
       "  <tbody>\n",
       "    <tr>\n",
       "      <td>0</td>\n",
       "      <td>2</td>\n",
       "      <td>3</td>\n",
       "      <td>0</td>\n",
       "      <td>0.0</td>\n",
       "      <td>2</td>\n",
       "      <td>1</td>\n",
       "      <td>0</td>\n",
       "      <td>0.00</td>\n",
       "      <td>1</td>\n",
       "      <td>12</td>\n",
       "      <td>...</td>\n",
       "      <td>0</td>\n",
       "      <td>18</td>\n",
       "      <td>358</td>\n",
       "      <td>12</td>\n",
       "      <td>0</td>\n",
       "      <td>0</td>\n",
       "      <td>01-01-2018</td>\n",
       "      <td>0</td>\n",
       "      <td>-1.0</td>\n",
       "      <td>0</td>\n",
       "    </tr>\n",
       "    <tr>\n",
       "      <td>1</td>\n",
       "      <td>2</td>\n",
       "      <td>3</td>\n",
       "      <td>0</td>\n",
       "      <td>0.0</td>\n",
       "      <td>2</td>\n",
       "      <td>1</td>\n",
       "      <td>0</td>\n",
       "      <td>0.00</td>\n",
       "      <td>1</td>\n",
       "      <td>12</td>\n",
       "      <td>...</td>\n",
       "      <td>0</td>\n",
       "      <td>18</td>\n",
       "      <td>358</td>\n",
       "      <td>12</td>\n",
       "      <td>0</td>\n",
       "      <td>0</td>\n",
       "      <td>01-01-2018</td>\n",
       "      <td>0</td>\n",
       "      <td>-1.0</td>\n",
       "      <td>0</td>\n",
       "    </tr>\n",
       "    <tr>\n",
       "      <td>2</td>\n",
       "      <td>1</td>\n",
       "      <td>2</td>\n",
       "      <td>2009</td>\n",
       "      <td>50.0</td>\n",
       "      <td>0</td>\n",
       "      <td>1</td>\n",
       "      <td>2013</td>\n",
       "      <td>76.77</td>\n",
       "      <td>2</td>\n",
       "      <td>1</td>\n",
       "      <td>...</td>\n",
       "      <td>0</td>\n",
       "      <td>12</td>\n",
       "      <td>27</td>\n",
       "      <td>6</td>\n",
       "      <td>23950</td>\n",
       "      <td>23950</td>\n",
       "      <td>01-01-2018</td>\n",
       "      <td>0</td>\n",
       "      <td>0.0</td>\n",
       "      <td>1</td>\n",
       "    </tr>\n",
       "    <tr>\n",
       "      <td>3</td>\n",
       "      <td>1</td>\n",
       "      <td>2</td>\n",
       "      <td>2006</td>\n",
       "      <td>72.0</td>\n",
       "      <td>1</td>\n",
       "      <td>0</td>\n",
       "      <td>2008</td>\n",
       "      <td>46.00</td>\n",
       "      <td>1</td>\n",
       "      <td>12</td>\n",
       "      <td>...</td>\n",
       "      <td>0</td>\n",
       "      <td>12</td>\n",
       "      <td>27</td>\n",
       "      <td>9</td>\n",
       "      <td>23950</td>\n",
       "      <td>23950</td>\n",
       "      <td>01-01-2018</td>\n",
       "      <td>0</td>\n",
       "      <td>0.0</td>\n",
       "      <td>1</td>\n",
       "    </tr>\n",
       "    <tr>\n",
       "      <td>4</td>\n",
       "      <td>2</td>\n",
       "      <td>3</td>\n",
       "      <td>0</td>\n",
       "      <td>0.0</td>\n",
       "      <td>2</td>\n",
       "      <td>1</td>\n",
       "      <td>0</td>\n",
       "      <td>0.00</td>\n",
       "      <td>1</td>\n",
       "      <td>12</td>\n",
       "      <td>...</td>\n",
       "      <td>0</td>\n",
       "      <td>18</td>\n",
       "      <td>358</td>\n",
       "      <td>6</td>\n",
       "      <td>0</td>\n",
       "      <td>0</td>\n",
       "      <td>02-01-2018</td>\n",
       "      <td>0</td>\n",
       "      <td>-1.0</td>\n",
       "      <td>0</td>\n",
       "    </tr>\n",
       "  </tbody>\n",
       "</table>\n",
       "<p>5 rows × 39 columns</p>\n",
       "</div>"
      ],
      "text/plain": [
       "   Gender  Fresher/Experience  10th Year of Pass out  10th Aggregate  \\\n",
       "0       2                   3                      0             0.0   \n",
       "1       2                   3                      0             0.0   \n",
       "2       1                   2                   2009            50.0   \n",
       "3       1                   2                   2006            72.0   \n",
       "4       2                   3                      0             0.0   \n",
       "\n",
       "   12th Board  12th Course Type  12th/Diploma/ITI Year of Pass out  \\\n",
       "0           2                 1                                  0   \n",
       "1           2                 1                                  0   \n",
       "2           0                 1                               2013   \n",
       "3           1                 0                               2008   \n",
       "4           2                 1                                  0   \n",
       "\n",
       "   12th/Diploma/ITI-Aggregate  Diploma Course Type  Diploma Stream  ...  \\\n",
       "0                        0.00                    1              12  ...   \n",
       "1                        0.00                    1              12  ...   \n",
       "2                       76.77                    2               1  ...   \n",
       "3                       46.00                    1              12  ...   \n",
       "4                        0.00                    1              12  ...   \n",
       "\n",
       "   Currently Are You Working  State  Course(s)  Mode of Enquiry  Balance Fees  \\\n",
       "0                          0     18        358               12             0   \n",
       "1                          0     18        358               12             0   \n",
       "2                          0     12         27                6         23950   \n",
       "3                          0     12         27                9         23950   \n",
       "4                          0     18        358                6             0   \n",
       "\n",
       "   Target_fees   Post date  Paid_fees  Paid_per  Paid_per_cat  \n",
       "0            0  01-01-2018          0      -1.0             0  \n",
       "1            0  01-01-2018          0      -1.0             0  \n",
       "2        23950  01-01-2018          0       0.0             1  \n",
       "3        23950  01-01-2018          0       0.0             1  \n",
       "4            0  02-01-2018          0      -1.0             0  \n",
       "\n",
       "[5 rows x 39 columns]"
      ]
     },
     "execution_count": 3,
     "metadata": {},
     "output_type": "execute_result"
    }
   ],
   "source": [
    "pred.head()"
   ]
  },
  {
   "cell_type": "code",
   "execution_count": 4,
   "metadata": {},
   "outputs": [],
   "source": [
    "x=pred.drop(['Paid_fees', 'Paid_per', 'Paid_per_cat','Balance Fees','Post date'],1)\n",
    "y=pred['Paid_per_cat']\n",
    "x_train,x_test,y_train,y_test=train_test_split(x,y,test_size=0.3,random_state=42)"
   ]
  },
  {
   "cell_type": "code",
   "execution_count": 5,
   "metadata": {},
   "outputs": [
    {
     "data": {
      "text/plain": [
       "GradientBoostingClassifier(criterion='friedman_mse', init=None,\n",
       "                           learning_rate=0.1, loss='deviance', max_depth=3,\n",
       "                           max_features=None, max_leaf_nodes=None,\n",
       "                           min_impurity_decrease=0.0, min_impurity_split=None,\n",
       "                           min_samples_leaf=1, min_samples_split=2,\n",
       "                           min_weight_fraction_leaf=0.0, n_estimators=100,\n",
       "                           n_iter_no_change=None, presort='auto',\n",
       "                           random_state=None, subsample=1.0, tol=0.0001,\n",
       "                           validation_fraction=0.1, verbose=0,\n",
       "                           warm_start=False)"
      ]
     },
     "execution_count": 5,
     "metadata": {},
     "output_type": "execute_result"
    }
   ],
   "source": [
    "gbc=GradientBoostingClassifier()\n",
    "gbc.fit(x_train,y_train)"
   ]
  },
  {
   "cell_type": "code",
   "execution_count": 6,
   "metadata": {},
   "outputs": [
    {
     "name": "stdout",
     "output_type": "stream",
     "text": [
      "0.9571655208884188\n",
      "\n",
      "[[2922    0    0    0    0]\n",
      " [   0  548    0    2   95]\n",
      " [   0    3   22    0   10]\n",
      " [   0   16    0   53   77]\n",
      " [   0   39    0    1 1885]]\n",
      "\n",
      "              precision    recall  f1-score   support\n",
      "\n",
      "           0       1.00      1.00      1.00      2922\n",
      "           1       0.90      0.85      0.88       645\n",
      "           2       1.00      0.63      0.77        35\n",
      "           3       0.95      0.36      0.52       146\n",
      "           4       0.91      0.98      0.94      1925\n",
      "\n",
      "    accuracy                           0.96      5673\n",
      "   macro avg       0.95      0.76      0.82      5673\n",
      "weighted avg       0.96      0.96      0.95      5673\n",
      "\n"
     ]
    }
   ],
   "source": [
    "gbc_pred=gbc.predict(x_train)\n",
    "print(accuracy_score(y_train,gbc_pred))\n",
    "print()\n",
    "print(confusion_matrix(y_train,gbc_pred))\n",
    "print()\n",
    "print(classification_report(y_train,gbc_pred))"
   ]
  },
  {
   "cell_type": "code",
   "execution_count": 7,
   "metadata": {},
   "outputs": [],
   "source": [
    "x_test.to_excel('Test.xlsx',index=False)"
   ]
  },
  {
   "cell_type": "code",
   "execution_count": 8,
   "metadata": {},
   "outputs": [
    {
     "name": "stderr",
     "output_type": "stream",
     "text": [
      "C:\\Users\\Rakshith KS\\Anaconda3\\lib\\site-packages\\sklearn\\externals\\joblib\\__init__.py:15: DeprecationWarning: sklearn.externals.joblib is deprecated in 0.21 and will be removed in 0.23. Please import this functionality directly from joblib, which can be installed with: pip install joblib. If this warning is raised when loading pickled models, you may need to re-serialize those models with scikit-learn 0.21+.\n",
      "  warnings.warn(msg, category=DeprecationWarning)\n"
     ]
    },
    {
     "data": {
      "text/plain": [
       "['Payment_pred.pkl']"
      ]
     },
     "execution_count": 8,
     "metadata": {},
     "output_type": "execute_result"
    }
   ],
   "source": [
    "import pickle\n",
    "from sklearn.externals import joblib\n",
    "filename='Payment_pred.pkl'\n",
    "joblib.dump(gbc,filename)"
   ]
  },
  {
   "cell_type": "code",
   "execution_count": null,
   "metadata": {},
   "outputs": [],
   "source": []
  }
 ],
 "metadata": {
  "kernelspec": {
   "display_name": "Python 3",
   "language": "python",
   "name": "python3"
  },
  "language_info": {
   "codemirror_mode": {
    "name": "ipython",
    "version": 3
   },
   "file_extension": ".py",
   "mimetype": "text/x-python",
   "name": "python",
   "nbconvert_exporter": "python",
   "pygments_lexer": "ipython3",
   "version": "3.7.4"
  }
 },
 "nbformat": 4,
 "nbformat_minor": 2
}
