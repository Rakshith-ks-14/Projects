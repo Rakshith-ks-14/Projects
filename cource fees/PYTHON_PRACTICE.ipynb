{
 "cells": [
  {
   "cell_type": "code",
   "execution_count": 1,
   "metadata": {},
   "outputs": [
    {
     "data": {
      "text/plain": [
       "[14, 77]"
      ]
     },
     "execution_count": 1,
     "metadata": {},
     "output_type": "execute_result"
    }
   ],
   "source": [
    "l = [123,456]\n",
    "[sum(int(i)**2 for i in str(l[j])) for j in range(len(l))]"
   ]
  },
  {
   "cell_type": "code",
   "execution_count": 2,
   "metadata": {},
   "outputs": [
    {
     "data": {
      "text/plain": [
       "[14, 77, 194]"
      ]
     },
     "execution_count": 2,
     "metadata": {},
     "output_type": "execute_result"
    }
   ],
   "source": [
    "l = [123,456,789]\n",
    "[sum(int(i)**2 for i in str(l[j])) for j in range(len(l))]"
   ]
  },
  {
   "cell_type": "code",
   "execution_count": 3,
   "metadata": {},
   "outputs": [
    {
     "data": {
      "text/plain": [
       "[14, 77, 194]"
      ]
     },
     "execution_count": 3,
     "metadata": {},
     "output_type": "execute_result"
    }
   ],
   "source": [
    "def sample(l):\n",
    "    s=[]\n",
    "    for i in l:\n",
    "        res=0\n",
    "        while i>0:\n",
    "            ld=i%10\n",
    "            i=i//10\n",
    "            res=res+ld*ld\n",
    "        s.append(res)\n",
    "    return s\n",
    "sample([123,456,789])"
   ]
  },
  {
   "cell_type": "markdown",
   "metadata": {},
   "source": [
    "## insertion sort"
   ]
  },
  {
   "cell_type": "code",
   "execution_count": null,
   "metadata": {},
   "outputs": [],
   "source": [
    "insertion([4, 3, 2, 66, 1])"
   ]
  },
  {
   "cell_type": "code",
   "execution_count": 5,
   "metadata": {},
   "outputs": [
    {
     "data": {
      "text/plain": [
       "[1, 2, 3, 4, 66]"
      ]
     },
     "execution_count": 5,
     "metadata": {},
     "output_type": "execute_result"
    }
   ],
   "source": [
    "def insertion_sort(a):\n",
    "    for i in range(1,len(a)):\n",
    "        while(i>0 and a[i]<a[i-1]):\n",
    "            a[i-1], a[i] = a[i], a[i-1]\n",
    "            i-=1\n",
    "    return a\n",
    "insertion_sort([4, 3, 2, 66, 1])"
   ]
  },
  {
   "cell_type": "code",
   "execution_count": 7,
   "metadata": {},
   "outputs": [
    {
     "data": {
      "text/plain": [
       "[3, 3, 4, 5, 8, 8, 9, 21]"
      ]
     },
     "execution_count": 7,
     "metadata": {},
     "output_type": "execute_result"
    }
   ],
   "source": [
    "def insertion_sort1(a):\n",
    "    for i in range(1,len(a)):\n",
    "        while(i>0 and a[i]<a[i-1]):\n",
    "            a[i-1], a[i] = a[i], a[i-1]\n",
    "            i-=1\n",
    "    return a\n",
    "insertion_sort1([9,8,3,4,5,8,21,3])"
   ]
  },
  {
   "cell_type": "code",
   "execution_count": 4,
   "metadata": {},
   "outputs": [
    {
     "name": "stdout",
     "output_type": "stream",
     "text": [
      "['j', 'm', 'p', 't']\n",
      "['j', 'm', 'p', 'u']\n",
      "['j', 'm', 'p', 'v']\n",
      "['j', 'm', 'q', 't']\n",
      "['j', 'm', 'q', 'u']\n",
      "['j', 'm', 'q', 'v']\n",
      "['j', 'm', 'r', 't']\n",
      "['j', 'm', 'r', 'u']\n",
      "['j', 'm', 'r', 'v']\n",
      "['j', 'm', 's', 't']\n",
      "['j', 'm', 's', 'u']\n",
      "['j', 'm', 's', 'v']\n",
      "['j', 'n', 'p', 't']\n",
      "['j', 'n', 'p', 'u']\n",
      "['j', 'n', 'p', 'v']\n",
      "['j', 'n', 'q', 't']\n",
      "['j', 'n', 'q', 'u']\n",
      "['j', 'n', 'q', 'v']\n",
      "['j', 'n', 'r', 't']\n",
      "['j', 'n', 'r', 'u']\n",
      "['j', 'n', 'r', 'v']\n",
      "['j', 'n', 's', 't']\n",
      "['j', 'n', 's', 'u']\n",
      "['j', 'n', 's', 'v']\n",
      "['j', 'o', 'p', 't']\n",
      "['j', 'o', 'p', 'u']\n",
      "['j', 'o', 'p', 'v']\n",
      "['j', 'o', 'q', 't']\n",
      "['j', 'o', 'q', 'u']\n",
      "['j', 'o', 'q', 'v']\n",
      "['j', 'o', 'r', 't']\n",
      "['j', 'o', 'r', 'u']\n",
      "['j', 'o', 'r', 'v']\n",
      "['j', 'o', 's', 't']\n",
      "['j', 'o', 's', 'u']\n",
      "['j', 'o', 's', 'v']\n",
      "['k', 'm', 'p', 't']\n",
      "['k', 'm', 'p', 'u']\n",
      "['k', 'm', 'p', 'v']\n",
      "['k', 'm', 'q', 't']\n",
      "['k', 'm', 'q', 'u']\n",
      "['k', 'm', 'q', 'v']\n",
      "['k', 'm', 'r', 't']\n",
      "['k', 'm', 'r', 'u']\n",
      "['k', 'm', 'r', 'v']\n",
      "['k', 'm', 's', 't']\n",
      "['k', 'm', 's', 'u']\n",
      "['k', 'm', 's', 'v']\n",
      "['k', 'n', 'p', 't']\n",
      "['k', 'n', 'p', 'u']\n",
      "['k', 'n', 'p', 'v']\n",
      "['k', 'n', 'q', 't']\n",
      "['k', 'n', 'q', 'u']\n",
      "['k', 'n', 'q', 'v']\n",
      "['k', 'n', 'r', 't']\n",
      "['k', 'n', 'r', 'u']\n",
      "['k', 'n', 'r', 'v']\n",
      "['k', 'n', 's', 't']\n",
      "['k', 'n', 's', 'u']\n",
      "['k', 'n', 's', 'v']\n",
      "['k', 'o', 'p', 't']\n",
      "['k', 'o', 'p', 'u']\n",
      "['k', 'o', 'p', 'v']\n",
      "['k', 'o', 'q', 't']\n",
      "['k', 'o', 'q', 'u']\n",
      "['k', 'o', 'q', 'v']\n",
      "['k', 'o', 'r', 't']\n",
      "['k', 'o', 'r', 'u']\n",
      "['k', 'o', 'r', 'v']\n",
      "['k', 'o', 's', 't']\n",
      "['k', 'o', 's', 'u']\n",
      "['k', 'o', 's', 'v']\n",
      "['l', 'm', 'p', 't']\n",
      "['l', 'm', 'p', 'u']\n",
      "['l', 'm', 'p', 'v']\n",
      "['l', 'm', 'q', 't']\n",
      "['l', 'm', 'q', 'u']\n",
      "['l', 'm', 'q', 'v']\n",
      "['l', 'm', 'r', 't']\n",
      "['l', 'm', 'r', 'u']\n",
      "['l', 'm', 'r', 'v']\n",
      "['l', 'm', 's', 't']\n",
      "['l', 'm', 's', 'u']\n",
      "['l', 'm', 's', 'v']\n",
      "['l', 'n', 'p', 't']\n",
      "['l', 'n', 'p', 'u']\n",
      "['l', 'n', 'p', 'v']\n",
      "['l', 'n', 'q', 't']\n",
      "['l', 'n', 'q', 'u']\n",
      "['l', 'n', 'q', 'v']\n",
      "['l', 'n', 'r', 't']\n",
      "['l', 'n', 'r', 'u']\n",
      "['l', 'n', 'r', 'v']\n",
      "['l', 'n', 's', 't']\n",
      "['l', 'n', 's', 'u']\n",
      "['l', 'n', 's', 'v']\n",
      "['l', 'o', 'p', 't']\n",
      "['l', 'o', 'p', 'u']\n",
      "['l', 'o', 'p', 'v']\n",
      "['l', 'o', 'q', 't']\n",
      "['l', 'o', 'q', 'u']\n",
      "['l', 'o', 'q', 'v']\n",
      "['l', 'o', 'r', 't']\n",
      "['l', 'o', 'r', 'u']\n",
      "['l', 'o', 'r', 'v']\n",
      "['l', 'o', 's', 't']\n",
      "['l', 'o', 's', 'u']\n",
      "['l', 'o', 's', 'v']\n"
     ]
    }
   ],
   "source": [
    "# hashTable[i] stores all characters  \n",
    "# that correspond to digit i in phone  \n",
    "hashTable = [\"\", \"\", \"abc\", \"def\", \"ghi\", \"jkl\",  \n",
    "                    \"mno\", \"pqrs\", \"tuv\", \"wxyz\"] \n",
    "  \n",
    "# A recursive function to print all  \n",
    "# possible words that can be obtained  \n",
    "# by input number[] of size n. The  \n",
    "# output words are one by one stored  \n",
    "# in output[]  \n",
    "def printWordsUtil(number, curr, output, n): \n",
    "    if(curr == n): \n",
    "        print(output) \n",
    "        return\n",
    "          \n",
    "    # Try all 3 possible characters  \n",
    "    # for current digir in number[]  \n",
    "    # and recur for remaining digits  \n",
    "    for i in range(len(hashTable[number[curr]])): \n",
    "        output.append(hashTable[number[curr]][i]) \n",
    "        printWordsUtil(number, curr + 1, output, n) \n",
    "        output.pop() \n",
    "        if(number[curr] == 0 or number[curr] == 1): \n",
    "            return;  \n",
    "              \n",
    "# A wrapper over printWordsUtil().  \n",
    "# It creates an output array and  \n",
    "# calls printWordsUtil()  \n",
    "def printWords(number, n): \n",
    "    printWordsUtil(number, 0, [], n) \n",
    "      \n",
    "# Driver function \n",
    "if __name__ == '__main__': \n",
    "    number = [5,6,7,8] \n",
    "    n = len(number) \n",
    "    printWords(number, n); \n",
    "      \n",
    "# This code is contributed by prajmsidc"
   ]
  },
  {
   "cell_type": "code",
   "execution_count": 35,
   "metadata": {},
   "outputs": [
    {
     "data": {
      "text/plain": [
       "2"
      ]
     },
     "execution_count": 35,
     "metadata": {},
     "output_type": "execute_result"
    }
   ],
   "source": [
    "a='rakshith'\n",
    "b='rakshith'\n",
    "mx=a\n",
    "mn=b\n",
    "s=''\n",
    "if len(b)>len(a):\n",
    "    mx=b\n",
    "    mn=a\n",
    "for i in mx:\n",
    "    if i in mn:\n",
    "        if i not in s:\n",
    "            s+=i\n",
    "count1=len(mx)-len(s)+len(mn)-len(s)\n",
    "count1"
   ]
  },
  {
   "cell_type": "code",
   "execution_count": 36,
   "metadata": {},
   "outputs": [
    {
     "data": {
      "text/plain": [
       "7"
      ]
     },
     "execution_count": 36,
     "metadata": {},
     "output_type": "execute_result"
    }
   ],
   "source": [
    "len(s)"
   ]
  },
  {
   "cell_type": "code",
   "execution_count": 38,
   "metadata": {},
   "outputs": [
    {
     "data": {
      "text/plain": [
       "[2, 3, 4, 5, None]"
      ]
     },
     "execution_count": 38,
     "metadata": {},
     "output_type": "execute_result"
    }
   ],
   "source": [
    "def createArr(n):\n",
    "    a=[None]*n\n",
    "    return a\n",
    "\n",
    "def addElements(arr,ele):\n",
    "    for i in range(len(arr)):\n",
    "        if arr[i]==None:\n",
    "            arr[i]=ele\n",
    "            break \n",
    "    else:\n",
    "        print('Index Out Of range')\n",
    "    return arr\n",
    "\n",
    "def deleteElement(arr):\n",
    "    l=len(arr)\n",
    "    if all(i==None for i in arr):\n",
    "        print('Empty Array')\n",
    "    else:\n",
    "        temp=0\n",
    "        for i in range(l-1):\n",
    "            if arr[i]!=None:\n",
    "                temp=arr[i+1]\n",
    "                arr[i+1]=arr[i]\n",
    "                arr[i]=temp\n",
    "        for i in range(l-(arr.count(None)+1),l):\n",
    "            arr[i]=None\n",
    "    return arr\n",
    "\n",
    "def deleteElePos(arr,pos):\n",
    "    l=len(arr)\n",
    "    for i in range(pos,l-1):\n",
    "        if arr[pos]!=None:\n",
    "            temp=arr[i+1]\n",
    "            arr[i+1]=arr[i]\n",
    "            arr[i]=temp\n",
    "            for i in range(l-(arr.count(None)+1),l):\n",
    "                arr[i]=None\n",
    "        else:\n",
    "            print('No value present')\n",
    "    return arr\n",
    "\n",
    "arr=createArr(5)\n",
    "addElements(arr,1)\n",
    "addElements(arr,2)\n",
    "addElements(arr,3)\n",
    "addElements(arr,4)\n",
    "addElements(arr,5)\n",
    "deleteElement(arr)\n",
    "# deleteElement(arr)\n",
    "# deleteElement(arr)\n",
    "# deleteElement(arr)\n",
    "# deleteElement(arr)\n",
    "# deleteElement(arr)"
   ]
  },
  {
   "cell_type": "code",
   "execution_count": 91,
   "metadata": {},
   "outputs": [
    {
     "data": {
      "text/plain": [
       "3"
      ]
     },
     "execution_count": 91,
     "metadata": {},
     "output_type": "execute_result"
    }
   ],
   "source": [
    "len(arr)-arr.count(None)+1"
   ]
  },
  {
   "cell_type": "code",
   "execution_count": 249,
   "metadata": {},
   "outputs": [
    {
     "name": "stdout",
     "output_type": "stream",
     "text": [
      "No value present\n"
     ]
    },
    {
     "data": {
      "text/plain": [
       "[1, 2, 3, None, None]"
      ]
     },
     "execution_count": 249,
     "metadata": {},
     "output_type": "execute_result"
    }
   ],
   "source": [
    "temp=0\n",
    "pos=3\n",
    "l=len(arr)\n",
    "for i in range(pos,len(arr)-1):\n",
    "    if arr[pos]!=None:\n",
    "        temp=arr[i+1]\n",
    "        arr[i+1]=arr[i]\n",
    "        arr[i]=temp\n",
    "        for i in range(l-(arr.count(None)+1),l):\n",
    "            arr[i]=None\n",
    "    else:\n",
    "        print('No value present')\n",
    "\n",
    "arr"
   ]
  },
  {
   "cell_type": "code",
   "execution_count": 328,
   "metadata": {},
   "outputs": [
    {
     "name": "stdout",
     "output_type": "stream",
     "text": [
      "\n",
      "*\n",
      "**\n",
      "***\n",
      "****\n",
      "**********\n",
      "****\n",
      "***\n",
      "**\n",
      "*\n",
      "\n"
     ]
    }
   ],
   "source": [
    "ch=65\n",
    "d=''\n",
    "for i in range(5,0,-1):\n",
    "    for j in range(5,0,-1):\n",
    "        if i>=j:\n",
    "            d=d+'*'\n",
    "    d+='\\n'\n",
    "print(d[::-1].ljust(5)+d)"
   ]
  },
  {
   "cell_type": "code",
   "execution_count": 336,
   "metadata": {},
   "outputs": [
    {
     "name": "stdout",
     "output_type": "stream",
     "text": [
      "*****\n",
      "****\n",
      "***\n",
      "**\n",
      "*\n",
      "\n",
      "*\n",
      "**\n",
      "***\n",
      "****\n",
      "*****"
     ]
    }
   ],
   "source": [
    "ch=65\n",
    "d=''\n",
    "for i in range(5,0,-1):\n",
    "    for j in range(5,0,-1):\n",
    "        if i>=j:\n",
    "            d=d+'*'\n",
    "    d+='\\n'\n"
   ]
  },
  {
   "cell_type": "code",
   "execution_count": null,
   "metadata": {},
   "outputs": [],
   "source": []
  },
  {
   "cell_type": "code",
   "execution_count": null,
   "metadata": {},
   "outputs": [],
   "source": []
  }
 ],
 "metadata": {
  "kernelspec": {
   "display_name": "Python 3",
   "language": "python",
   "name": "python3"
  },
  "language_info": {
   "codemirror_mode": {
    "name": "ipython",
    "version": 3
   },
   "file_extension": ".py",
   "mimetype": "text/x-python",
   "name": "python",
   "nbconvert_exporter": "python",
   "pygments_lexer": "ipython3",
   "version": "3.7.4"
  }
 },
 "nbformat": 4,
 "nbformat_minor": 2
}
