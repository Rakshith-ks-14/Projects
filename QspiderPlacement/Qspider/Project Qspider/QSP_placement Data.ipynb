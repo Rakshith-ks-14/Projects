{
 "cells": [
  {
   "cell_type": "code",
   "execution_count": 1,
   "metadata": {},
   "outputs": [
    {
     "data": {
      "text/html": [
       "        <script type=\"text/javascript\">\n",
       "        window.PlotlyConfig = {MathJaxConfig: 'local'};\n",
       "        if (window.MathJax) {MathJax.Hub.Config({SVG: {font: \"STIX-Web\"}});}\n",
       "        if (typeof require !== 'undefined') {\n",
       "        require.undef(\"plotly\");\n",
       "        requirejs.config({\n",
       "            paths: {\n",
       "                'plotly': ['https://cdn.plot.ly/plotly-latest.min']\n",
       "            }\n",
       "        });\n",
       "        require(['plotly'], function(Plotly) {\n",
       "            window._Plotly = Plotly;\n",
       "        });\n",
       "        }\n",
       "        </script>\n",
       "        "
      ]
     },
     "metadata": {},
     "output_type": "display_data"
    },
    {
     "data": {
      "text/html": [
       "        <script type=\"text/javascript\">\n",
       "        window.PlotlyConfig = {MathJaxConfig: 'local'};\n",
       "        if (window.MathJax) {MathJax.Hub.Config({SVG: {font: \"STIX-Web\"}});}\n",
       "        if (typeof require !== 'undefined') {\n",
       "        require.undef(\"plotly\");\n",
       "        requirejs.config({\n",
       "            paths: {\n",
       "                'plotly': ['https://cdn.plot.ly/plotly-latest.min']\n",
       "            }\n",
       "        });\n",
       "        require(['plotly'], function(Plotly) {\n",
       "            window._Plotly = Plotly;\n",
       "        });\n",
       "        }\n",
       "        </script>\n",
       "        "
      ]
     },
     "metadata": {},
     "output_type": "display_data"
    }
   ],
   "source": [
    "import warnings\n",
    "warnings.filterwarnings('ignore')\n",
    "import numpy as np\n",
    "import pandas as pd\n",
    "import seaborn as sns\n",
    "import matplotlib.pyplot as plt\n",
    "%matplotlib inline\n",
    "import plotly as py\n",
    "from plotly.offline import download_plotlyjs, init_notebook_mode, plot, iplot\n",
    "import cufflinks as cf\n",
    "init_notebook_mode(connected=True)\n",
    "cf.go_offline()"
   ]
  },
  {
   "cell_type": "code",
   "execution_count": 2,
   "metadata": {
    "scrolled": true
   },
   "outputs": [],
   "source": [
    "li=['jan1','jan2','jan3']\n",
    "li1=['Final List','Count','Duplicate  Do not consider ']\n",
    "a=0\n",
    "for i in range(3):\n",
    "    exec(\"{}=pd.read_excel('January 2019.xlsx',sheet_name='{}')\".format(li[a],li1[a]))\n",
    "    a+=1"
   ]
  },
  {
   "cell_type": "code",
   "execution_count": 3,
   "metadata": {},
   "outputs": [],
   "source": [
    "li2=['feb1','feb2','feb3']\n",
    "li3=['Final List','Donot consider ',' BRANCH COUNT']\n",
    "b=0\n",
    "for j in range(3):\n",
    "    exec(\"{}=pd.read_excel('February Closure 2019.xlsx',sheet_name='{}')\".format(li2[b],li3[b]))\n",
    "    b+=1"
   ]
  },
  {
   "cell_type": "code",
   "execution_count": 4,
   "metadata": {},
   "outputs": [],
   "source": [
    "li4=['apr1','apr2','apr3','apr4','apr5']\n",
    "li5=['Final List','BD HRC Count','Added in March','Added in Feb','Added in December ']\n",
    "c=0\n",
    "for j in range(5):\n",
    "    exec(\"{}=pd.read_excel('April  2019.xlsx',sheet_name='{}')\".format(li4[c],li5[c]))\n",
    "    c+=1"
   ]
  },
  {
   "cell_type": "code",
   "execution_count": 5,
   "metadata": {},
   "outputs": [],
   "source": [
    "li6=['mar1','mar2','mar3','mar4']\n",
    "li7=['Final List','Added in December closure','Added in Feb closure list ','BD HRC COUNT']\n",
    "d=0\n",
    "for k in range(4):\n",
    "    exec(\"{}=pd.read_excel('March 2019.xlsx',sheet_name='{}')\".format(li6[d],li7[d]))\n",
    "    d+=1"
   ]
  },
  {
   "cell_type": "code",
   "execution_count": 6,
   "metadata": {},
   "outputs": [
    {
     "data": {
      "text/plain": [
       "(89, 17)"
      ]
     },
     "execution_count": 6,
     "metadata": {},
     "output_type": "execute_result"
    }
   ],
   "source": [
    "j1_qsp=jan1[jan1['Branch ']=='BTR QSP']\n",
    "j1_qsp.shape"
   ]
  },
  {
   "cell_type": "code",
   "execution_count": 7,
   "metadata": {},
   "outputs": [
    {
     "data": {
      "text/plain": [
       "(3, 17)"
      ]
     },
     "execution_count": 7,
     "metadata": {},
     "output_type": "execute_result"
    }
   ],
   "source": [
    "j2_qsp=jan3[jan3['Branch ']=='BTR QSP']\n",
    "j2_qsp.shape"
   ]
  },
  {
   "cell_type": "code",
   "execution_count": 8,
   "metadata": {},
   "outputs": [],
   "source": [
    "j_qsp=j1_qsp.append(j2_qsp,ignore_index=True)"
   ]
  },
  {
   "cell_type": "code",
   "execution_count": 9,
   "metadata": {},
   "outputs": [
    {
     "data": {
      "text/plain": [
       "(92, 17)"
      ]
     },
     "execution_count": 9,
     "metadata": {},
     "output_type": "execute_result"
    }
   ],
   "source": [
    "j_qsp.shape"
   ]
  },
  {
   "cell_type": "code",
   "execution_count": 10,
   "metadata": {},
   "outputs": [
    {
     "data": {
      "text/html": [
       "<div>\n",
       "<style scoped>\n",
       "    .dataframe tbody tr th:only-of-type {\n",
       "        vertical-align: middle;\n",
       "    }\n",
       "\n",
       "    .dataframe tbody tr th {\n",
       "        vertical-align: top;\n",
       "    }\n",
       "\n",
       "    .dataframe thead th {\n",
       "        text-align: right;\n",
       "    }\n",
       "</style>\n",
       "<table border=\"1\" class=\"dataframe\">\n",
       "  <thead>\n",
       "    <tr style=\"text-align: right;\">\n",
       "      <th></th>\n",
       "      <th>SL No</th>\n",
       "      <th>Company Name</th>\n",
       "      <th>Location</th>\n",
       "      <th>Branch</th>\n",
       "      <th>Skill</th>\n",
       "      <th>DOJ</th>\n",
       "      <th>Name</th>\n",
       "      <th>Contact No</th>\n",
       "      <th>Email ID</th>\n",
       "      <th>Degree</th>\n",
       "      <th>Stream</th>\n",
       "      <th>YOP</th>\n",
       "      <th>10th</th>\n",
       "      <th>12th</th>\n",
       "      <th>Deg %</th>\n",
       "      <th>Masters</th>\n",
       "      <th>Status</th>\n",
       "    </tr>\n",
       "  </thead>\n",
       "  <tbody>\n",
       "    <tr>\n",
       "      <td>0</td>\n",
       "      <td>1</td>\n",
       "      <td>Aavana</td>\n",
       "      <td>Bangalore</td>\n",
       "      <td>BTR QSP</td>\n",
       "      <td>Testing</td>\n",
       "      <td>2019-01-29</td>\n",
       "      <td>Geetanjali Munagekar</td>\n",
       "      <td>9945769452</td>\n",
       "      <td>geetanjaligmunagekar@gmail.com</td>\n",
       "      <td>BE</td>\n",
       "      <td>ECE</td>\n",
       "      <td>2018.0</td>\n",
       "      <td>84.8</td>\n",
       "      <td>56.66</td>\n",
       "      <td>70</td>\n",
       "      <td>NaN</td>\n",
       "      <td>NaN</td>\n",
       "    </tr>\n",
       "    <tr>\n",
       "      <td>1</td>\n",
       "      <td>14</td>\n",
       "      <td>Aeries Technology Group</td>\n",
       "      <td>Bangalore</td>\n",
       "      <td>BTR QSP</td>\n",
       "      <td>Testing</td>\n",
       "      <td>2019-01-21</td>\n",
       "      <td>Sushmitha N C</td>\n",
       "      <td>8861403211</td>\n",
       "      <td>csushmitha1494@gmail.com</td>\n",
       "      <td>BE</td>\n",
       "      <td>ECE</td>\n",
       "      <td>2016.0</td>\n",
       "      <td>92.32</td>\n",
       "      <td>71.33</td>\n",
       "      <td>72.08</td>\n",
       "      <td>NaN</td>\n",
       "      <td>NaN</td>\n",
       "    </tr>\n",
       "    <tr>\n",
       "      <td>2</td>\n",
       "      <td>22</td>\n",
       "      <td>Agile Point</td>\n",
       "      <td>Bangalore</td>\n",
       "      <td>BTR QSP</td>\n",
       "      <td>Testing</td>\n",
       "      <td>2019-01-02</td>\n",
       "      <td>Mahalakshmi C M</td>\n",
       "      <td>8147687499</td>\n",
       "      <td>cmmahalakshmi03@gmail.com</td>\n",
       "      <td>BE</td>\n",
       "      <td>EEE</td>\n",
       "      <td>2018.0</td>\n",
       "      <td>85.44</td>\n",
       "      <td>77.00</td>\n",
       "      <td>65</td>\n",
       "      <td>NaN</td>\n",
       "      <td>NaN</td>\n",
       "    </tr>\n",
       "    <tr>\n",
       "      <td>3</td>\n",
       "      <td>30</td>\n",
       "      <td>Aravind Internet</td>\n",
       "      <td>Bangalore</td>\n",
       "      <td>BTR QSP</td>\n",
       "      <td>Testing</td>\n",
       "      <td>2019-01-28</td>\n",
       "      <td>Sushmita P Govekar</td>\n",
       "      <td>9480492408</td>\n",
       "      <td>sushmita96govekar@gmail.com</td>\n",
       "      <td>BE</td>\n",
       "      <td>ECE</td>\n",
       "      <td>2018.0</td>\n",
       "      <td>84.6</td>\n",
       "      <td>69.80</td>\n",
       "      <td>70.8</td>\n",
       "      <td>NaN</td>\n",
       "      <td>NaN</td>\n",
       "    </tr>\n",
       "    <tr>\n",
       "      <td>4</td>\n",
       "      <td>125</td>\n",
       "      <td>Cigniti</td>\n",
       "      <td>Bangalore</td>\n",
       "      <td>BTR QSP</td>\n",
       "      <td>Testing</td>\n",
       "      <td>2019-01-04</td>\n",
       "      <td>Aishwaraya</td>\n",
       "      <td>9481517664</td>\n",
       "      <td>aishuangadi28@gmail.com</td>\n",
       "      <td>BE</td>\n",
       "      <td>ECE</td>\n",
       "      <td>2018.0</td>\n",
       "      <td>84.6</td>\n",
       "      <td>82.50</td>\n",
       "      <td>76.6</td>\n",
       "      <td>NaN</td>\n",
       "      <td>NaN</td>\n",
       "    </tr>\n",
       "    <tr>\n",
       "      <td>...</td>\n",
       "      <td>...</td>\n",
       "      <td>...</td>\n",
       "      <td>...</td>\n",
       "      <td>...</td>\n",
       "      <td>...</td>\n",
       "      <td>...</td>\n",
       "      <td>...</td>\n",
       "      <td>...</td>\n",
       "      <td>...</td>\n",
       "      <td>...</td>\n",
       "      <td>...</td>\n",
       "      <td>...</td>\n",
       "      <td>...</td>\n",
       "      <td>...</td>\n",
       "      <td>...</td>\n",
       "      <td>...</td>\n",
       "      <td>...</td>\n",
       "    </tr>\n",
       "    <tr>\n",
       "      <td>87</td>\n",
       "      <td>640</td>\n",
       "      <td>Unilog</td>\n",
       "      <td>Bangalore</td>\n",
       "      <td>BTR QSP</td>\n",
       "      <td>Testing</td>\n",
       "      <td>2019-01-03</td>\n",
       "      <td>Ravi Chandra M</td>\n",
       "      <td>8553979448</td>\n",
       "      <td>ravim.gowda.79@gmail.com</td>\n",
       "      <td>BE</td>\n",
       "      <td>CSE</td>\n",
       "      <td>2018.0</td>\n",
       "      <td>75</td>\n",
       "      <td>65.00</td>\n",
       "      <td>60</td>\n",
       "      <td>NaN</td>\n",
       "      <td>NaN</td>\n",
       "    </tr>\n",
       "    <tr>\n",
       "      <td>88</td>\n",
       "      <td>641</td>\n",
       "      <td>Unilog</td>\n",
       "      <td>Bangalore</td>\n",
       "      <td>BTR QSP</td>\n",
       "      <td>Testing</td>\n",
       "      <td>2019-01-03</td>\n",
       "      <td>Rajith M D</td>\n",
       "      <td>8971539498</td>\n",
       "      <td>rajithmd36@gmail.com</td>\n",
       "      <td>BE</td>\n",
       "      <td>CSE</td>\n",
       "      <td>2018.0</td>\n",
       "      <td>66.8</td>\n",
       "      <td>72.00</td>\n",
       "      <td>65.75</td>\n",
       "      <td>NaN</td>\n",
       "      <td>NaN</td>\n",
       "    </tr>\n",
       "    <tr>\n",
       "      <td>89</td>\n",
       "      <td>1</td>\n",
       "      <td>Aeries Technology Group</td>\n",
       "      <td>Bangalore</td>\n",
       "      <td>BTR QSP</td>\n",
       "      <td>Testing</td>\n",
       "      <td>2019-01-21</td>\n",
       "      <td>Chaithra</td>\n",
       "      <td>8884859580</td>\n",
       "      <td>chetuchaya123@gmail.com</td>\n",
       "      <td>Mtech</td>\n",
       "      <td>EEE</td>\n",
       "      <td>2018.0</td>\n",
       "      <td>85</td>\n",
       "      <td>53.00</td>\n",
       "      <td>58</td>\n",
       "      <td>64.0</td>\n",
       "      <td>Added in Sep</td>\n",
       "    </tr>\n",
       "    <tr>\n",
       "      <td>90</td>\n",
       "      <td>10</td>\n",
       "      <td>Sonata Software</td>\n",
       "      <td>Bangalore</td>\n",
       "      <td>BTR QSP</td>\n",
       "      <td>Generic</td>\n",
       "      <td>2019-01-03</td>\n",
       "      <td>Balakrishna B</td>\n",
       "      <td>8105630834</td>\n",
       "      <td>balakrishnab845@gmail.com</td>\n",
       "      <td>BE</td>\n",
       "      <td>CSE</td>\n",
       "      <td>2018.0</td>\n",
       "      <td>75</td>\n",
       "      <td>71.00</td>\n",
       "      <td>62</td>\n",
       "      <td>NaN</td>\n",
       "      <td>Added in October</td>\n",
       "    </tr>\n",
       "    <tr>\n",
       "      <td>91</td>\n",
       "      <td>11</td>\n",
       "      <td>Sonata Software</td>\n",
       "      <td>Bangalore</td>\n",
       "      <td>BTR QSP</td>\n",
       "      <td>Testing</td>\n",
       "      <td>2019-01-03</td>\n",
       "      <td>Sahana Y S</td>\n",
       "      <td>9071257174</td>\n",
       "      <td>sahanays315@gmail.com</td>\n",
       "      <td>BE</td>\n",
       "      <td>ECE</td>\n",
       "      <td>2018.0</td>\n",
       "      <td>70</td>\n",
       "      <td>61.00</td>\n",
       "      <td>61.7</td>\n",
       "      <td>NaN</td>\n",
       "      <td>Added in Sep</td>\n",
       "    </tr>\n",
       "  </tbody>\n",
       "</table>\n",
       "<p>92 rows × 17 columns</p>\n",
       "</div>"
      ],
      "text/plain": [
       "    SL No             Company Name   Location  Branch     Skill        DOJ  \\\n",
       "0       1                   Aavana  Bangalore  BTR QSP  Testing 2019-01-29   \n",
       "1      14  Aeries Technology Group  Bangalore  BTR QSP  Testing 2019-01-21   \n",
       "2      22              Agile Point  Bangalore  BTR QSP  Testing 2019-01-02   \n",
       "3      30         Aravind Internet  Bangalore  BTR QSP  Testing 2019-01-28   \n",
       "4     125                  Cigniti  Bangalore  BTR QSP  Testing 2019-01-04   \n",
       "..    ...                      ...        ...      ...      ...        ...   \n",
       "87    640                   Unilog  Bangalore  BTR QSP  Testing 2019-01-03   \n",
       "88    641                   Unilog  Bangalore  BTR QSP  Testing 2019-01-03   \n",
       "89      1  Aeries Technology Group  Bangalore  BTR QSP  Testing 2019-01-21   \n",
       "90     10          Sonata Software  Bangalore  BTR QSP  Generic 2019-01-03   \n",
       "91     11          Sonata Software  Bangalore  BTR QSP  Testing 2019-01-03   \n",
       "\n",
       "                    Name  Contact No                        Email ID Degree  \\\n",
       "0   Geetanjali Munagekar  9945769452  geetanjaligmunagekar@gmail.com     BE   \n",
       "1          Sushmitha N C  8861403211        csushmitha1494@gmail.com     BE   \n",
       "2        Mahalakshmi C M  8147687499       cmmahalakshmi03@gmail.com     BE   \n",
       "3     Sushmita P Govekar  9480492408     sushmita96govekar@gmail.com     BE   \n",
       "4             Aishwaraya  9481517664         aishuangadi28@gmail.com     BE   \n",
       "..                   ...         ...                             ...    ...   \n",
       "87        Ravi Chandra M  8553979448        ravim.gowda.79@gmail.com     BE   \n",
       "88            Rajith M D  8971539498            rajithmd36@gmail.com     BE   \n",
       "89              Chaithra  8884859580         chetuchaya123@gmail.com  Mtech   \n",
       "90         Balakrishna B  8105630834       balakrishnab845@gmail.com     BE   \n",
       "91            Sahana Y S  9071257174           sahanays315@gmail.com     BE   \n",
       "\n",
       "   Stream     YOP   10th   12th  Deg %  Masters            Status   \n",
       "0     ECE  2018.0   84.8  56.66     70      NaN                NaN  \n",
       "1     ECE  2016.0  92.32  71.33  72.08      NaN                NaN  \n",
       "2     EEE  2018.0  85.44  77.00     65      NaN                NaN  \n",
       "3     ECE  2018.0   84.6  69.80   70.8      NaN                NaN  \n",
       "4     ECE  2018.0   84.6  82.50   76.6      NaN                NaN  \n",
       "..    ...     ...    ...    ...    ...      ...                ...  \n",
       "87    CSE  2018.0     75  65.00     60      NaN                NaN  \n",
       "88    CSE  2018.0   66.8  72.00  65.75      NaN                NaN  \n",
       "89    EEE  2018.0     85  53.00     58     64.0       Added in Sep  \n",
       "90    CSE  2018.0     75  71.00     62      NaN  Added in October   \n",
       "91    ECE  2018.0     70  61.00   61.7      NaN       Added in Sep  \n",
       "\n",
       "[92 rows x 17 columns]"
      ]
     },
     "execution_count": 10,
     "metadata": {},
     "output_type": "execute_result"
    }
   ],
   "source": [
    "j_qsp"
   ]
  },
  {
   "cell_type": "code",
   "execution_count": 11,
   "metadata": {},
   "outputs": [],
   "source": [
    "m1_qsp=mar1[mar1['Branch ']=='BTR QSP']"
   ]
  },
  {
   "cell_type": "code",
   "execution_count": 12,
   "metadata": {},
   "outputs": [],
   "source": [
    "m2_qsp=mar3[mar3['Branch ']=='BTR QSP']"
   ]
  },
  {
   "cell_type": "code",
   "execution_count": 13,
   "metadata": {},
   "outputs": [],
   "source": [
    "m_qsp=m1_qsp.append(m2_qsp,ignore_index=True)"
   ]
  },
  {
   "cell_type": "code",
   "execution_count": 14,
   "metadata": {},
   "outputs": [],
   "source": [
    "a1_qsp=apr1[apr1['Branch']=='BTR QSP']"
   ]
  },
  {
   "cell_type": "code",
   "execution_count": 15,
   "metadata": {},
   "outputs": [],
   "source": [
    "a2_qsp=apr5[apr5['Branch']=='BTR QSP']"
   ]
  },
  {
   "cell_type": "code",
   "execution_count": 16,
   "metadata": {},
   "outputs": [],
   "source": [
    "f_qsp=feb1[feb1['Branch ']=='BTR QSP']"
   ]
  },
  {
   "cell_type": "code",
   "execution_count": 17,
   "metadata": {},
   "outputs": [],
   "source": [
    "a_qsp=a1_qsp.append(a2_qsp,ignore_index=True)"
   ]
  },
  {
   "cell_type": "code",
   "execution_count": 18,
   "metadata": {},
   "outputs": [],
   "source": [
    "m_qsp.rename(columns={'Candidate Name':'Name','Degree ':'Deg %'},inplace=True)\n",
    "a_qsp.rename(columns={'Degree.1':'Deg %'},inplace=True)"
   ]
  },
  {
   "cell_type": "code",
   "execution_count": 19,
   "metadata": {},
   "outputs": [],
   "source": [
    "j_qsp.rename(columns=lambda x: x.strip(),inplace=True)\n",
    "m_qsp.rename(columns=lambda x: x.strip(),inplace=True)\n",
    "f_qsp.rename(columns=lambda x: x.strip(),inplace=True)"
   ]
  },
  {
   "cell_type": "code",
   "execution_count": 20,
   "metadata": {},
   "outputs": [
    {
     "data": {
      "text/plain": [
       "Index(['SL No', 'Company Name', 'Location', 'Branch', 'Skill', 'DOJ', 'Name',\n",
       "       'Contact No', 'Email ID', 'Degree', 'Stream', 'YOP', '10th', '12th',\n",
       "       'Deg %', 'Masters', 'Status'],\n",
       "      dtype='object')"
      ]
     },
     "execution_count": 20,
     "metadata": {},
     "output_type": "execute_result"
    }
   ],
   "source": [
    "j_qsp.columns"
   ]
  },
  {
   "cell_type": "code",
   "execution_count": 21,
   "metadata": {},
   "outputs": [
    {
     "data": {
      "text/plain": [
       "Index(['SL No', 'Company Name', 'Location', 'Branch', 'Skill', 'DOJ', 'Name',\n",
       "       'Contact No', 'Email ID', 'Degree', 'Stream', 'YOP', '10th', '12th',\n",
       "       'Deg %', 'Masters', 'CTC', 'Status'],\n",
       "      dtype='object')"
      ]
     },
     "execution_count": 21,
     "metadata": {},
     "output_type": "execute_result"
    }
   ],
   "source": [
    "f_qsp.columns"
   ]
  },
  {
   "cell_type": "code",
   "execution_count": 22,
   "metadata": {},
   "outputs": [
    {
     "data": {
      "text/plain": [
       "Index(['SL No', 'Company Name', 'Location', 'Branch', 'Skill', 'DOJ', 'Name',\n",
       "       'Contact No', 'Email ID', 'Degree', 'Stream', 'YOP', '10th', '12th',\n",
       "       'Deg %', 'Masters', 'CTC'],\n",
       "      dtype='object')"
      ]
     },
     "execution_count": 22,
     "metadata": {},
     "output_type": "execute_result"
    }
   ],
   "source": [
    "m_qsp.columns"
   ]
  },
  {
   "cell_type": "code",
   "execution_count": 23,
   "metadata": {},
   "outputs": [
    {
     "data": {
      "text/plain": [
       "Index(['SL No', 'Company Name', 'Location', 'Branch', 'Skill', 'DOJ', 'Name',\n",
       "       'Contact No', 'Email ID', 'Degree', 'Stream', 'YOP', '10th', '12th',\n",
       "       'Deg %', 'Masters'],\n",
       "      dtype='object')"
      ]
     },
     "execution_count": 23,
     "metadata": {},
     "output_type": "execute_result"
    }
   ],
   "source": [
    "a_qsp.columns"
   ]
  },
  {
   "cell_type": "code",
   "execution_count": null,
   "metadata": {},
   "outputs": [],
   "source": []
  },
  {
   "cell_type": "code",
   "execution_count": 24,
   "metadata": {},
   "outputs": [],
   "source": [
    "Final_qsp=j_qsp.append([f_qsp,m_qsp,a_qsp],ignore_index=True)"
   ]
  },
  {
   "cell_type": "code",
   "execution_count": 26,
   "metadata": {},
   "outputs": [
    {
     "data": {
      "text/plain": [
       "Kavya Rudrappa      2\n",
       "Chandana K S        2\n",
       "Harshitha R J       1\n",
       "Chaitra B V         1\n",
       "Praneeth Kumar M    1\n",
       "                   ..\n",
       "Sahana Y S          1\n",
       "SANDYASHREE M       1\n",
       "Swapna Latha N      1\n",
       "Ashwini             1\n",
       "Deep Anand          1\n",
       "Name: Name, Length: 301, dtype: int64"
      ]
     },
     "execution_count": 26,
     "metadata": {},
     "output_type": "execute_result"
    }
   ],
   "source": [
    "Final_qsp['Name'].value_counts()"
   ]
  },
  {
   "cell_type": "code",
   "execution_count": 27,
   "metadata": {},
   "outputs": [
    {
     "data": {
      "text/html": [
       "<div>\n",
       "<style scoped>\n",
       "    .dataframe tbody tr th:only-of-type {\n",
       "        vertical-align: middle;\n",
       "    }\n",
       "\n",
       "    .dataframe tbody tr th {\n",
       "        vertical-align: top;\n",
       "    }\n",
       "\n",
       "    .dataframe thead th {\n",
       "        text-align: right;\n",
       "    }\n",
       "</style>\n",
       "<table border=\"1\" class=\"dataframe\">\n",
       "  <thead>\n",
       "    <tr style=\"text-align: right;\">\n",
       "      <th></th>\n",
       "      <th>10th</th>\n",
       "      <th>12th</th>\n",
       "      <th>Branch</th>\n",
       "      <th>CTC</th>\n",
       "      <th>Company Name</th>\n",
       "      <th>Contact No</th>\n",
       "      <th>DOJ</th>\n",
       "      <th>Deg %</th>\n",
       "      <th>Degree</th>\n",
       "      <th>Email ID</th>\n",
       "      <th>Location</th>\n",
       "      <th>Masters</th>\n",
       "      <th>Name</th>\n",
       "      <th>SL No</th>\n",
       "      <th>Skill</th>\n",
       "      <th>Status</th>\n",
       "      <th>Stream</th>\n",
       "      <th>YOP</th>\n",
       "    </tr>\n",
       "  </thead>\n",
       "  <tbody>\n",
       "    <tr>\n",
       "      <td>9</td>\n",
       "      <td>84</td>\n",
       "      <td>77</td>\n",
       "      <td>BTR QSP</td>\n",
       "      <td>NaN</td>\n",
       "      <td>Eka Software</td>\n",
       "      <td>9620410296</td>\n",
       "      <td>2019-01-23</td>\n",
       "      <td>66.54</td>\n",
       "      <td>BE</td>\n",
       "      <td>chandanaks.leo@gmail.com</td>\n",
       "      <td>Bangalore</td>\n",
       "      <td>NaN</td>\n",
       "      <td>Chandana K S</td>\n",
       "      <td>169</td>\n",
       "      <td>Testing</td>\n",
       "      <td>NaN</td>\n",
       "      <td>ISE</td>\n",
       "      <td>2018</td>\n",
       "    </tr>\n",
       "    <tr>\n",
       "      <td>104</td>\n",
       "      <td>50</td>\n",
       "      <td>51</td>\n",
       "      <td>BTR QSP</td>\n",
       "      <td>NaN</td>\n",
       "      <td>Data Template</td>\n",
       "      <td>9844666784</td>\n",
       "      <td>2019-02-11</td>\n",
       "      <td>67</td>\n",
       "      <td>MCA</td>\n",
       "      <td>chandanachandu529@gmail.com</td>\n",
       "      <td>Bangalore</td>\n",
       "      <td>79.6</td>\n",
       "      <td>Chandana K S</td>\n",
       "      <td>358</td>\n",
       "      <td>Testing</td>\n",
       "      <td>NaN</td>\n",
       "      <td>CSE</td>\n",
       "      <td>2018</td>\n",
       "    </tr>\n",
       "  </tbody>\n",
       "</table>\n",
       "</div>"
      ],
      "text/plain": [
       "    10th 12th   Branch  CTC   Company Name  Contact No        DOJ  Deg %  \\\n",
       "9     84   77  BTR QSP  NaN   Eka Software  9620410296 2019-01-23  66.54   \n",
       "104   50   51  BTR QSP  NaN  Data Template  9844666784 2019-02-11     67   \n",
       "\n",
       "    Degree                     Email ID   Location  Masters          Name  \\\n",
       "9       BE     chandanaks.leo@gmail.com  Bangalore      NaN  Chandana K S   \n",
       "104    MCA  chandanachandu529@gmail.com  Bangalore     79.6  Chandana K S   \n",
       "\n",
       "     SL No    Skill Status Stream   YOP  \n",
       "9      169  Testing    NaN    ISE  2018  \n",
       "104    358  Testing    NaN    CSE  2018  "
      ]
     },
     "execution_count": 27,
     "metadata": {},
     "output_type": "execute_result"
    }
   ],
   "source": [
    "Final_qsp[Final_qsp['Name']=='Chandana K S']"
   ]
  },
  {
   "cell_type": "code",
   "execution_count": 28,
   "metadata": {},
   "outputs": [
    {
     "data": {
      "text/html": [
       "<div>\n",
       "<style scoped>\n",
       "    .dataframe tbody tr th:only-of-type {\n",
       "        vertical-align: middle;\n",
       "    }\n",
       "\n",
       "    .dataframe tbody tr th {\n",
       "        vertical-align: top;\n",
       "    }\n",
       "\n",
       "    .dataframe thead th {\n",
       "        text-align: right;\n",
       "    }\n",
       "</style>\n",
       "<table border=\"1\" class=\"dataframe\">\n",
       "  <thead>\n",
       "    <tr style=\"text-align: right;\">\n",
       "      <th></th>\n",
       "      <th>10th</th>\n",
       "      <th>12th</th>\n",
       "      <th>Branch</th>\n",
       "      <th>CTC</th>\n",
       "      <th>Company Name</th>\n",
       "      <th>Contact No</th>\n",
       "      <th>DOJ</th>\n",
       "      <th>Deg %</th>\n",
       "      <th>Degree</th>\n",
       "      <th>Email ID</th>\n",
       "      <th>Location</th>\n",
       "      <th>Masters</th>\n",
       "      <th>Name</th>\n",
       "      <th>SL No</th>\n",
       "      <th>Skill</th>\n",
       "      <th>Status</th>\n",
       "      <th>Stream</th>\n",
       "      <th>YOP</th>\n",
       "    </tr>\n",
       "  </thead>\n",
       "  <tbody>\n",
       "    <tr>\n",
       "      <td>145</td>\n",
       "      <td>83</td>\n",
       "      <td>82</td>\n",
       "      <td>BTR QSP</td>\n",
       "      <td>2.2 LPA</td>\n",
       "      <td>Trigent Software Limited</td>\n",
       "      <td>8296079243, 8904802947</td>\n",
       "      <td>2019-02-11</td>\n",
       "      <td>71</td>\n",
       "      <td>BE</td>\n",
       "      <td>kbhadrapur016@gmail.com</td>\n",
       "      <td>Bangalore</td>\n",
       "      <td>NaN</td>\n",
       "      <td>Kavya Rudrappa</td>\n",
       "      <td>802</td>\n",
       "      <td>Testing</td>\n",
       "      <td>NaN</td>\n",
       "      <td>ECE</td>\n",
       "      <td>2018</td>\n",
       "    </tr>\n",
       "    <tr>\n",
       "      <td>245</td>\n",
       "      <td>83</td>\n",
       "      <td>82</td>\n",
       "      <td>BTR QSP</td>\n",
       "      <td>NaN</td>\n",
       "      <td>Amdocs</td>\n",
       "      <td>8296079243 / 8904800000</td>\n",
       "      <td>2019-03-04</td>\n",
       "      <td>71</td>\n",
       "      <td>BE</td>\n",
       "      <td>kbhadrapur016@gmail.com</td>\n",
       "      <td>Bangalore</td>\n",
       "      <td>NaN</td>\n",
       "      <td>Kavya Rudrappa</td>\n",
       "      <td>1</td>\n",
       "      <td>Testing</td>\n",
       "      <td>NaN</td>\n",
       "      <td>ECE</td>\n",
       "      <td>2018</td>\n",
       "    </tr>\n",
       "  </tbody>\n",
       "</table>\n",
       "</div>"
      ],
      "text/plain": [
       "    10th 12th   Branch      CTC               Company Name  \\\n",
       "145   83   82  BTR QSP  2.2 LPA  Trigent Software Limited    \n",
       "245   83   82  BTR QSP      NaN                     Amdocs   \n",
       "\n",
       "                  Contact No        DOJ Deg % Degree                 Email ID  \\\n",
       "145   8296079243, 8904802947 2019-02-11    71     BE  kbhadrapur016@gmail.com   \n",
       "245  8296079243 / 8904800000 2019-03-04    71     BE  kbhadrapur016@gmail.com   \n",
       "\n",
       "      Location  Masters            Name  SL No    Skill Status Stream   YOP  \n",
       "145  Bangalore      NaN  Kavya Rudrappa    802  Testing    NaN    ECE  2018  \n",
       "245  Bangalore      NaN  Kavya Rudrappa      1  Testing    NaN    ECE  2018  "
      ]
     },
     "execution_count": 28,
     "metadata": {},
     "output_type": "execute_result"
    }
   ],
   "source": [
    "Final_qsp[Final_qsp['Name']=='Kavya Rudrappa']"
   ]
  },
  {
   "cell_type": "code",
   "execution_count": 29,
   "metadata": {},
   "outputs": [],
   "source": [
    "pd.set_option('display.max_rows',None)"
   ]
  },
  {
   "cell_type": "code",
   "execution_count": 30,
   "metadata": {
    "scrolled": true
   },
   "outputs": [
    {
     "data": {
      "text/plain": [
       "9611263999                 1\n",
       "8548987542                 1\n",
       "7829081494                 1\n",
       "8971866270                 1\n",
       "9964351135                 1\n",
       "9663224993                 1\n",
       "7349536349                 1\n",
       "8217658532                 1\n",
       "8824319401                 1\n",
       "8762181496                 1\n",
       "8792766635                 1\n",
       "8951774381                 1\n",
       "8762755824                 1\n",
       "9986512561                 1\n",
       "9036776056                 1\n",
       "9741522616                 1\n",
       "8050240185                 1\n",
       "9482519704                 1\n",
       "8296652949                 1\n",
       "8105000635                 1\n",
       "8296079243, 8904802947     1\n",
       "9483050014                 1\n",
       "7259207288                 1\n",
       "9505138492                 1\n",
       "8792679546                 1\n",
       "8848516731                 1\n",
       "9591568476                 1\n",
       "9035322592                 1\n",
       "8884894846                 1\n",
       "7411699328                 1\n",
       "9949098357                 1\n",
       "9110296989 / 9341241856    1\n",
       "8277557893                 1\n",
       "8105833096                 1\n",
       "9035827343                 1\n",
       "9008918600                 1\n",
       "7057141733                 1\n",
       "8884859580                 1\n",
       "8147284170                 1\n",
       "9480716182                 1\n",
       "9686895324                 1\n",
       "9591550173                 1\n",
       "7829695200                 1\n",
       "9611601850                 1\n",
       "8884582628                 1\n",
       "9591704805                 1\n",
       "9901562977                 1\n",
       "9880980241                 1\n",
       "9449018600                 1\n",
       "8971009257                 1\n",
       "9663472874                 1\n",
       "7386138734                 1\n",
       "8886797969                 1\n",
       "9480995054                 1\n",
       "9740663210                 1\n",
       "7702047450                 1\n",
       "9663465685                 1\n",
       "9900398753                 1\n",
       "97425171778147303424       1\n",
       "9632241343                 1\n",
       "9742993088                 1\n",
       "9880772289                 1\n",
       "9036459202                 1\n",
       "7892251765                 1\n",
       "8228088004                 1\n",
       "8792448929                 1\n",
       "8884164714                 1\n",
       "7349783240                 1\n",
       "7899385324                 1\n",
       "9964437196                 1\n",
       "7406296269                 1\n",
       "9483243726                 1\n",
       "8197221034,9663391087      1\n",
       "9071257174                 1\n",
       "9176038517                 1\n",
       "9480543345                 1\n",
       "8668143096                 1\n",
       "7906181667                 1\n",
       "9916129628                 1\n",
       "9449722921                 1\n",
       "8971539498                 1\n",
       "9901431046                 1\n",
       "8861748781                 1\n",
       "9886309422                 1\n",
       "7411169839                 1\n",
       "8904920624                 1\n",
       "9900806705                 1\n",
       "9916208179                 1\n",
       "8150885430                 1\n",
       "8553979448                 1\n",
       "7019618361                 1\n",
       "9611828282                 1\n",
       "9972170299                 1\n",
       "9743592485                 1\n",
       "9620733982                 1\n",
       "6362164940                 1\n",
       "8746997281,8317346342      1\n",
       "9742967324                 1\n",
       "7760462854                 1\n",
       "8217366094                 1\n",
       "7337650184                 1\n",
       "7737412617                 1\n",
       "9620268044                 1\n",
       "9655673792/9791800000      1\n",
       "8073161744                 1\n",
       "9686460271                 1\n",
       "8095389203                 1\n",
       "8951608332,8762274340      1\n",
       "8197847574                 1\n",
       "7325060632                 1\n",
       "9164547611                 1\n",
       "9449548875                 1\n",
       "8277766880                 1\n",
       "8105630834                 1\n",
       "9611914863                 1\n",
       "9980075097                 1\n",
       "8792279644                 1\n",
       "81477417329108500480       1\n",
       "8123804254                 1\n",
       "8973535327                 1\n",
       "9483875936                 1\n",
       "9620391906                 1\n",
       "8884730291                 1\n",
       "8147650657                 1\n",
       "9483969477                 1\n",
       "8277159017                 1\n",
       "9480242794                 1\n",
       "8553021035                 1\n",
       "9060709996                 1\n",
       "9148758573                 1\n",
       "8497885484                 1\n",
       "9449245007                 1\n",
       "9686355962                 1\n",
       "7406596162                 1\n",
       "9480600970                 1\n",
       "7996612840                 1\n",
       "8867140547                 1\n",
       "7019736135                 1\n",
       "8971298545                 1\n",
       "8762625610                 1\n",
       "8147687499                 1\n",
       "8147225676                 1\n",
       "9740008013                 1\n",
       "9986124366                 1\n",
       "9986017871                 1\n",
       "8792138566 / 8729100000    1\n",
       "9148832339                 1\n",
       "8985503828                 1\n",
       "8762285653                 1\n",
       "8884363862                 1\n",
       "7846069941                 1\n",
       "9738326446                 1\n",
       "8151851518                 1\n",
       "9901203877                 1\n",
       "8917698984                 1\n",
       "8277766569                 1\n",
       "9535450027                 1\n",
       "8105887660                 1\n",
       "9448689235                 1\n",
       "8277715374                 1\n",
       "9686067119                 1\n",
       "9901606321                 1\n",
       "7349108659                 1\n",
       "8296668087                 1\n",
       "9620410296                 1\n",
       "9739961785                 1\n",
       "6361511909                 1\n",
       "9900848059                 1\n",
       "9036560966                 1\n",
       "7353005991                 1\n",
       "8550012324                 1\n",
       "9482712513                 1\n",
       "9483317155                 1\n",
       "7353589129                 1\n",
       "9482286990                 1\n",
       "9164002756                 1\n",
       "7892409009                 1\n",
       "8105504812                 1\n",
       "9916979090                 1\n",
       "7598869396                 1\n",
       "9739651478                 1\n",
       "9379380633                 1\n",
       "9483629466                 1\n",
       "8722649173                 1\n",
       "8861403211                 1\n",
       "9742043679,7204646613      1\n",
       "9844666784                 1\n",
       "9966323801                 1\n",
       "9964213184                 1\n",
       "9900987332                 1\n",
       "8151003522                 1\n",
       "9741734367                 1\n",
       "9945091543                 1\n",
       "7259765220                 1\n",
       "7411578344                 1\n",
       "7760090086                 1\n",
       "9449286632                 1\n",
       "8970257069                 1\n",
       "7406826476                 1\n",
       "9686930413                 1\n",
       "9845281268                 1\n",
       "8095036406                 1\n",
       "9972704760                 1\n",
       "8618888100                 1\n",
       "8088450042                 1\n",
       "9986677756                 1\n",
       "8105810429                 1\n",
       "9741581747                 1\n",
       "9538317790                 1\n",
       "9535390661                 1\n",
       "9576676829                 1\n",
       "8867203526                 1\n",
       "9620925532                 1\n",
       "9945769452                 1\n",
       "9606266826                 1\n",
       "9480974795                 1\n",
       "9902540472                 1\n",
       "9611608016                 1\n",
       "7353996242                 1\n",
       "9036482004                 1\n",
       "9552845216                 1\n",
       "7760177623                 1\n",
       "9544276907                 1\n",
       "9740251835                 1\n",
       "8147799514                 1\n",
       "8197675609                 1\n",
       "9945482115                 1\n",
       "8105454463                 1\n",
       "7259723340                 1\n",
       "8088430330                 1\n",
       "8095935045                 1\n",
       "9739597595                 1\n",
       "8971869824/8660500000      1\n",
       "8296079243 / 8904800000    1\n",
       "9538385338                 1\n",
       "9606719401                 1\n",
       "8884888517                 1\n",
       "8618607017                 1\n",
       "8951716306                 1\n",
       "8867184426                 1\n",
       "9840971374                 1\n",
       "7259623656                 1\n",
       "8722346970                 1\n",
       "8147539249                 1\n",
       "9480492408                 1\n",
       "7899904955                 1\n",
       "7899503895                 1\n",
       "7337725750                 1\n",
       "8722783337                 1\n",
       "7022108699                 1\n",
       "8546961378                 1\n",
       "9481517664                 1\n",
       "6360566523                 1\n",
       "8050620156                 1\n",
       "9844459774                 1\n",
       "9611589337                 1\n",
       "9481755394                 1\n",
       "9703527684                 1\n",
       "9538414344                 1\n",
       "9686332683                 1\n",
       "9738303759                 1\n",
       "9588628753                 1\n",
       "9599932178                 1\n",
       "8762690323                 1\n",
       "9972275509                 1\n",
       "8296983982                 1\n",
       "9449891966                 1\n",
       "8762355550                 1\n",
       "9513153376                 1\n",
       "8792519009                 1\n",
       "8747946606                 1\n",
       "9742086441,9742086441      1\n",
       "9786551142                 1\n",
       "8971884380                 1\n",
       "7539953325                 1\n",
       "8762113020                 1\n",
       "8548043121                 1\n",
       "9739839399                 1\n",
       "9844323189                 1\n",
       "8250095883                 1\n",
       "8050276728                 1\n",
       "9620474233                 1\n",
       "9731095945                 1\n",
       "8105443128                 1\n",
       "8792572765                 1\n",
       "8147977304                 1\n",
       "8951382364                 1\n",
       "9448474543                 1\n",
       "7892736318                 1\n",
       "9959567956                 1\n",
       "9481176896                 1\n",
       "7019152708                 1\n",
       "8861395176                 1\n",
       "8867906889                 1\n",
       "9008170127                 1\n",
       "7741013323                 1\n",
       "8867638605                 1\n",
       "7848893235                 1\n",
       "9110296989                 1\n",
       "9972712277                 1\n",
       "8792077202                 1\n",
       "9632515929                 1\n",
       "9844466180                 1\n",
       "Name: Contact No, dtype: int64"
      ]
     },
     "execution_count": 30,
     "metadata": {},
     "output_type": "execute_result"
    }
   ],
   "source": [
    "Final_qsp['Contact No'].value_counts()"
   ]
  },
  {
   "cell_type": "code",
   "execution_count": 31,
   "metadata": {},
   "outputs": [
    {
     "data": {
      "text/plain": [
       "10th             0.00\n",
       "12th             0.00\n",
       "Branch           0.00\n",
       "CTC             90.76\n",
       "Company Name     0.00\n",
       "Contact No       0.00\n",
       "DOJ              0.00\n",
       "Deg %            0.66\n",
       "Degree           0.00\n",
       "Email ID         0.00\n",
       "Location         0.00\n",
       "Masters         93.40\n",
       "Name             0.00\n",
       "SL No            0.00\n",
       "Skill            0.00\n",
       "Status          99.01\n",
       "Stream           0.00\n",
       "YOP              0.33\n",
       "dtype: float64"
      ]
     },
     "execution_count": 31,
     "metadata": {},
     "output_type": "execute_result"
    }
   ],
   "source": [
    "round(100*Final_qsp.isna().sum()/len(Final_qsp),2)"
   ]
  },
  {
   "cell_type": "code",
   "execution_count": 32,
   "metadata": {},
   "outputs": [],
   "source": [
    "Final_qsp.drop(['CTC','Status'],axis=1,inplace=True)"
   ]
  },
  {
   "cell_type": "code",
   "execution_count": 33,
   "metadata": {},
   "outputs": [],
   "source": [
    "qsp=pd.read_csv('BTR QSp1 data.csv')"
   ]
  },
  {
   "cell_type": "code",
   "execution_count": 34,
   "metadata": {},
   "outputs": [
    {
     "data": {
      "text/plain": [
       "Index(['Nid', 'Name', 'Gender', 'Date of Birth', 'Fresher/Experience',\n",
       "       '10th Board', '10th Aggregate', '10th Year of Pass out', '12th Board',\n",
       "       '12th Course Type', '12th/Diploma/ITI Year of Pass out',\n",
       "       '12th/Diploma/ITI-Aggregate', 'Diploma Course Type', 'Diploma College',\n",
       "       'Other(Diploma College)', 'Diploma Stream', 'Other(Diploma Stream)',\n",
       "       'Diploma University', 'Other(Diploma University)', 'Degree',\n",
       "       'Degree Course Type', 'Degree Year of Pass out', 'Degree College Name',\n",
       "       'Other(Degree College)', 'Degree University',\n",
       "       'Degree University Registration No', 'Degree Aggregate',\n",
       "       'Stream in Degree', 'Other(Degree Stream)',\n",
       "       'Have you done your Master's Degree?', 'Master's Degree',\n",
       "       'Master's Degree Course Type', 'Other(Master's degree)',\n",
       "       'Master's Degree Year of Pass out', 'Master Degree Aggregate',\n",
       "       'Master Degree College Name', 'Other(Master's College)',\n",
       "       'Master's Degree Stream', 'Other(Master's Stream)',\n",
       "       'Master's Degree University',\n",
       "       'Master's Degree University Registration No', 'Branch Enquired',\n",
       "       'Certifications', 'Course(s)', 'Do You Have Pan Card?',\n",
       "       'Do You Have Passport?', 'Other(certifications)', 'Ready to Relocate',\n",
       "       'Already Resigned', 'Currently Are You Working',\n",
       "       'Do You Have Past Work Experience?', 'Highest Degree',\n",
       "       'How Many Months of Gap You Have?', 'Looking For a Job Change',\n",
       "       'Notice Period', 'Other(Highest Degree)',\n",
       "       'Current/ Previous Company Name', 'Current/ Previous CTC',\n",
       "       'Current/ Previous Job Profiles', 'Balance_Fees',\n",
       "       'Other(Degree University)', 'Other(Degree)',\n",
       "       'Other(Master's University)', 'Other(preferred location)',\n",
       "       'Target_fees', 'Preferred Location', 'Photo', 'UID',\n",
       "       'Do You Have Aadhar Card?', 'Native', 'State', 'City',\n",
       "       'Did You Fail and then clear the subject in Degree',\n",
       "       'Did You Fail and then clear the subject in Master Degree',\n",
       "       'Have any existing backlogs in Degree?',\n",
       "       'Have any existing backlogs in Master's Degree?',\n",
       "       'Have you got year gap in Degree?',\n",
       "       'Have you got year gap in Master Degree?', 'Batch', 'nid_incubation',\n",
       "       'Payment Print/Display', 'Payment comments', 'Post date'],\n",
       "      dtype='object')"
      ]
     },
     "execution_count": 34,
     "metadata": {},
     "output_type": "execute_result"
    }
   ],
   "source": [
    "qsp.columns"
   ]
  },
  {
   "cell_type": "code",
   "execution_count": 35,
   "metadata": {},
   "outputs": [
    {
     "data": {
      "text/plain": [
       "Index(['10th', '12th', 'Branch', 'Company Name', 'Contact No', 'DOJ', 'Deg %',\n",
       "       'Degree', 'Email ID', 'Location', 'Masters', 'Name', 'SL No', 'Skill',\n",
       "       'Stream', 'YOP'],\n",
       "      dtype='object')"
      ]
     },
     "execution_count": 35,
     "metadata": {},
     "output_type": "execute_result"
    }
   ],
   "source": [
    "Final_qsp.columns"
   ]
  },
  {
   "cell_type": "code",
   "execution_count": 36,
   "metadata": {},
   "outputs": [],
   "source": [
    "# qsp.where(qsp.values==Final_qsp.values).notna()"
   ]
  },
  {
   "cell_type": "code",
   "execution_count": 41,
   "metadata": {},
   "outputs": [
    {
     "data": {
      "text/plain": [
       "False    3780\n",
       "True      219\n",
       "Name: Name, dtype: int64"
      ]
     },
     "execution_count": 41,
     "metadata": {},
     "output_type": "execute_result"
    }
   ],
   "source": [
    "qsp['Name'].isin(Final_qsp['Name']).value_counts()"
   ]
  },
  {
   "cell_type": "code",
   "execution_count": 23,
   "metadata": {},
   "outputs": [
    {
     "ename": "SyntaxError",
     "evalue": "invalid syntax (<ipython-input-23-72e6ce61451c>, line 8)",
     "output_type": "error",
     "traceback": [
      "\u001b[0;36m  File \u001b[0;32m\"<ipython-input-23-72e6ce61451c>\"\u001b[0;36m, line \u001b[0;32m8\u001b[0m\n\u001b[0;31m    student_marks[query_name]:\u001b[0m\n\u001b[0m                              ^\u001b[0m\n\u001b[0;31mSyntaxError\u001b[0m\u001b[0;31m:\u001b[0m invalid syntax\n"
     ]
    }
   ],
   "source": [
    "n = int(input())\n",
    "student_marks = {}\n",
    "for i in range(n):\n",
    "    name, *line = input().split()\n",
    "    scores = list(map(float, line))\n",
    "    student_marks[name] = scores\n",
    "query_name = input()\n",
    "student_marks[query_name]\n"
   ]
  },
  {
   "cell_type": "code",
   "execution_count": 11,
   "metadata": {},
   "outputs": [
    {
     "data": {
      "text/plain": [
       "''"
      ]
     },
     "execution_count": 11,
     "metadata": {},
     "output_type": "execute_result"
    }
   ],
   "source": [
    "2\n",
    "Harsh 25 26.5 28\n",
    "Anurag 26 28 30\n",
    "Harsh"
   ]
  },
  {
   "cell_type": "code",
   "execution_count": 44,
   "metadata": {},
   "outputs": [],
   "source": [
    "res=0\n",
    "for j in student_marks[query_name]:\n",
    "    res+=j/3"
   ]
  },
  {
   "cell_type": "code",
   "execution_count": 45,
   "metadata": {},
   "outputs": [
    {
     "data": {
      "text/plain": [
       "26.5"
      ]
     },
     "execution_count": 45,
     "metadata": {},
     "output_type": "execute_result"
    }
   ],
   "source": [
    "print(res)"
   ]
  },
  {
   "cell_type": "code",
   "execution_count": 48,
   "metadata": {},
   "outputs": [
    {
     "name": "stdout",
     "output_type": "stream",
     "text": [
      "3713081631934410656\n"
     ]
    }
   ],
   "source": [
    "t=1,2\n",
    "print(hash(t))"
   ]
  },
  {
   "cell_type": "code",
   "execution_count": 24,
   "metadata": {},
   "outputs": [
    {
     "name": "stdout",
     "output_type": "stream",
     "text": [
      "ABCD\n",
      "EFGH\n",
      "IJKL\n",
      "MNOP\n",
      "QRST\n",
      "UVWX\n",
      "YZ\n"
     ]
    }
   ],
   "source": [
    "s='ABCDEFGHIJKLMNOPQRSTUVWXYZ'\n",
    "a=0\n",
    "b=4\n",
    "for i in range(len(s)//4+1):\n",
    "    print(s[a:b])\n",
    "    a+=4\n",
    "    b+=4"
   ]
  },
  {
   "cell_type": "code",
   "execution_count": null,
   "metadata": {},
   "outputs": [],
   "source": []
  }
 ],
 "metadata": {
  "kernelspec": {
   "display_name": "Python 3",
   "language": "python",
   "name": "python3"
  },
  "language_info": {
   "codemirror_mode": {
    "name": "ipython",
    "version": 3
   },
   "file_extension": ".py",
   "mimetype": "text/x-python",
   "name": "python",
   "nbconvert_exporter": "python",
   "pygments_lexer": "ipython3",
   "version": "3.7.4"
  }
 },
 "nbformat": 4,
 "nbformat_minor": 2
}
