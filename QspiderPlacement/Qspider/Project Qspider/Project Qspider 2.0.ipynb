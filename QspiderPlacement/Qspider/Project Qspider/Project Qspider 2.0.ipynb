{
 "cells": [
  {
   "cell_type": "code",
   "execution_count": 1,
   "metadata": {},
   "outputs": [
    {
     "data": {
      "text/html": [
       "        <script type=\"text/javascript\">\n",
       "        window.PlotlyConfig = {MathJaxConfig: 'local'};\n",
       "        if (window.MathJax) {MathJax.Hub.Config({SVG: {font: \"STIX-Web\"}});}\n",
       "        if (typeof require !== 'undefined') {\n",
       "        require.undef(\"plotly\");\n",
       "        requirejs.config({\n",
       "            paths: {\n",
       "                'plotly': ['https://cdn.plot.ly/plotly-latest.min']\n",
       "            }\n",
       "        });\n",
       "        require(['plotly'], function(Plotly) {\n",
       "            window._Plotly = Plotly;\n",
       "        });\n",
       "        }\n",
       "        </script>\n",
       "        "
      ]
     },
     "metadata": {},
     "output_type": "display_data"
    },
    {
     "data": {
      "text/html": [
       "        <script type=\"text/javascript\">\n",
       "        window.PlotlyConfig = {MathJaxConfig: 'local'};\n",
       "        if (window.MathJax) {MathJax.Hub.Config({SVG: {font: \"STIX-Web\"}});}\n",
       "        if (typeof require !== 'undefined') {\n",
       "        require.undef(\"plotly\");\n",
       "        requirejs.config({\n",
       "            paths: {\n",
       "                'plotly': ['https://cdn.plot.ly/plotly-latest.min']\n",
       "            }\n",
       "        });\n",
       "        require(['plotly'], function(Plotly) {\n",
       "            window._Plotly = Plotly;\n",
       "        });\n",
       "        }\n",
       "        </script>\n",
       "        "
      ]
     },
     "metadata": {},
     "output_type": "display_data"
    }
   ],
   "source": [
    "import warnings\n",
    "warnings.filterwarnings('ignore')\n",
    "import numpy as np\n",
    "import pandas as pd\n",
    "import seaborn as sns\n",
    "import matplotlib.pyplot as plt\n",
    "%matplotlib inline\n",
    "import plotly as py\n",
    "from plotly.offline import download_plotlyjs, init_notebook_mode, plot, iplot\n",
    "import cufflinks as cf\n",
    "init_notebook_mode(connected=True)\n",
    "cf.go_offline()"
   ]
  },
  {
   "cell_type": "code",
   "execution_count": 2,
   "metadata": {},
   "outputs": [
    {
     "data": {
      "text/html": [
       "<div>\n",
       "<style scoped>\n",
       "    .dataframe tbody tr th:only-of-type {\n",
       "        vertical-align: middle;\n",
       "    }\n",
       "\n",
       "    .dataframe tbody tr th {\n",
       "        vertical-align: top;\n",
       "    }\n",
       "\n",
       "    .dataframe thead th {\n",
       "        text-align: right;\n",
       "    }\n",
       "</style>\n",
       "<table border=\"1\" class=\"dataframe\">\n",
       "  <thead>\n",
       "    <tr style=\"text-align: right;\">\n",
       "      <th></th>\n",
       "      <th>Nid</th>\n",
       "      <th>Name</th>\n",
       "      <th>Gender</th>\n",
       "      <th>Date of Birth</th>\n",
       "      <th>Fresher/Experience</th>\n",
       "      <th>10th Board</th>\n",
       "      <th>10th Aggregate</th>\n",
       "      <th>10th Year of Pass out</th>\n",
       "      <th>12th Board</th>\n",
       "      <th>12th Course Type</th>\n",
       "      <th>...</th>\n",
       "      <th>Did You Fail and then clear the subject in Master Degree</th>\n",
       "      <th>Have any existing backlogs in Degree?</th>\n",
       "      <th>Have any existing backlogs in Master's Degree?</th>\n",
       "      <th>Have you got year gap in Degree?</th>\n",
       "      <th>Have you got year gap in Master Degree?</th>\n",
       "      <th>Batch</th>\n",
       "      <th>nid_incubation</th>\n",
       "      <th>Payment Print/Display</th>\n",
       "      <th>Payment comments</th>\n",
       "      <th>Post date</th>\n",
       "    </tr>\n",
       "  </thead>\n",
       "  <tbody>\n",
       "    <tr>\n",
       "      <td>0</td>\n",
       "      <td>108714</td>\n",
       "      <td>M S Ramasubramanya</td>\n",
       "      <td>male</td>\n",
       "      <td>11/05/1993</td>\n",
       "      <td>Fresher</td>\n",
       "      <td>SSLC</td>\n",
       "      <td>50.00</td>\n",
       "      <td>2009.0</td>\n",
       "      <td>Diploma</td>\n",
       "      <td>NaN</td>\n",
       "      <td>...</td>\n",
       "      <td>NaN</td>\n",
       "      <td>no</td>\n",
       "      <td>NaN</td>\n",
       "      <td>no</td>\n",
       "      <td>NaN</td>\n",
       "      <td>NaN</td>\n",
       "      <td>NaN</td>\n",
       "      <td>NaN</td>\n",
       "      <td>NaN</td>\n",
       "      <td>01/01/2018</td>\n",
       "    </tr>\n",
       "    <tr>\n",
       "      <td>1</td>\n",
       "      <td>108715</td>\n",
       "      <td>Satya prakash sahoo</td>\n",
       "      <td>male</td>\n",
       "      <td>26/06/1991</td>\n",
       "      <td>Fresher</td>\n",
       "      <td>SSLC</td>\n",
       "      <td>72.00</td>\n",
       "      <td>2006.0</td>\n",
       "      <td>PUC/ 12th</td>\n",
       "      <td>Regular</td>\n",
       "      <td>...</td>\n",
       "      <td>no</td>\n",
       "      <td>no</td>\n",
       "      <td>no</td>\n",
       "      <td>no</td>\n",
       "      <td>no</td>\n",
       "      <td>QCDM2</td>\n",
       "      <td>NaN</td>\n",
       "      <td>NaN</td>\n",
       "      <td>NaN</td>\n",
       "      <td>01/01/2018</td>\n",
       "    </tr>\n",
       "    <tr>\n",
       "      <td>2</td>\n",
       "      <td>108727</td>\n",
       "      <td>Shabareesh Kumar R</td>\n",
       "      <td>male</td>\n",
       "      <td>09/01/1991</td>\n",
       "      <td>Fresher</td>\n",
       "      <td>SSLC</td>\n",
       "      <td>84.32</td>\n",
       "      <td>2006.0</td>\n",
       "      <td>PUC/ 12th</td>\n",
       "      <td>Regular</td>\n",
       "      <td>...</td>\n",
       "      <td>NaN</td>\n",
       "      <td>no</td>\n",
       "      <td>NaN</td>\n",
       "      <td>no</td>\n",
       "      <td>NaN</td>\n",
       "      <td>QSSW2,QPEW1</td>\n",
       "      <td>NaN</td>\n",
       "      <td>11900 - 07-01-2018, 2300 - 11-02-2018</td>\n",
       "      <td>(201802QSP0098) Shabareesh Kumar R with ID:108...</td>\n",
       "      <td>02/01/2018</td>\n",
       "    </tr>\n",
       "    <tr>\n",
       "      <td>3</td>\n",
       "      <td>108729</td>\n",
       "      <td>Monima Gogoi</td>\n",
       "      <td>female</td>\n",
       "      <td>21/01/1986</td>\n",
       "      <td>Fresher</td>\n",
       "      <td>SSLC</td>\n",
       "      <td>80.00</td>\n",
       "      <td>2002.0</td>\n",
       "      <td>PUC/ 12th</td>\n",
       "      <td>Regular</td>\n",
       "      <td>...</td>\n",
       "      <td>no</td>\n",
       "      <td>no</td>\n",
       "      <td>no</td>\n",
       "      <td>no</td>\n",
       "      <td>no</td>\n",
       "      <td>QCSA2,QSCW1</td>\n",
       "      <td>NaN</td>\n",
       "      <td>11900 - 20-01-2018</td>\n",
       "      <td>(201801QSP0379) Monima Gogoi with ID:108729 ha...</td>\n",
       "      <td>02/01/2018</td>\n",
       "    </tr>\n",
       "    <tr>\n",
       "      <td>4</td>\n",
       "      <td>108733</td>\n",
       "      <td>Mohit Singh Chauhan</td>\n",
       "      <td>male</td>\n",
       "      <td>30/07/1995</td>\n",
       "      <td>Fresher</td>\n",
       "      <td>SSLC</td>\n",
       "      <td>84.00</td>\n",
       "      <td>2011.0</td>\n",
       "      <td>PUC/ 12th</td>\n",
       "      <td>Regular</td>\n",
       "      <td>...</td>\n",
       "      <td>NaN</td>\n",
       "      <td>no</td>\n",
       "      <td>NaN</td>\n",
       "      <td>no</td>\n",
       "      <td>NaN</td>\n",
       "      <td>QTGW1,QCCE2</td>\n",
       "      <td>NaN</td>\n",
       "      <td>22950 - 09-01-2018, Target for Apti is 0/-</td>\n",
       "      <td>(201801QSP0264) Mohit Singh Chauhan with ID:10...</td>\n",
       "      <td>02/01/2018</td>\n",
       "    </tr>\n",
       "  </tbody>\n",
       "</table>\n",
       "<p>5 rows × 83 columns</p>\n",
       "</div>"
      ],
      "text/plain": [
       "      Nid                 Name  Gender Date of Birth Fresher/Experience  \\\n",
       "0  108714   M S Ramasubramanya    male    11/05/1993            Fresher   \n",
       "1  108715  Satya prakash sahoo    male    26/06/1991            Fresher   \n",
       "2  108727   Shabareesh Kumar R    male    09/01/1991            Fresher   \n",
       "3  108729         Monima Gogoi  female    21/01/1986            Fresher   \n",
       "4  108733  Mohit Singh Chauhan    male    30/07/1995            Fresher   \n",
       "\n",
       "  10th Board  10th Aggregate  10th Year of Pass out 12th Board  \\\n",
       "0       SSLC           50.00                 2009.0    Diploma   \n",
       "1       SSLC           72.00                 2006.0  PUC/ 12th   \n",
       "2       SSLC           84.32                 2006.0  PUC/ 12th   \n",
       "3       SSLC           80.00                 2002.0  PUC/ 12th   \n",
       "4       SSLC           84.00                 2011.0  PUC/ 12th   \n",
       "\n",
       "  12th Course Type  ...  \\\n",
       "0              NaN  ...   \n",
       "1          Regular  ...   \n",
       "2          Regular  ...   \n",
       "3          Regular  ...   \n",
       "4          Regular  ...   \n",
       "\n",
       "   Did You Fail and then clear the subject in Master Degree  \\\n",
       "0                                                NaN          \n",
       "1                                                 no          \n",
       "2                                                NaN          \n",
       "3                                                 no          \n",
       "4                                                NaN          \n",
       "\n",
       "   Have any existing backlogs in Degree?  \\\n",
       "0                                     no   \n",
       "1                                     no   \n",
       "2                                     no   \n",
       "3                                     no   \n",
       "4                                     no   \n",
       "\n",
       "  Have any existing backlogs in Master's Degree?  \\\n",
       "0                                            NaN   \n",
       "1                                             no   \n",
       "2                                            NaN   \n",
       "3                                             no   \n",
       "4                                            NaN   \n",
       "\n",
       "  Have you got year gap in Degree? Have you got year gap in Master Degree?  \\\n",
       "0                               no                                     NaN   \n",
       "1                               no                                      no   \n",
       "2                               no                                     NaN   \n",
       "3                               no                                      no   \n",
       "4                               no                                     NaN   \n",
       "\n",
       "         Batch nid_incubation                       Payment Print/Display  \\\n",
       "0          NaN            NaN                                         NaN   \n",
       "1        QCDM2            NaN                                         NaN   \n",
       "2  QSSW2,QPEW1            NaN       11900 - 07-01-2018, 2300 - 11-02-2018   \n",
       "3  QCSA2,QSCW1            NaN                          11900 - 20-01-2018   \n",
       "4  QTGW1,QCCE2            NaN  22950 - 09-01-2018, Target for Apti is 0/-   \n",
       "\n",
       "                                    Payment comments   Post date  \n",
       "0                                                NaN  01/01/2018  \n",
       "1                                                NaN  01/01/2018  \n",
       "2  (201802QSP0098) Shabareesh Kumar R with ID:108...  02/01/2018  \n",
       "3  (201801QSP0379) Monima Gogoi with ID:108729 ha...  02/01/2018  \n",
       "4  (201801QSP0264) Mohit Singh Chauhan with ID:10...  02/01/2018  \n",
       "\n",
       "[5 rows x 83 columns]"
      ]
     },
     "execution_count": 2,
     "metadata": {},
     "output_type": "execute_result"
    }
   ],
   "source": [
    "qsp=pd.read_csv('BTR QSp1 data.csv')\n",
    "qsp.head()"
   ]
  },
  {
   "cell_type": "code",
   "execution_count": 3,
   "metadata": {},
   "outputs": [
    {
     "data": {
      "text/plain": [
       "Index(['Nid', 'Name', 'Gender', 'Date of Birth', 'Fresher/Experience',\n",
       "       '10th Board', '10th Aggregate', '10th Year of Pass out', '12th Board',\n",
       "       '12th Course Type', '12th/Diploma/ITI Year of Pass out',\n",
       "       '12th/Diploma/ITI-Aggregate', 'Diploma Course Type', 'Diploma College',\n",
       "       'Other(Diploma College)', 'Diploma Stream', 'Other(Diploma Stream)',\n",
       "       'Diploma University', 'Other(Diploma University)', 'Degree',\n",
       "       'Degree Course Type', 'Degree Year of Pass out', 'Degree College Name',\n",
       "       'Other(Degree College)', 'Degree University',\n",
       "       'Degree University Registration No', 'Degree Aggregate',\n",
       "       'Stream in Degree', 'Other(Degree Stream)',\n",
       "       'Have you done your Master's Degree?', 'Master's Degree',\n",
       "       'Master's Degree Course Type', 'Other(Master's degree)',\n",
       "       'Master's Degree Year of Pass out', 'Master Degree Aggregate',\n",
       "       'Master Degree College Name', 'Other(Master's College)',\n",
       "       'Master's Degree Stream', 'Other(Master's Stream)',\n",
       "       'Master's Degree University',\n",
       "       'Master's Degree University Registration No', 'Branch Enquired',\n",
       "       'Certifications', 'Course(s)', 'Do You Have Pan Card?',\n",
       "       'Do You Have Passport?', 'Other(certifications)', 'Ready to Relocate',\n",
       "       'Already Resigned', 'Currently Are You Working',\n",
       "       'Do You Have Past Work Experience?', 'Highest Degree',\n",
       "       'How Many Months of Gap You Have?', 'Looking For a Job Change',\n",
       "       'Notice Period', 'Other(Highest Degree)',\n",
       "       'Current/ Previous Company Name', 'Current/ Previous CTC',\n",
       "       'Current/ Previous Job Profiles', 'Balance_Fees',\n",
       "       'Other(Degree University)', 'Other(Degree)',\n",
       "       'Other(Master's University)', 'Other(preferred location)',\n",
       "       'Target_fees', 'Preferred Location', 'Photo', 'UID',\n",
       "       'Do You Have Aadhar Card?', 'Native', 'State', 'City',\n",
       "       'Did You Fail and then clear the subject in Degree',\n",
       "       'Did You Fail and then clear the subject in Master Degree',\n",
       "       'Have any existing backlogs in Degree?',\n",
       "       'Have any existing backlogs in Master's Degree?',\n",
       "       'Have you got year gap in Degree?',\n",
       "       'Have you got year gap in Master Degree?', 'Batch', 'nid_incubation',\n",
       "       'Payment Print/Display', 'Payment comments', 'Post date'],\n",
       "      dtype='object')"
      ]
     },
     "execution_count": 3,
     "metadata": {},
     "output_type": "execute_result"
    }
   ],
   "source": [
    "qsp.columns"
   ]
  },
  {
   "cell_type": "code",
   "execution_count": 4,
   "metadata": {},
   "outputs": [
    {
     "data": {
      "text/plain": [
       "Nid                        0.000000\n",
       "Name                       0.000000\n",
       "Gender                     0.000000\n",
       "Date of Birth              0.000000\n",
       "Fresher/Experience         0.000000\n",
       "                            ...    \n",
       "Batch                      2.200550\n",
       "nid_incubation           100.000000\n",
       "Payment Print/Display     12.178045\n",
       "Payment comments          20.855214\n",
       "Post date                  0.000000\n",
       "Length: 83, dtype: float64"
      ]
     },
     "execution_count": 4,
     "metadata": {},
     "output_type": "execute_result"
    }
   ],
   "source": [
    "qsp.isnull().sum()/len(qsp)*100"
   ]
  },
  {
   "cell_type": "code",
   "execution_count": 5,
   "metadata": {},
   "outputs": [],
   "source": [
    "qsp.drop('Nid',axis=1,inplace=True)"
   ]
  },
  {
   "cell_type": "code",
   "execution_count": 6,
   "metadata": {},
   "outputs": [],
   "source": [
    "qsp.drop_duplicates(inplace=True)"
   ]
  },
  {
   "cell_type": "code",
   "execution_count": 7,
   "metadata": {},
   "outputs": [],
   "source": [
    "mas=qsp[qsp[\"Have you done your Master's Degree?\"]=='yes']"
   ]
  },
  {
   "cell_type": "code",
   "execution_count": 8,
   "metadata": {},
   "outputs": [
    {
     "data": {
      "text/plain": [
       "{'Name': 0.0,\n",
       " 'Gender': 0.0,\n",
       " 'Date of Birth': 0.0,\n",
       " 'Fresher/Experience': 0.0,\n",
       " '10th Board': 0.0,\n",
       " '10th Aggregate': 0.0,\n",
       " '10th Year of Pass out': 0.0,\n",
       " '12th Board': 0.0,\n",
       " '12th Course Type': 2.73,\n",
       " '12th/Diploma/ITI Year of Pass out': 0.27,\n",
       " '12th/Diploma/ITI-Aggregate': 0.55,\n",
       " 'Diploma Course Type': 96.72,\n",
       " 'Diploma College': 96.72,\n",
       " 'Other(Diploma College)': 96.72,\n",
       " 'Diploma Stream': 96.72,\n",
       " 'Other(Diploma Stream)': 99.45,\n",
       " 'Diploma University': 97.27,\n",
       " 'Other(Diploma University)': 97.27,\n",
       " 'Degree': 0.27,\n",
       " 'Degree Course Type': 0.27,\n",
       " 'Degree Year of Pass out': 0.27,\n",
       " 'Degree College Name': 0.55,\n",
       " 'Other(Degree College)': 35.79,\n",
       " 'Degree University': 0.27,\n",
       " 'Degree University Registration No': 0.55,\n",
       " 'Degree Aggregate': 0.55,\n",
       " 'Stream in Degree': 0.27,\n",
       " 'Other(Degree Stream)': 95.36,\n",
       " \"Have you done your Master's Degree?\": 0.0,\n",
       " \"Master's Degree\": 0.0,\n",
       " \"Master's Degree Course Type\": 0.0,\n",
       " \"Other(Master's degree)\": 99.73,\n",
       " \"Master's Degree Year of Pass out\": 0.0,\n",
       " 'Master Degree Aggregate': 0.27,\n",
       " 'Master Degree College Name': 0.55,\n",
       " \"Other(Master's College)\": 7.65,\n",
       " \"Master's Degree Stream\": 0.0,\n",
       " \"Other(Master's Stream)\": 78.14,\n",
       " \"Master's Degree University\": 0.27,\n",
       " \"Master's Degree University Registration No\": 0.27,\n",
       " 'Branch Enquired': 0.0,\n",
       " 'Certifications': 99.45,\n",
       " 'Course(s)': 0.0,\n",
       " 'Do You Have Pan Card?': 0.27,\n",
       " 'Do You Have Passport?': 0.0,\n",
       " 'Other(certifications)': 100.0,\n",
       " 'Ready to Relocate': 0.0,\n",
       " 'Already Resigned': 96.72,\n",
       " 'Currently Are You Working': 96.99,\n",
       " 'Do You Have Past Work Experience?': 93.72,\n",
       " 'Highest Degree': 93.72,\n",
       " 'How Many Months of Gap You Have?': 98.36,\n",
       " 'Looking For a Job Change': 96.72,\n",
       " 'Notice Period': 0.27,\n",
       " 'Other(Highest Degree)': 99.73,\n",
       " 'Current/ Previous Company Name': 96.72,\n",
       " 'Current/ Previous CTC': 96.99,\n",
       " 'Current/ Previous Job Profiles': 96.72,\n",
       " 'Balance_Fees': 0.0,\n",
       " 'Other(Degree University)': 76.5,\n",
       " 'Other(Degree)': 98.36,\n",
       " \"Other(Master's University)\": 63.66,\n",
       " 'Other(preferred location)': 99.73,\n",
       " 'Target_fees': 0.27,\n",
       " 'Preferred Location': 2.19,\n",
       " 'Photo': 0.0,\n",
       " 'UID': 0.0,\n",
       " 'Do You Have Aadhar Card?': 0.27,\n",
       " 'Native': 93.44,\n",
       " 'State': 0.0,\n",
       " 'City': 0.0,\n",
       " 'Did You Fail and then clear the subject in Degree': 0.55,\n",
       " 'Did You Fail and then clear the subject in Master Degree': 0.82,\n",
       " 'Have any existing backlogs in Degree?': 0.55,\n",
       " \"Have any existing backlogs in Master's Degree?\": 0.82,\n",
       " 'Have you got year gap in Degree?': 0.55,\n",
       " 'Have you got year gap in Master Degree?': 0.82,\n",
       " 'Batch': 3.01,\n",
       " 'nid_incubation': 100.0,\n",
       " 'Payment Print/Display': 14.21,\n",
       " 'Payment comments': 15.57,\n",
       " 'Post date': 0.0}"
      ]
     },
     "execution_count": 8,
     "metadata": {},
     "output_type": "execute_result"
    }
   ],
   "source": [
    "dict(round(100*mas.isnull().sum()/len(mas),2))"
   ]
  },
  {
   "cell_type": "code",
   "execution_count": 9,
   "metadata": {},
   "outputs": [
    {
     "data": {
      "text/plain": [
       "(366, 82)"
      ]
     },
     "execution_count": 9,
     "metadata": {},
     "output_type": "execute_result"
    }
   ],
   "source": [
    "mas.shape"
   ]
  },
  {
   "cell_type": "code",
   "execution_count": 10,
   "metadata": {},
   "outputs": [],
   "source": [
    "cur_work=qsp[qsp['Currently Are You Working']=='yes']"
   ]
  },
  {
   "cell_type": "code",
   "execution_count": 11,
   "metadata": {},
   "outputs": [
    {
     "data": {
      "text/plain": [
       "{'Name': 0.0,\n",
       " 'Gender': 0.0,\n",
       " 'Date of Birth': 0.0,\n",
       " 'Fresher/Experience': 0.0,\n",
       " '10th Board': 84.0,\n",
       " '10th Aggregate': 88.0,\n",
       " '10th Year of Pass out': 85.0,\n",
       " '12th Board': 88.0,\n",
       " '12th Course Type': 91.0,\n",
       " '12th/Diploma/ITI Year of Pass out': 88.0,\n",
       " '12th/Diploma/ITI-Aggregate': 89.0,\n",
       " 'Diploma Course Type': 97.0,\n",
       " 'Diploma College': 97.0,\n",
       " 'Other(Diploma College)': 98.0,\n",
       " 'Diploma Stream': 97.0,\n",
       " 'Other(Diploma Stream)': 100.0,\n",
       " 'Diploma University': 98.0,\n",
       " 'Other(Diploma University)': 98.0,\n",
       " 'Degree': 87.0,\n",
       " 'Degree Course Type': 89.0,\n",
       " 'Degree Year of Pass out': 87.0,\n",
       " 'Degree College Name': 88.0,\n",
       " 'Other(Degree College)': 94.0,\n",
       " 'Degree University': 89.0,\n",
       " 'Degree University Registration No': 89.0,\n",
       " 'Degree Aggregate': 90.0,\n",
       " 'Stream in Degree': 87.0,\n",
       " 'Other(Degree Stream)': 99.0,\n",
       " \"Have you done your Master's Degree?\": 88.0,\n",
       " \"Master's Degree\": 98.0,\n",
       " \"Master's Degree Course Type\": 97.0,\n",
       " \"Other(Master's degree)\": 100.0,\n",
       " \"Master's Degree Year of Pass out\": 98.0,\n",
       " 'Master Degree Aggregate': 98.0,\n",
       " 'Master Degree College Name': 98.0,\n",
       " \"Other(Master's College)\": 98.0,\n",
       " \"Master's Degree Stream\": 98.0,\n",
       " \"Other(Master's Stream)\": 100.0,\n",
       " \"Master's Degree University\": 98.0,\n",
       " \"Master's Degree University Registration No\": 98.0,\n",
       " 'Branch Enquired': 0.0,\n",
       " 'Certifications': 98.0,\n",
       " 'Course(s)': 0.0,\n",
       " 'Do You Have Pan Card?': 88.0,\n",
       " 'Do You Have Passport?': 0.0,\n",
       " 'Other(certifications)': 100.0,\n",
       " 'Ready to Relocate': 0.0,\n",
       " 'Already Resigned': 0.0,\n",
       " 'Currently Are You Working': 0.0,\n",
       " 'Do You Have Past Work Experience?': 0.0,\n",
       " 'Highest Degree': 0.0,\n",
       " 'How Many Months of Gap You Have?': 100.0,\n",
       " 'Looking For a Job Change': 0.0,\n",
       " 'Notice Period': 0.0,\n",
       " 'Other(Highest Degree)': 99.0,\n",
       " 'Current/ Previous Company Name': 2.0,\n",
       " 'Current/ Previous CTC': 10.0,\n",
       " 'Current/ Previous Job Profiles': 1.0,\n",
       " 'Balance_Fees': 0.0,\n",
       " 'Other(Degree University)': 98.0,\n",
       " 'Other(Degree)': 100.0,\n",
       " \"Other(Master's University)\": 99.0,\n",
       " 'Other(preferred location)': 100.0,\n",
       " 'Target_fees': 0.0,\n",
       " 'Preferred Location': 2.0,\n",
       " 'Photo': 0.0,\n",
       " 'UID': 0.0,\n",
       " 'Do You Have Aadhar Card?': 88.0,\n",
       " 'Native': 0.0,\n",
       " 'State': 0.0,\n",
       " 'City': 0.0,\n",
       " 'Did You Fail and then clear the subject in Degree': 89.0,\n",
       " 'Did You Fail and then clear the subject in Master Degree': 98.0,\n",
       " 'Have any existing backlogs in Degree?': 89.0,\n",
       " \"Have any existing backlogs in Master's Degree?\": 98.0,\n",
       " 'Have you got year gap in Degree?': 89.0,\n",
       " 'Have you got year gap in Master Degree?': 98.0,\n",
       " 'Batch': 4.0,\n",
       " 'nid_incubation': 100.0,\n",
       " 'Payment Print/Display': 16.0,\n",
       " 'Payment comments': 16.0,\n",
       " 'Post date': 0.0}"
      ]
     },
     "execution_count": 11,
     "metadata": {},
     "output_type": "execute_result"
    }
   ],
   "source": [
    "dict(round(100*cur_work.isnull().sum()/len(cur_work)))"
   ]
  },
  {
   "cell_type": "code",
   "execution_count": 12,
   "metadata": {
    "scrolled": false
   },
   "outputs": [
    {
     "data": {
      "text/plain": [
       "Incubation student 2018                                           249\n",
       "Campus training 2018, paid 7000, for Java,Manual,SQL (CBIT)        18\n",
       "11900 - 08-09-2018                                                 17\n",
       "Campus training 2018, paid 11000/-, for Java,Manual,SQL (BITM)     12\n",
       "11900 - 04-08-2018                                                 12\n",
       "                                                                 ... \n",
       "11900 - 15-02-2018                                                  1\n",
       "20950 - 11-06-2018, 1090 - 11-06-2018                               1\n",
       "6000 - 26-11-2017, 5900 - 06-01-2018                                1\n",
       "13000 - 19-09-2018                                                  1\n",
       "22950 - 20-01-2018, 2300 - 24-01-2018                               1\n",
       "Name: Payment Print/Display, Length: 2682, dtype: int64"
      ]
     },
     "execution_count": 12,
     "metadata": {},
     "output_type": "execute_result"
    }
   ],
   "source": [
    "pay=qsp[['Payment Print/Display','Target_fees','Balance_Fees']]\n",
    "pay['Payment Print/Display'].value_counts()"
   ]
  },
  {
   "cell_type": "code",
   "execution_count": 13,
   "metadata": {},
   "outputs": [],
   "source": [
    "P_list=pay['Payment Print/Display'].apply(lambda x:pd.Series(str(x).split(',')))"
   ]
  },
  {
   "cell_type": "code",
   "execution_count": 47,
   "metadata": {},
   "outputs": [
    {
     "data": {
      "text/html": [
       "<div>\n",
       "<style scoped>\n",
       "    .dataframe tbody tr th:only-of-type {\n",
       "        vertical-align: middle;\n",
       "    }\n",
       "\n",
       "    .dataframe tbody tr th {\n",
       "        vertical-align: top;\n",
       "    }\n",
       "\n",
       "    .dataframe thead th {\n",
       "        text-align: right;\n",
       "    }\n",
       "</style>\n",
       "<table border=\"1\" class=\"dataframe\">\n",
       "  <thead>\n",
       "    <tr style=\"text-align: right;\">\n",
       "      <th></th>\n",
       "      <th>0</th>\n",
       "      <th>1</th>\n",
       "      <th>2</th>\n",
       "      <th>3</th>\n",
       "      <th>4</th>\n",
       "      <th>5</th>\n",
       "      <th>6</th>\n",
       "      <th>7</th>\n",
       "    </tr>\n",
       "  </thead>\n",
       "  <tbody>\n",
       "    <tr>\n",
       "      <td>0</td>\n",
       "      <td>nan</td>\n",
       "      <td>NaN</td>\n",
       "      <td>NaN</td>\n",
       "      <td>NaN</td>\n",
       "      <td>NaN</td>\n",
       "      <td>NaN</td>\n",
       "      <td>NaN</td>\n",
       "      <td>NaN</td>\n",
       "    </tr>\n",
       "    <tr>\n",
       "      <td>1</td>\n",
       "      <td>nan</td>\n",
       "      <td>NaN</td>\n",
       "      <td>NaN</td>\n",
       "      <td>NaN</td>\n",
       "      <td>NaN</td>\n",
       "      <td>NaN</td>\n",
       "      <td>NaN</td>\n",
       "      <td>NaN</td>\n",
       "    </tr>\n",
       "    <tr>\n",
       "      <td>2</td>\n",
       "      <td>11900 - 07-01-2018</td>\n",
       "      <td>2300 - 11-02-2018</td>\n",
       "      <td>NaN</td>\n",
       "      <td>NaN</td>\n",
       "      <td>NaN</td>\n",
       "      <td>NaN</td>\n",
       "      <td>NaN</td>\n",
       "      <td>NaN</td>\n",
       "    </tr>\n",
       "    <tr>\n",
       "      <td>3</td>\n",
       "      <td>11900 - 20-01-2018</td>\n",
       "      <td>NaN</td>\n",
       "      <td>NaN</td>\n",
       "      <td>NaN</td>\n",
       "      <td>NaN</td>\n",
       "      <td>NaN</td>\n",
       "      <td>NaN</td>\n",
       "      <td>NaN</td>\n",
       "    </tr>\n",
       "    <tr>\n",
       "      <td>4</td>\n",
       "      <td>22950 - 09-01-2018</td>\n",
       "      <td>Target for Apti is 0/-</td>\n",
       "      <td>NaN</td>\n",
       "      <td>NaN</td>\n",
       "      <td>NaN</td>\n",
       "      <td>NaN</td>\n",
       "      <td>NaN</td>\n",
       "      <td>NaN</td>\n",
       "    </tr>\n",
       "    <tr>\n",
       "      <td>...</td>\n",
       "      <td>...</td>\n",
       "      <td>...</td>\n",
       "      <td>...</td>\n",
       "      <td>...</td>\n",
       "      <td>...</td>\n",
       "      <td>...</td>\n",
       "      <td>...</td>\n",
       "      <td>...</td>\n",
       "    </tr>\n",
       "    <tr>\n",
       "      <td>3994</td>\n",
       "      <td>22950 - 14-01-2019</td>\n",
       "      <td>1090 - 14-01-2019</td>\n",
       "      <td>400 - 27-02-2019</td>\n",
       "      <td>NaN</td>\n",
       "      <td>NaN</td>\n",
       "      <td>NaN</td>\n",
       "      <td>NaN</td>\n",
       "      <td>NaN</td>\n",
       "    </tr>\n",
       "    <tr>\n",
       "      <td>3995</td>\n",
       "      <td>8100 - 24-01-2019</td>\n",
       "      <td>NaN</td>\n",
       "      <td>NaN</td>\n",
       "      <td>NaN</td>\n",
       "      <td>NaN</td>\n",
       "      <td>NaN</td>\n",
       "      <td>NaN</td>\n",
       "      <td>NaN</td>\n",
       "    </tr>\n",
       "    <tr>\n",
       "      <td>3996</td>\n",
       "      <td>9000 - 16-01-2019</td>\n",
       "      <td>4000 - 16-01-2019</td>\n",
       "      <td>10950 - 29-01-2019</td>\n",
       "      <td>1090 - 04-02-2019</td>\n",
       "      <td>NaN</td>\n",
       "      <td>NaN</td>\n",
       "      <td>NaN</td>\n",
       "      <td>NaN</td>\n",
       "    </tr>\n",
       "    <tr>\n",
       "      <td>3997</td>\n",
       "      <td>nan</td>\n",
       "      <td>NaN</td>\n",
       "      <td>NaN</td>\n",
       "      <td>NaN</td>\n",
       "      <td>NaN</td>\n",
       "      <td>NaN</td>\n",
       "      <td>NaN</td>\n",
       "      <td>NaN</td>\n",
       "    </tr>\n",
       "    <tr>\n",
       "      <td>3998</td>\n",
       "      <td>1850 - 18-07-2019</td>\n",
       "      <td>17950 - 19-07-2019</td>\n",
       "      <td>Target for C.S is 17950/-</td>\n",
       "      <td>NaN</td>\n",
       "      <td>NaN</td>\n",
       "      <td>NaN</td>\n",
       "      <td>NaN</td>\n",
       "      <td>NaN</td>\n",
       "    </tr>\n",
       "  </tbody>\n",
       "</table>\n",
       "<p>3881 rows × 8 columns</p>\n",
       "</div>"
      ],
      "text/plain": [
       "                       0                        1                           2  \\\n",
       "0                    nan                      NaN                         NaN   \n",
       "1                    nan                      NaN                         NaN   \n",
       "2     11900 - 07-01-2018        2300 - 11-02-2018                         NaN   \n",
       "3     11900 - 20-01-2018                      NaN                         NaN   \n",
       "4     22950 - 09-01-2018   Target for Apti is 0/-                         NaN   \n",
       "...                  ...                      ...                         ...   \n",
       "3994  22950 - 14-01-2019        1090 - 14-01-2019            400 - 27-02-2019   \n",
       "3995   8100 - 24-01-2019                      NaN                         NaN   \n",
       "3996   9000 - 16-01-2019        4000 - 16-01-2019          10950 - 29-01-2019   \n",
       "3997                 nan                      NaN                         NaN   \n",
       "3998   1850 - 18-07-2019       17950 - 19-07-2019   Target for C.S is 17950/-   \n",
       "\n",
       "                       3    4    5    6    7  \n",
       "0                    NaN  NaN  NaN  NaN  NaN  \n",
       "1                    NaN  NaN  NaN  NaN  NaN  \n",
       "2                    NaN  NaN  NaN  NaN  NaN  \n",
       "3                    NaN  NaN  NaN  NaN  NaN  \n",
       "4                    NaN  NaN  NaN  NaN  NaN  \n",
       "...                  ...  ...  ...  ...  ...  \n",
       "3994                 NaN  NaN  NaN  NaN  NaN  \n",
       "3995                 NaN  NaN  NaN  NaN  NaN  \n",
       "3996   1090 - 04-02-2019  NaN  NaN  NaN  NaN  \n",
       "3997                 NaN  NaN  NaN  NaN  NaN  \n",
       "3998                 NaN  NaN  NaN  NaN  NaN  \n",
       "\n",
       "[3881 rows x 8 columns]"
      ]
     },
     "execution_count": 47,
     "metadata": {},
     "output_type": "execute_result"
    }
   ],
   "source": [
    "P_list"
   ]
  },
  {
   "cell_type": "code",
   "execution_count": 50,
   "metadata": {},
   "outputs": [],
   "source": [
    "a = pd.DataFrame()\n",
    "for col in P_list.columns:\n",
    "    a = pd.concat([a,P_list[col].apply(lambda x: pd.Series(str(x).split('-',1)))])"
   ]
  },
  {
   "cell_type": "code",
   "execution_count": 51,
   "metadata": {},
   "outputs": [
    {
     "data": {
      "text/html": [
       "<div>\n",
       "<style scoped>\n",
       "    .dataframe tbody tr th:only-of-type {\n",
       "        vertical-align: middle;\n",
       "    }\n",
       "\n",
       "    .dataframe tbody tr th {\n",
       "        vertical-align: top;\n",
       "    }\n",
       "\n",
       "    .dataframe thead th {\n",
       "        text-align: right;\n",
       "    }\n",
       "</style>\n",
       "<table border=\"1\" class=\"dataframe\">\n",
       "  <thead>\n",
       "    <tr style=\"text-align: right;\">\n",
       "      <th></th>\n",
       "      <th>0</th>\n",
       "      <th>1</th>\n",
       "    </tr>\n",
       "  </thead>\n",
       "  <tbody>\n",
       "    <tr>\n",
       "      <td>0</td>\n",
       "      <td>nan</td>\n",
       "      <td>NaN</td>\n",
       "    </tr>\n",
       "    <tr>\n",
       "      <td>1</td>\n",
       "      <td>nan</td>\n",
       "      <td>NaN</td>\n",
       "    </tr>\n",
       "    <tr>\n",
       "      <td>2</td>\n",
       "      <td>11900</td>\n",
       "      <td>07-01-2018</td>\n",
       "    </tr>\n",
       "    <tr>\n",
       "      <td>3</td>\n",
       "      <td>11900</td>\n",
       "      <td>20-01-2018</td>\n",
       "    </tr>\n",
       "    <tr>\n",
       "      <td>4</td>\n",
       "      <td>22950</td>\n",
       "      <td>09-01-2018</td>\n",
       "    </tr>\n",
       "    <tr>\n",
       "      <td>...</td>\n",
       "      <td>...</td>\n",
       "      <td>...</td>\n",
       "    </tr>\n",
       "    <tr>\n",
       "      <td>3994</td>\n",
       "      <td>nan</td>\n",
       "      <td>NaN</td>\n",
       "    </tr>\n",
       "    <tr>\n",
       "      <td>3995</td>\n",
       "      <td>nan</td>\n",
       "      <td>NaN</td>\n",
       "    </tr>\n",
       "    <tr>\n",
       "      <td>3996</td>\n",
       "      <td>nan</td>\n",
       "      <td>NaN</td>\n",
       "    </tr>\n",
       "    <tr>\n",
       "      <td>3997</td>\n",
       "      <td>nan</td>\n",
       "      <td>NaN</td>\n",
       "    </tr>\n",
       "    <tr>\n",
       "      <td>3998</td>\n",
       "      <td>nan</td>\n",
       "      <td>NaN</td>\n",
       "    </tr>\n",
       "  </tbody>\n",
       "</table>\n",
       "<p>31048 rows × 2 columns</p>\n",
       "</div>"
      ],
      "text/plain": [
       "           0            1\n",
       "0        nan          NaN\n",
       "1        nan          NaN\n",
       "2     11900    07-01-2018\n",
       "3     11900    20-01-2018\n",
       "4     22950    09-01-2018\n",
       "...      ...          ...\n",
       "3994     nan          NaN\n",
       "3995     nan          NaN\n",
       "3996     nan          NaN\n",
       "3997     nan          NaN\n",
       "3998     nan          NaN\n",
       "\n",
       "[31048 rows x 2 columns]"
      ]
     },
     "execution_count": 51,
     "metadata": {},
     "output_type": "execute_result"
    }
   ],
   "source": [
    "a"
   ]
  },
  {
   "cell_type": "code",
   "execution_count": null,
   "metadata": {},
   "outputs": [],
   "source": [
    "qsp1=qsp.copy()\n",
    "qsp2=qsp.copy()\n",
    "qsp3=qsp.copy()\n",
    "qsp4=qsp.copy()"
   ]
  },
  {
   "cell_type": "code",
   "execution_count": null,
   "metadata": {},
   "outputs": [],
   "source": [
    "qsp1[['Course(s)','Target_fees','Balance_Fees','Highest Degree']].sort_values('Target_fees',ascending=False)"
   ]
  },
  {
   "cell_type": "code",
   "execution_count": null,
   "metadata": {},
   "outputs": [],
   "source": [
    "li4=list(qsp4['City'].unique())\n",
    "li5=[]\n",
    "for i5 in li4:\n",
    "    if i5.lower().strip().split('-')[0]=='bangalore':\n",
    "        li5.append(i5)\n",
    "len(li5)"
   ]
  },
  {
   "cell_type": "code",
   "execution_count": null,
   "metadata": {},
   "outputs": [],
   "source": [
    "qsp4['City'].replace(to_replace=li5,value='Bangalore',inplace=True)\n",
    "qsp4['City'].replace(to_replace=['Banglore','Bangalore ','Bangalore 560098','Bangalore`','Bangalore 560010','Bangalore   560079','Bangalore 560076','Bangalore 560097','BASAVANAGUDI 560004','Bangalore 560073','Banglaore','BANGALORE -560097','Bangalore 562123','BANGALORE..','Bangalore  560072','Bangalore 560085','Bangalore  -560054','Bangalore 560022',' Bangalore  560058','Bangalore 580086','Bangalore 560020','BANGLORE','BANGALORE - 560098','Bangalore , 560079','Bangalroe560040','Bangalore 560058','Bangalore 560094'],value='Bangalore',inplace=True)\n",
    "dict(qsp4['City'].value_counts())"
   ]
  },
  {
   "cell_type": "code",
   "execution_count": null,
   "metadata": {},
   "outputs": [],
   "source": [
    "qsp4['City']=qsp4['City'].apply(lambda row:'Local' if row=='Bangalore' else 'Not Local')"
   ]
  },
  {
   "cell_type": "code",
   "execution_count": null,
   "metadata": {},
   "outputs": [],
   "source": [
    "qsp1.drop_duplicates('Course(s)',inplace=True)"
   ]
  },
  {
   "cell_type": "code",
   "execution_count": null,
   "metadata": {},
   "outputs": [],
   "source": [
    "qsp1['Course(s)']"
   ]
  },
  {
   "cell_type": "code",
   "execution_count": null,
   "metadata": {},
   "outputs": [],
   "source": [
    "qsp2[\"Master's Degree\"].replace(to_replace=np.nan,value='Degree',inplace=True)\n",
    "qsp2[\"Master's Degree\"].replace(to_replace=['MCA','M.Tech','MSC','MBA'],value=\"Master's\",inplace=True)"
   ]
  },
  {
   "cell_type": "code",
   "execution_count": null,
   "metadata": {},
   "outputs": [],
   "source": [
    "dic1={}\n",
    "dic2={}\n",
    "dic3={}\n",
    "dic4={}\n",
    "dic5={}\n",
    "dic6={}\n",
    "dic7={}\n",
    "per=[]\n",
    "for co in list(qsp1['Course(s)']):\n",
    "    dic1.setdefault(co,qsp[qsp['Course(s)']==co]['Balance_Fees'].sum())\n",
    "    dic5.setdefault(co,qsp[qsp['Course(s)']==co]['Target_fees'].sum())\n",
    "    per.append(round(100*qsp[qsp['Course(s)']==co]['Balance_Fees'].sum()/qsp[qsp['Course(s)']==co]['Target_fees'].sum(),2))\n",
    "    dic2.setdefault(co,qsp[qsp['Course(s)']==co].count()[0])\n",
    "    dic3.setdefault(co,qsp2[(qsp2['Course(s)']==co) & (qsp2[\"Master's Degree\"]==\"Master's\")].count()[0])\n",
    "    dic4.setdefault(co,qsp2[(qsp2['Course(s)']==co) & (qsp2[\"Master's Degree\"]==\"Degree\")].count()[0])\n",
    "    dic6.setdefault(co,qsp4[(qsp4['Course(s)']==co) & (qsp4[\"City\"]==\"Local\")].count()[0])\n",
    "    dic7.setdefault(co,qsp4[(qsp4['Course(s)']==co) & (qsp4[\"City\"]==\"Not Local\")].count()[0])"
   ]
  },
  {
   "cell_type": "code",
   "execution_count": null,
   "metadata": {},
   "outputs": [],
   "source": [
    "qsp[qsp['Course(s)']=='Classic Selenium'].count()[0]"
   ]
  },
  {
   "cell_type": "code",
   "execution_count": null,
   "metadata": {},
   "outputs": [],
   "source": [
    "cou={'Courses':list(dic1.keys()),'Counts':list(dic2.values()),'Target_fees':list(qsp1['Target_fees']),'Total_Amount':list(dic5.values()),'Balance_Amount':list(dic1.values()),'Balance_in_per':list(per),'Degree':list(dic3.values()),\"Master's\":list(dic4.values()),'Local Students':list(dic6.values()),'Non-Local Students':list(dic7.values())}"
   ]
  },
  {
   "cell_type": "code",
   "execution_count": null,
   "metadata": {},
   "outputs": [],
   "source": [
    "Course=pd.DataFrame(data=cou)"
   ]
  },
  {
   "cell_type": "code",
   "execution_count": null,
   "metadata": {
    "scrolled": true
   },
   "outputs": [],
   "source": [
    "pd.set_option('display.max_rows',None)\n",
    "Course.sort_values('Counts',ascending=False)"
   ]
  },
  {
   "cell_type": "code",
   "execution_count": null,
   "metadata": {},
   "outputs": [],
   "source": [
    "qsp3['Payment comments'].replace(to_replace=np.nan,value='Only attended demo class',inplace=True)"
   ]
  },
  {
   "cell_type": "code",
   "execution_count": null,
   "metadata": {},
   "outputs": [],
   "source": [
    "qsp3['Payment comments'].value_counts()"
   ]
  },
  {
   "cell_type": "code",
   "execution_count": null,
   "metadata": {},
   "outputs": [],
   "source": [
    "qsp3.drop_duplicates(inplace=True)"
   ]
  },
  {
   "cell_type": "code",
   "execution_count": null,
   "metadata": {},
   "outputs": [],
   "source": [
    "qsp3['Payment Print/Display'].value_counts()"
   ]
  },
  {
   "cell_type": "code",
   "execution_count": null,
   "metadata": {},
   "outputs": [],
   "source": [
    "Course['Total_Amount'].sum()"
   ]
  },
  {
   "cell_type": "code",
   "execution_count": null,
   "metadata": {},
   "outputs": [],
   "source": [
    "# l4=['d1','d2','d3','d4','d5','d6','d7','d8']\n",
    "# ne={'1st Pay':'Date','2st Pay':'Date','3st Pay':'Date','4st Pay':'Date','5st Pay':'Date','6st Pay':'Date','7st Pay':'Date','8st Pay':'Date'}\n",
    "# l1=[]\n",
    "# l2=[]\n",
    "# l3=list(P_list.columns)"
   ]
  },
  {
   "cell_type": "code",
   "execution_count": null,
   "metadata": {},
   "outputs": [],
   "source": [
    "# k=0\n",
    "# j=0\n",
    "# for co1 in list(P_list.columns):\n",
    "#     for i in range(0,3881):\n",
    "#         if len(str(P_list[co1].values[i]).split('-',1))<2:\n",
    "#             l1.append(0)\n",
    "#             l2.append(0)\n",
    "#         else:\n",
    "#             l1.append(str(P_list[co1].values[i]).split('-',1)[0])\n",
    "#             l2.append(str(P_list[co1].values[i]).split('-',1)[1])\n",
    "#         dat={list(ne.keys())[j]:l1,list(ne.values())[j]:l2}\n",
    "#         exec(\"{}=pd.DataFrame(data=dat)\".format(l4[k]))\n",
    "#     j+=1\n",
    "#     k+=1"
   ]
  },
  {
   "cell_type": "code",
   "execution_count": null,
   "metadata": {},
   "outputs": [],
   "source": [
    "dic={}\n",
    "for i in P_list.columns:\n",
    "    dic.setdefault(i,P_list[i])"
   ]
  },
  {
   "cell_type": "code",
   "execution_count": null,
   "metadata": {},
   "outputs": [],
   "source": [
    "l4=['d1','d2','d3','d4','d5','d6','d7','d8']\n",
    "ne={'1st Pay':'Date','2st Pay':'Date','3st Pay':'Date','4st Pay':'Date','5st Pay':'Date','6st Pay':'Date','7st Pay':'Date','8st Pay':'Date'}\n",
    "l1=[]\n",
    "l2=[]\n",
    "l3=list(P_list.columns)"
   ]
  },
  {
   "cell_type": "code",
   "execution_count": null,
   "metadata": {},
   "outputs": [],
   "source": [
    "# dic1={}\n",
    "# dic2={}\n",
    "# for co1 in P_list.columns:\n",
    "#     for i in range(0,3881):\n",
    "#         if len(str(P_list[co1].values[i]).split('-',1))<2:\n",
    "#             dic1.setdefault(co1,0)\n",
    "#             dic2.setdefault(co1,0)\n",
    "#         else:\n",
    "#             dic1.setdefault(co1,P_list[co1].apply(lambda x:pd.Series(str(x).split('-',1)[0])))\n",
    "#             dic2.setdefault(co1,P_list[co1].apply(lambda x:pd.Series(str(x).split('-',1)[1])))"
   ]
  },
  {
   "cell_type": "code",
   "execution_count": null,
   "metadata": {},
   "outputs": [],
   "source": []
  },
  {
   "cell_type": "code",
   "execution_count": null,
   "metadata": {},
   "outputs": [],
   "source": []
  },
  {
   "cell_type": "code",
   "execution_count": null,
   "metadata": {},
   "outputs": [],
   "source": [
    "# n=3\n",
    "# for i in range(1,n+1):\n",
    "#     print(i,end='')"
   ]
  },
  {
   "cell_type": "code",
   "execution_count": null,
   "metadata": {},
   "outputs": [],
   "source": [
    "# def solution(A):\n",
    "#     # write your code in Python 3.6\n",
    "#     A.sort()\n",
    "#     b=max(A)\n",
    "#     if b<0:\n",
    "#         return(1)\n",
    "#     else:\n",
    "#         for i in range(len(A)-1):\n",
    "#             if A[i+1]-A[i]>1:\n",
    "#                 return i+1\n",
    "#         else:\n",
    "#             return b+1"
   ]
  },
  {
   "cell_type": "code",
   "execution_count": null,
   "metadata": {},
   "outputs": [],
   "source": [
    "# A = [-1,-2]\n",
    "# print(solution(A))"
   ]
  },
  {
   "cell_type": "code",
   "execution_count": null,
   "metadata": {},
   "outputs": [],
   "source": [
    "# max(A)"
   ]
  },
  {
   "cell_type": "code",
   "execution_count": null,
   "metadata": {},
   "outputs": [],
   "source": [
    "# A.sort()"
   ]
  },
  {
   "cell_type": "code",
   "execution_count": null,
   "metadata": {},
   "outputs": [],
   "source": [
    "# A"
   ]
  },
  {
   "cell_type": "code",
   "execution_count": null,
   "metadata": {},
   "outputs": [],
   "source": [
    "# a=[1,4,-1,3,2]\n",
    "# temp=0\n",
    "# temp=a[0]\n",
    "# a[0]=a[2]\n",
    "# a[2]=a[4]\n",
    "# a[4]=a[1]\n",
    "# a[1]=temp"
   ]
  },
  {
   "cell_type": "code",
   "execution_count": null,
   "metadata": {},
   "outputs": [],
   "source": [
    "# if len(str(list(dic[0])).split('-',1))==2:\n",
    "#     l1.append(str(list(dic[0])).split('-',1)[0])\n",
    "#     l2.append(str(list(dic[0])).split('-',1)[1])"
   ]
  },
  {
   "cell_type": "code",
   "execution_count": null,
   "metadata": {},
   "outputs": [],
   "source": []
  },
  {
   "cell_type": "code",
   "execution_count": null,
   "metadata": {},
   "outputs": [],
   "source": [
    "# A=[1,4,-1,3,2]\n",
    "# def solution(A):\n",
    "#     for i in range(len(A)):\n",
    "#         for j in range(1,len(A)):\n",
    "#             if A[i]>A[j]:\n",
    "#                 temp=A[j]\n",
    "#                 A[j]=A[i]\n",
    "#                 A[i]=temp\n",
    "            "
   ]
  },
  {
   "cell_type": "code",
   "execution_count": null,
   "metadata": {},
   "outputs": [],
   "source": [
    "# print(solution(A))"
   ]
  },
  {
   "cell_type": "code",
   "execution_count": null,
   "metadata": {},
   "outputs": [],
   "source": [
    "# for i in range(len(A)):\n",
    "#         for j in range(i + 1, len(A)):\n",
    "#             if A[i] > A[j]:\n",
    "#                 A[i], A[j] = A[j], A[i]"
   ]
  },
  {
   "cell_type": "code",
   "execution_count": null,
   "metadata": {},
   "outputs": [],
   "source": []
  },
  {
   "cell_type": "code",
   "execution_count": null,
   "metadata": {},
   "outputs": [],
   "source": [
    "# def cou(m,A):\n",
    "#     n=len(A)\n",
    "#     for i in A:\n",
    "#         if A.count(i)==m:\n",
    "#             print(i)\n",
    "#             break"
   ]
  },
  {
   "cell_type": "code",
   "execution_count": null,
   "metadata": {},
   "outputs": [],
   "source": [
    "# A=[1,2,3,3,1,3,1,2]"
   ]
  },
  {
   "cell_type": "code",
   "execution_count": null,
   "metadata": {},
   "outputs": [],
   "source": [
    "# def con(M, A):\n",
    "#     N = len(A)\n",
    "#     count = [0] * (M + 1)\n",
    "#     maxOccurence = 1\n",
    "#     index = -1\n",
    "#     for i in range(N):\n",
    "#         if count[A[i]] > 0:\n",
    "#             tmp = count[A[i]]\n",
    "#             if tmp > maxOccurence:\n",
    "#                 maxOccurence = tmp\n",
    "#                 index = i\n",
    "#             count[A[i]] = tmp + 1\n",
    "#         else:\n",
    "#             count[A[i]] = 1\n",
    "#     return A[index]"
   ]
  },
  {
   "cell_type": "code",
   "execution_count": null,
   "metadata": {},
   "outputs": [],
   "source": [
    "# con(3,A)"
   ]
  },
  {
   "cell_type": "code",
   "execution_count": null,
   "metadata": {},
   "outputs": [],
   "source": [
    "# M=3\n",
    "# count = [0] * (M + 1)"
   ]
  },
  {
   "cell_type": "code",
   "execution_count": null,
   "metadata": {},
   "outputs": [],
   "source": [
    "# count[A[5]]>0"
   ]
  },
  {
   "cell_type": "code",
   "execution_count": null,
   "metadata": {},
   "outputs": [],
   "source": [
    "# B=[3,5,6,3,3,5]\n",
    "# def solution(B):\n",
    "#     count = 0\n",
    "#     for i in range(len(A)):\n",
    "#         for j in range(i + 1, len(A)):\n",
    "#             if A[i]==A[j]:\n",
    "#                 count+=1\n",
    "#     return count"
   ]
  },
  {
   "cell_type": "code",
   "execution_count": null,
   "metadata": {},
   "outputs": [],
   "source": [
    "# print(solution(B))"
   ]
  },
  {
   "cell_type": "code",
   "execution_count": null,
   "metadata": {},
   "outputs": [],
   "source": [
    "Course"
   ]
  },
  {
   "cell_type": "code",
   "execution_count": null,
   "metadata": {},
   "outputs": [],
   "source": [
    "cou=dict(Course[['Courses','Counts']].sort_values('Counts',ascending=False).head(20))"
   ]
  },
  {
   "cell_type": "code",
   "execution_count": null,
   "metadata": {},
   "outputs": [],
   "source": [
    "plt.figure(figsize=(7,7))\n",
    "sns.barplot(x=list(list(cou.values())[1]),y=list(list(cou.values())[0]))\n",
    "plt.xlabel('Count')\n",
    "plt.ylabel('Courses')\n",
    "plt.title('Top 20 Packages')\n",
    "plt.show()"
   ]
  },
  {
   "cell_type": "code",
   "execution_count": null,
   "metadata": {},
   "outputs": [],
   "source": [
    "cou1=dict(Course[['Courses','Target_fees']].sort_values('Target_fees',ascending=False).head(20))\n",
    "plt.figure(figsize=(10,10))\n",
    "sns.barplot(x=list(list(cou1.values())[1]),y=list(list(cou1.values())[0]))\n",
    "plt.xlabel('Target Fees')\n",
    "plt.ylabel('Courses')\n",
    "plt.title('Top 20 Courses in Target Fees')\n",
    "plt.show()"
   ]
  },
  {
   "cell_type": "code",
   "execution_count": null,
   "metadata": {},
   "outputs": [],
   "source": [
    "cou2=dict(Course[['Courses','Balance_Amount']].sort_values('Balance_Amount',ascending=False).head(20))\n",
    "plt.figure(figsize=(10,10))\n",
    "sns.barplot(x=list(list(cou2.values())[1]),y=list(list(cou2.values())[0]))\n",
    "plt.xlabel('Balance Fees')\n",
    "plt.ylabel('Courses')\n",
    "plt.title('Top 20 Courses in Balance Fees')\n",
    "plt.show()"
   ]
  },
  {
   "cell_type": "code",
   "execution_count": null,
   "metadata": {},
   "outputs": [],
   "source": [
    "def p(a):\n",
    "    if a<=0:\n",
    "        return 'No Balance'\n",
    "    elif a>0 and a<=50:\n",
    "        return 'Having <50%'\n",
    "    elif a>50 and a<100:\n",
    "        return 'Having >50%'\n",
    "    elif a==100:\n",
    "        return 'Not Paied'\n",
    "\n",
    "Course['Bal_cat']=Course['Balance_in_per'].apply(lambda x:p(x))"
   ]
  },
  {
   "cell_type": "code",
   "execution_count": null,
   "metadata": {},
   "outputs": [],
   "source": [
    "cou3=dict(Course['Bal_cat'].value_counts())"
   ]
  },
  {
   "cell_type": "code",
   "execution_count": null,
   "metadata": {},
   "outputs": [],
   "source": [
    "import plotly.graph_objects as go\n",
    "labels = list(cou3.keys())\n",
    "values = list(cou3.values())\n",
    "\n",
    "# Use `hole` to create a donut-like pie chart\n",
    "fig = go.Figure(data=[go.Pie(labels=labels, values=values, hole=.4,text=list(cou3.keys()))])\n",
    "fig.show()"
   ]
  },
  {
   "cell_type": "code",
   "execution_count": null,
   "metadata": {},
   "outputs": [],
   "source": [
    "lo=Course[['Courses','Local Students','Non-Local Students','Counts']].sort_values('Counts',ascending=False).head(20)"
   ]
  },
  {
   "cell_type": "code",
   "execution_count": null,
   "metadata": {},
   "outputs": [],
   "source": [
    "lo1=list(lo['Courses'])\n",
    "lo2=list(lo['Local Students'])\n",
    "lo3=list(lo['Non-Local Students'])\n",
    "lo4=list(lo['Counts'])"
   ]
  },
  {
   "cell_type": "code",
   "execution_count": null,
   "metadata": {},
   "outputs": [],
   "source": [
    "lo"
   ]
  },
  {
   "cell_type": "code",
   "execution_count": null,
   "metadata": {},
   "outputs": [],
   "source": [
    "import plotly.graph_objects as go\n",
    "\n",
    "\n",
    "\n",
    "fig = go.Figure()\n",
    "fig.add_trace(go.Bar(\n",
    "    x=lo1,\n",
    "    y=lo4,\n",
    "    name='Count',\n",
    "    marker_color='indianred'\n",
    "))\n",
    "fig.add_trace(go.Bar(\n",
    "    x=lo1,\n",
    "    y=lo2,\n",
    "    name='Local Students',\n",
    "    marker_color='lightsalmon'\n",
    "))\n",
    "fig.add_trace(go.Bar(\n",
    "    x=lo1,\n",
    "    y=lo3,\n",
    "    name='Non Local Students',\n",
    "    marker_color='lightseagreen'\n",
    "))\n",
    "\n",
    "# Here we modify the tickangle of the xaxis, resulting in rotated labels.\n",
    "fig.update_layout(barmode='group', xaxis_tickangle=-45)\n",
    "fig.show()"
   ]
  },
  {
   "cell_type": "code",
   "execution_count": null,
   "metadata": {},
   "outputs": [],
   "source": [
    "import plotly.graph_objects as go\n",
    "\n",
    "\n",
    "fig = go.Figure(go.Bar(x=lo1, y=lo4, name='Local Students'))\n",
    "fig.add_trace(go.Bar(x=lo1, y=lo3, name='Non Local Students'))\n",
    "\n",
    "fig.update_layout(barmode='relative',height=1000,width=1150)\n",
    "fig.show()"
   ]
  },
  {
   "cell_type": "code",
   "execution_count": null,
   "metadata": {},
   "outputs": [],
   "source": [
    "# def count(a):\n",
    "#     b=str(a)\n",
    "#     c=len(b)\n",
    "#     d={}\n",
    "#     for i in range(c):\n",
    "#         cou=0\n",
    "#         for j in range(1,c):\n",
    "#             if b[i]!=b[j]:\n",
    "#                 cou+=1\n",
    "#                 return d.setdefault(cou,i)\n",
    "#             elif b[i]==b[j]:\n",
    "#                 cou+=1\n",
    "#             return d.setdefault(cou,i)\n",
    "# count(1222311)"
   ]
  },
  {
   "cell_type": "code",
   "execution_count": null,
   "metadata": {},
   "outputs": [],
   "source": []
  },
  {
   "cell_type": "code",
   "execution_count": null,
   "metadata": {},
   "outputs": [],
   "source": []
  },
  {
   "cell_type": "code",
   "execution_count": null,
   "metadata": {},
   "outputs": [],
   "source": []
  },
  {
   "cell_type": "code",
   "execution_count": null,
   "metadata": {},
   "outputs": [],
   "source": []
  }
 ],
 "metadata": {
  "kernelspec": {
   "display_name": "Python 3",
   "language": "python",
   "name": "python3"
  },
  "language_info": {
   "codemirror_mode": {
    "name": "ipython",
    "version": 3
   },
   "file_extension": ".py",
   "mimetype": "text/x-python",
   "name": "python",
   "nbconvert_exporter": "python",
   "pygments_lexer": "ipython3",
   "version": "3.7.4"
  }
 },
 "nbformat": 4,
 "nbformat_minor": 2
}
