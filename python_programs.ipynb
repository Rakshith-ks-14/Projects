{
 "cells": [
  {
   "cell_type": "code",
   "execution_count": 1,
   "metadata": {},
   "outputs": [],
   "source": [
    "                                                                                                                                                                                                                            `````````````````````````````````````````````````````````````````````````````````````````````a = [3,4,1,2,5,6,9,8]"
   ]
  },
  {
   "cell_type": "code",
   "execution_count": 2,
   "metadata": {},
   "outputs": [],
   "source": []
  },
  {
   "cell_type": "code",
   "execution_count": null,
   "metadata": {},
   "outputs": [],
   "source": [
    "def partition(a,lo,hi):\n",
    "    pivot = a[hi]\n",
    "    for i in range(lo,hi):\n",
    "        if a[]"
   ]
  },
  {
   "cell_type": "code",
   "execution_count": 1,
   "metadata": {},
   "outputs": [
    {
     "data": {
      "text/plain": [
       "2.030605686000869e-12"
      ]
     },
     "execution_count": 1,
     "metadata": {},
     "output_type": "execute_result"
    }
   ],
   "source": [
    "((150*149)/(2))*((1/5)**2)*((4/5)**148)"
   ]
  },
  {
   "cell_type": "code",
   "execution_count": 3,
   "metadata": {},
   "outputs": [
    {
     "data": {
      "text/plain": [
       "2037035976334486086268445688409378161051468393665936250636140449354381299763336706183396775"
      ]
     },
     "execution_count": 3,
     "metadata": {},
     "output_type": "execute_result"
    }
   ],
   "source": [
    "4**150 - 601"
   ]
  },
  {
   "cell_type": "code",
   "execution_count": 4,
   "metadata": {},
   "outputs": [
    {
     "data": {
      "text/plain": [
       "528065211594158537922059337706012522435358757507679707524085489790383401135070907691059808736208962288708707602660625"
      ]
     },
     "execution_count": 4,
     "metadata": {},
     "output_type": "execute_result"
    }
   ],
   "source": [
    "6**150 - 751"
   ]
  },
  {
   "cell_type": "code",
   "execution_count": 5,
   "metadata": {},
   "outputs": [
    {
     "data": {
      "text/plain": [
       "700649232162408535461864791644958065640130970938257885878534141944895541342930300743319094181060791015625"
      ]
     },
     "execution_count": 5,
     "metadata": {},
     "output_type": "execute_result"
    }
   ],
   "source": [
    "5**150"
   ]
  },
  {
   "cell_type": "code",
   "execution_count": 53,
   "metadata": {},
   "outputs": [
    {
     "name": "stdout",
     "output_type": "stream",
     "text": [
      "enter the number: 2\n",
      "1 -2 3\n",
      "2 3 4\n",
      "[1, 9]\n",
      "[4, 9, 16]\n"
     ]
    }
   ],
   "source": [
    "n = int(input('enter the number: '))\n",
    "b = []\n",
    "for i in range(n):\n",
    "    a = input().split()\n",
    "    b.append(a)\n",
    "for i in range(len(b)):\n",
    "    print(list(map(lambda x: int(x)**2, filter(lambda x: int(x) > 0, b[i]))))"
   ]
  },
  {
   "cell_type": "code",
   "execution_count": null,
   "metadata": {},
   "outputs": [],
   "source": [
    "[n ** 2 for n in numbers if n > 0]"
   ]
  },
  {
   "cell_type": "code",
   "execution_count": 9,
   "metadata": {},
   "outputs": [
    {
     "name": "stdout",
     "output_type": "stream",
     "text": [
      "enter the length of outer list: 2\n",
      "enter the length of inner list: 1\n",
      "enter the elements: 1\n",
      "enter the length of inner list: 2\n",
      "enter the elements: 1\n",
      "enter the elements: 2\n"
     ]
    },
    {
     "data": {
      "text/plain": [
       "[['1'], ['1', '2']]"
      ]
     },
     "execution_count": 9,
     "metadata": {},
     "output_type": "execute_result"
    }
   ],
   "source": [
    "n = int(input('enter the length of outer list: '))\n",
    "a = []\n",
    "for i in range(n):\n",
    "    m = int(input('enter the length of inner list: '))\n",
    "    b = []\n",
    "    for i in range(m):\n",
    "        ele = input('enter the elements: ')\n",
    "        b.append(ele)\n",
    "    a.append(b)\n",
    "a"
   ]
  },
  {
   "cell_type": "code",
   "execution_count": 8,
   "metadata": {},
   "outputs": [
    {
     "data": {
      "text/plain": [
       "[['2'], ['1', '1']]"
      ]
     },
     "execution_count": 8,
     "metadata": {},
     "output_type": "execute_result"
    }
   ],
   "source": [
    "a"
   ]
  },
  {
   "cell_type": "code",
   "execution_count": 5,
   "metadata": {},
   "outputs": [
    {
     "data": {
      "text/plain": [
       "True"
      ]
     },
     "execution_count": 5,
     "metadata": {},
     "output_type": "execute_result"
    }
   ],
   "source": [
    "'1'.isdigit()"
   ]
  },
  {
   "cell_type": "code",
   "execution_count": 10,
   "metadata": {},
   "outputs": [],
   "source": [
    "a = (1,2,3,4,5,6)"
   ]
  },
  {
   "cell_type": "code",
   "execution_count": 3,
   "metadata": {},
   "outputs": [
    {
     "name": "stdout",
     "output_type": "stream",
     "text": [
      "D D D U U D U D U U U\n",
      "1\n"
     ]
    }
   ],
   "source": [
    "sea=1\n",
    "# count=0\n",
    "s=[]\n",
    "r=[]\n",
    "a=list(input().split())\n",
    "for i in a:\n",
    "    if i=='U':\n",
    "        sea+=1\n",
    "    elif i=='D':\n",
    "        sea-=1\n",
    "    s.append(sea)\n",
    "count=0\n",
    "i=0\n",
    "while(i<len(s)):\n",
    "    if s[i]==0:\n",
    "        for j in range(i+1,len(s)):\n",
    "            if s[j]==1:\n",
    "                count+=1\n",
    "                i=j+1\n",
    "                break\n",
    "    else:\n",
    "        i+=1\n",
    "print(count)"
   ]
  },
  {
   "cell_type": "code",
   "execution_count": 3,
   "metadata": {},
   "outputs": [
    {
     "data": {
      "text/plain": [
       "[2, 1, 0, -1, 0, -1, 0, 1]"
      ]
     },
     "execution_count": 3,
     "metadata": {},
     "output_type": "execute_result"
    }
   ],
   "source": [
    "s"
   ]
  },
  {
   "cell_type": "code",
   "execution_count": 15,
   "metadata": {},
   "outputs": [
    {
     "name": "stdout",
     "output_type": "stream",
     "text": [
      "2\n",
      "a 0\n",
      "b 10\n",
      "101000\n"
     ]
    }
   ],
   "source": [
    "# 5\n",
    "# a=0\n",
    "# b=10\n",
    "# c=110\n",
    "# d=111\n",
    "n=int(input())\n",
    "d=[]\n",
    "for i in range(n):\n",
    "    k=input().split()\n",
    "    d.append(k)\n",
    "a=input()\n",
    "s=\"\"\n",
    "i=0\n",
    "while (i<len(a)):\n",
    "    if a[i:] == '111':\n",
    "        s=s+'d'\n",
    "        i+=3\n",
    "    elif a[i:i+3] == '110':\n",
    "        s=s+'c'\n",
    "        i+=3 \n",
    "    elif a[i:i+2] == '10':\n",
    "        s=s+'b'\n",
    "        i+=2\n",
    "    elif a[i] =='0':\n",
    "        s=s+'a'\n",
    "        i+=1"
   ]
  },
  {
   "cell_type": "code",
   "execution_count": 16,
   "metadata": {},
   "outputs": [
    {
     "data": {
      "text/plain": [
       "[['a', '0'], ['b', '10']]"
      ]
     },
     "execution_count": 16,
     "metadata": {},
     "output_type": "execute_result"
    }
   ],
   "source": []
  },
  {
   "cell_type": "code",
   "execution_count": null,
   "metadata": {},
   "outputs": [],
   "source": [
    "\"010110111101100111\""
   ]
  },
  {
   "cell_type": "code",
   "execution_count": 27,
   "metadata": {},
   "outputs": [],
   "source": [
    "def dec(f):\n",
    "    def inner(name):\n",
    "        print(f)\n",
    "        print('Hello! what is your name')\n",
    "        f(name)\n",
    "        print('Welcome',name)\n",
    "    return inner\n",
    "@dec\n",
    "def student(name):\n",
    "    print('My name is',name)\n",
    "@dec\n",
    "def employee(name):\n",
    "    print('My name is',name)"
   ]
  },
  {
   "cell_type": "code",
   "execution_count": 28,
   "metadata": {},
   "outputs": [
    {
     "name": "stdout",
     "output_type": "stream",
     "text": [
      "<function employee at 0x00000144EDA4E8B8>\n",
      "Hello! what is your name\n",
      "My name is jaa\n",
      "Welcome jaa\n"
     ]
    }
   ],
   "source": [
    "employee('jaa')"
   ]
  },
  {
   "cell_type": "code",
   "execution_count": 24,
   "metadata": {},
   "outputs": [
    {
     "name": "stdout",
     "output_type": "stream",
     "text": [
      "<function dec.<locals>.inner at 0x00000144EDA4EA68>\n",
      "<function student at 0x00000144EDA4ED38>\n",
      "Hello! what is your name\n",
      "My name is pooo\n",
      "Welcome pooo\n"
     ]
    }
   ],
   "source": [
    "print(student)\n",
    "student('pooo')"
   ]
  },
  {
   "cell_type": "code",
   "execution_count": 19,
   "metadata": {},
   "outputs": [
    {
     "name": "stdout",
     "output_type": "stream",
     "text": [
      "<function student at 0x00000144EDB05F78>\n",
      "Hello! what is your name\n",
      "My name is bhav\n",
      "Welcome bhav\n"
     ]
    }
   ],
   "source": [
    "obj=dec(student)\n",
    "obj('bhav')"
   ]
  },
  {
   "cell_type": "code",
   "execution_count": 50,
   "metadata": {},
   "outputs": [
    {
     "name": "stdout",
     "output_type": "stream",
     "text": [
      "a 3\n",
      "a 2\n",
      "a 1\n",
      "b 3\n",
      "b 2\n",
      "b 1\n",
      "c 3\n",
      "c 2\n",
      "c 1\n",
      "d 3\n",
      "d 2\n",
      "d 1\n",
      "a 2\n",
      "a 1\n"
     ]
    }
   ],
   "source": [
    "def countOccurence(s):\n",
    "    for i in range(len(s)):\n",
    "        count=1\n",
    "        while i<len(s)-1 and s[i]==s[i+1]:\n",
    "            count+=1\n",
    "            i+=1\n",
    "        print(s[i], count)\n",
    "s = 'aaabbbcccdddaa'\n",
    "countOccurence(s)"
   ]
  },
  {
   "cell_type": "code",
   "execution_count": 54,
   "metadata": {},
   "outputs": [],
   "source": [
    "def decor1(func):\n",
    "    def inner(name):\n",
    "        print('decor1 inner() ')\n",
    "        func(name)\n",
    "    return inner\n",
    "@decor1\n",
    "def wish(name):\n",
    "    print('hi',name)\n"
   ]
  },
  {
   "cell_type": "code",
   "execution_count": 63,
   "metadata": {},
   "outputs": [
    {
     "name": "stdout",
     "output_type": "stream",
     "text": [
      "decor1 inner() \n",
      "hi abc\n"
     ]
    }
   ],
   "source": [
    "wish('abc')"
   ]
  },
  {
   "cell_type": "code",
   "execution_count": 64,
   "metadata": {},
   "outputs": [
    {
     "name": "stdout",
     "output_type": "stream",
     "text": [
      "decor1 inner() \n",
      "hi xyz\n"
     ]
    }
   ],
   "source": [
    "wish('xyz')"
   ]
  },
  {
   "cell_type": "code",
   "execution_count": 71,
   "metadata": {},
   "outputs": [],
   "source": [
    "import math as m"
   ]
  },
  {
   "cell_type": "code",
   "execution_count": 72,
   "metadata": {},
   "outputs": [
    {
     "data": {
      "text/plain": [
       "3.0"
      ]
     },
     "execution_count": 72,
     "metadata": {},
     "output_type": "execute_result"
    }
   ],
   "source": [
    "m.sqrt(9)"
   ]
  },
  {
   "cell_type": "code",
   "execution_count": 77,
   "metadata": {},
   "outputs": [],
   "source": [
    "math=m"
   ]
  },
  {
   "cell_type": "code",
   "execution_count": 78,
   "metadata": {},
   "outputs": [
    {
     "data": {
      "text/plain": [
       "3.0"
      ]
     },
     "execution_count": 78,
     "metadata": {},
     "output_type": "execute_result"
    }
   ],
   "source": [
    "math.sqrt(9)"
   ]
  },
  {
   "cell_type": "code",
   "execution_count": null,
   "metadata": {},
   "outputs": [],
   "source": [
    "[1,2,3,4]"
   ]
  },
  {
   "cell_type": "code",
   "execution_count": 109,
   "metadata": {},
   "outputs": [],
   "source": [
    "class a:\n",
    "    def __init__(self):\n",
    "        self.data = [1,2,3,4]\n",
    "        self.index = -1\n",
    "    \n",
    "    def __iter__(self):\n",
    "        return self\n",
    "        \n",
    "    def __next__(self):\n",
    "        self.index+=1\n",
    "        return self.data[self.index]"
   ]
  },
  {
   "cell_type": "code",
   "execution_count": 129,
   "metadata": {},
   "outputs": [],
   "source": [
    "class power:\n",
    "    def __init__(self, l = 0):\n",
    "        self.l = l\n",
    "\n",
    "    def __iter__(self):\n",
    "        self.n = 0\n",
    "        return self\n",
    "\n",
    "    def __next__(self):\n",
    "        if self.n <= self.l:\n",
    "            result = 2 ** self.n\n",
    "            self.n += 1\n",
    "            return result\n",
    "        else:\n",
    "            raise StopIteration"
   ]
  },
  {
   "cell_type": "code",
   "execution_count": 130,
   "metadata": {},
   "outputs": [],
   "source": [
    "a = power(5)"
   ]
  },
  {
   "cell_type": "code",
   "execution_count": 131,
   "metadata": {},
   "outputs": [],
   "source": [
    "i = iter(a)"
   ]
  },
  {
   "cell_type": "code",
   "execution_count": 132,
   "metadata": {},
   "outputs": [
    {
     "data": {
      "text/plain": [
       "1"
      ]
     },
     "execution_count": 132,
     "metadata": {},
     "output_type": "execute_result"
    }
   ],
   "source": [
    "next(i)"
   ]
  },
  {
   "cell_type": "code",
   "execution_count": 133,
   "metadata": {},
   "outputs": [
    {
     "data": {
      "text/plain": [
       "2"
      ]
     },
     "execution_count": 133,
     "metadata": {},
     "output_type": "execute_result"
    }
   ],
   "source": [
    "next(i)"
   ]
  },
  {
   "cell_type": "code",
   "execution_count": 134,
   "metadata": {},
   "outputs": [
    {
     "data": {
      "text/plain": [
       "4"
      ]
     },
     "execution_count": 134,
     "metadata": {},
     "output_type": "execute_result"
    }
   ],
   "source": [
    "next(i)"
   ]
  },
  {
   "cell_type": "code",
   "execution_count": 135,
   "metadata": {},
   "outputs": [
    {
     "data": {
      "text/plain": [
       "8"
      ]
     },
     "execution_count": 135,
     "metadata": {},
     "output_type": "execute_result"
    }
   ],
   "source": [
    "next(i)"
   ]
  },
  {
   "cell_type": "code",
   "execution_count": 136,
   "metadata": {},
   "outputs": [
    {
     "data": {
      "text/plain": [
       "16"
      ]
     },
     "execution_count": 136,
     "metadata": {},
     "output_type": "execute_result"
    }
   ],
   "source": [
    "next(i)"
   ]
  },
  {
   "cell_type": "code",
   "execution_count": 137,
   "metadata": {},
   "outputs": [
    {
     "data": {
      "text/plain": [
       "32"
      ]
     },
     "execution_count": 137,
     "metadata": {},
     "output_type": "execute_result"
    }
   ],
   "source": [
    "next(i)"
   ]
  },
  {
   "cell_type": "code",
   "execution_count": 138,
   "metadata": {},
   "outputs": [
    {
     "ename": "StopIteration",
     "evalue": "",
     "output_type": "error",
     "traceback": [
      "\u001b[1;31m---------------------------------------------------------------------------\u001b[0m",
      "\u001b[1;31mStopIteration\u001b[0m                             Traceback (most recent call last)",
      "\u001b[1;32m<ipython-input-138-a883b34d6d8a>\u001b[0m in \u001b[0;36m<module>\u001b[1;34m\u001b[0m\n\u001b[1;32m----> 1\u001b[1;33m \u001b[0mnext\u001b[0m\u001b[1;33m(\u001b[0m\u001b[0mi\u001b[0m\u001b[1;33m)\u001b[0m\u001b[1;33m\u001b[0m\u001b[1;33m\u001b[0m\u001b[0m\n\u001b[0m",
      "\u001b[1;32m<ipython-input-129-fca070ca7504>\u001b[0m in \u001b[0;36m__next__\u001b[1;34m(self)\u001b[0m\n\u001b[0;32m     13\u001b[0m             \u001b[1;32mreturn\u001b[0m \u001b[0mresult\u001b[0m\u001b[1;33m\u001b[0m\u001b[1;33m\u001b[0m\u001b[0m\n\u001b[0;32m     14\u001b[0m         \u001b[1;32melse\u001b[0m\u001b[1;33m:\u001b[0m\u001b[1;33m\u001b[0m\u001b[1;33m\u001b[0m\u001b[0m\n\u001b[1;32m---> 15\u001b[1;33m             \u001b[1;32mraise\u001b[0m \u001b[0mStopIteration\u001b[0m\u001b[1;33m\u001b[0m\u001b[1;33m\u001b[0m\u001b[0m\n\u001b[0m",
      "\u001b[1;31mStopIteration\u001b[0m: "
     ]
    }
   ],
   "source": [
    "next(i)"
   ]
  },
  {
   "cell_type": "code",
   "execution_count": 2,
   "metadata": {},
   "outputs": [],
   "source": [
    "import random as r"
   ]
  },
  {
   "cell_type": "code",
   "execution_count": 20,
   "metadata": {},
   "outputs": [
    {
     "data": {
      "text/plain": [
       "'a'"
      ]
     },
     "execution_count": 20,
     "metadata": {},
     "output_type": "execute_result"
    }
   ],
   "source": [
    "r.choice('abc')"
   ]
  },
  {
   "cell_type": "code",
   "execution_count": 10,
   "metadata": {},
   "outputs": [],
   "source": [
    "import string as s"
   ]
  },
  {
   "cell_type": "code",
   "execution_count": 13,
   "metadata": {},
   "outputs": [
    {
     "data": {
      "text/plain": [
       "'abcdefghijklmnopqrstuvwxyzABCDEFGHIJKLMNOPQRSTUVWXYZ'"
      ]
     },
     "execution_count": 13,
     "metadata": {},
     "output_type": "execute_result"
    }
   ],
   "source": [
    "s.ascii_letters"
   ]
  },
  {
   "cell_type": "code",
   "execution_count": 23,
   "metadata": {},
   "outputs": [
    {
     "data": {
      "text/plain": [
       "'WeskXF'"
      ]
     },
     "execution_count": 23,
     "metadata": {},
     "output_type": "execute_result"
    }
   ],
   "source": [
    "n = 6\n",
    "''.join(r.choice(s.ascii_letters) for i in range(n))"
   ]
  },
  {
   "cell_type": "code",
   "execution_count": 94,
   "metadata": {},
   "outputs": [
    {
     "name": "stdout",
     "output_type": "stream",
     "text": [
      "[[2, 'g'], [2, 'o'], [1, 'e']]\n"
     ]
    }
   ],
   "source": [
    "st='google'\n",
    "s=''\n",
    "d=[]\n",
    "for i in range(len(st)):\n",
    "    count=0\n",
    "    if st[i] not in s:\n",
    "        s+=st[i]\n",
    "        for j in range(len(st)):\n",
    "            if st[i]==st[j]:\n",
    "                count+=1\n",
    "        d.append([count,st[i]])\n",
    "d.sort(reverse=True)\n",
    "a=d\n",
    "for i in range(len(a)):\n",
    "    for j in range(i+1,len(a)):\n",
    "        if a[i][0]==a[j][0]:\n",
    "            if a[i][1]>a[j][1]:\n",
    "                a[i],a[j]=a[j],a[i]\n",
    "print(a[:3])"
   ]
  },
  {
   "cell_type": "code",
   "execution_count": 25,
   "metadata": {},
   "outputs": [
    {
     "name": "stdout",
     "output_type": "stream",
     "text": [
      "1\n"
     ]
    }
   ],
   "source": [
    "l=[-1,-2]\n",
    "l.sort()\n",
    "j=len(l)\n",
    "l1=[]        \n",
    "for i in range(j-1):\n",
    "    if l[j-(i+1)]>0:\n",
    "        if l[j-(i+1)]-l[j-(i+2)]>1:\n",
    "            if l[j-(i+2)]+1>=1 and 1 not in l:\n",
    "                l1.append(1)\n",
    "            else:\n",
    "                l1.append(l[j-(i+2)]+1)\n",
    "        else:\n",
    "            l1.append(l[len(l)-1]+1)\n",
    "    else:\n",
    "        continue\n",
    "if len(l1)<1:\n",
    "    print(1)\n",
    "else:\n",
    "    min(l1)"
   ]
  },
  {
   "cell_type": "code",
   "execution_count": 90,
   "metadata": {},
   "outputs": [
    {
     "name": "stdout",
     "output_type": "stream",
     "text": [
      "Enter the String : aba\n",
      "10\n",
      "7\n"
     ]
    }
   ],
   "source": [
    "s=input('Enter the String : ')\n",
    "n=int(input())\n",
    "c=s.count('a')\n",
    "a=int(n/len(s))\n",
    "k=n-len(s)*a\n",
    "cou=a*c\n",
    "for i in range(k):\n",
    "    if s[i]=='a':\n",
    "        cou+=1\n",
    "print(cou)"
   ]
  },
  {
   "cell_type": "code",
   "execution_count": 140,
   "metadata": {},
   "outputs": [
    {
     "name": "stdout",
     "output_type": "stream",
     "text": [
      "1 1 1 0 \n",
      "0 1 0 0 \n",
      "1 1 1 0 \n",
      "0 0 2 4 \n"
     ]
    }
   ],
   "source": [
    "a=[[1, 1, 1, 0, 0, 0], [0, 1, 0, 0, 0, 0], [1, 1, 1, 0, 0, 0], [0, 0, 2, 4, 4, 0], [0, 0, 0, 2, 0, 0], [0, 0, 1, 2, 4, 0]]\n",
    "col=len(a)\n",
    "row=len(a[0])\n",
    "for i in range(col-2):\n",
    "    for j in range(len(a[i])-2):\n",
    "        print(a[i][j],end=' ')"
   ]
  },
  {
   "cell_type": "code",
   "execution_count": 121,
   "metadata": {},
   "outputs": [
    {
     "data": {
      "text/plain": [
       "[5, 1, 2, 3, 4]"
      ]
     },
     "execution_count": 121,
     "metadata": {},
     "output_type": "execute_result"
    }
   ],
   "source": [
    "l=[1,2,3,4,5]\n",
    "n=4\n",
    "l[n%len(l):len(l)+1]+l[:n%len(l)]"
   ]
  },
  {
   "cell_type": "code",
   "execution_count": null,
   "metadata": {},
   "outputs": [],
   "source": [
    "# 5 3\n",
    "# 1 2 100\n",
    "# 2 5 100\n",
    "# 3 4 100"
   ]
  },
  {
   "cell_type": "code",
   "execution_count": 156,
   "metadata": {},
   "outputs": [
    {
     "name": "stdout",
     "output_type": "stream",
     "text": [
      "5 3\n",
      "1 2 100\n",
      "2 5 100\n",
      "3 4 100\n",
      "200\n"
     ]
    }
   ],
   "source": [
    "l,o=map(int,input().split())\n",
    "l1=[0]*l\n",
    "l2=[]\n",
    "for i in range(o):\n",
    "    l2.append(list(map(int,input().split())))\n",
    "    for j in range(l2[i][0],l2[i][1]):\n",
    "        l1[j]+=l2[i][2]\n",
    "print(max(l1))"
   ]
  },
  {
   "cell_type": "code",
   "execution_count": 176,
   "metadata": {},
   "outputs": [
    {
     "data": {
      "text/plain": [
       "200"
      ]
     },
     "execution_count": 176,
     "metadata": {},
     "output_type": "execute_result"
    }
   ],
   "source": [
    "n=5\n",
    "queries=[[1,2,100],[2,5,100],[3,4,100]]\n",
    "l=[0]*n\n",
    "for i in queries:\n",
    "    for j in range(i[0]-1,i[1]):\n",
    "        l[j]+=i[2]\n",
    "max(l)"
   ]
  },
  {
   "cell_type": "code",
   "execution_count": 317,
   "metadata": {},
   "outputs": [
    {
     "name": "stdout",
     "output_type": "stream",
     "text": [
      "6\n"
     ]
    }
   ],
   "source": [
    "q=[1 ,2 ,5 ,3, 7 ,8 ,6 ,4]\n",
    "count=[]\n",
    "j=1\n",
    "for i in q:\n",
    "    if '-' not in str(i-j):\n",
    "        count.append(i-j)\n",
    "    j+=1 \n",
    "if max(count)>=3:\n",
    "    print('chotu')\n",
    "else:\n",
    "    print(sum(count))"
   ]
  },
  {
   "cell_type": "code",
   "execution_count": 2,
   "metadata": {},
   "outputs": [
    {
     "name": "stdout",
     "output_type": "stream",
     "text": [
      "0\n"
     ]
    }
   ],
   "source": [
    "n=0\n",
    "org = range(n+1)\n",
    "pos = range(n+1)\n",
    "cnt = [0]*(n + 1)  \n",
    "ans = 0\n",
    "invalid = 0\n",
    "for i in range(n - 1, -1, -1):\n",
    "    if invalid:\n",
    "        break\n",
    "    oldp = pos[arr[i]]\n",
    "    newp = i + 1\n",
    "    while oldp != newp:\n",
    "        ans = ans + 1\n",
    "        cnt[org[oldp + 1]] += 1\n",
    "        if cnt[org[oldp + 1]] > 2:\n",
    "            invalid = 1\n",
    "            break\n",
    "        org[oldp], org[oldp+1] = org[oldp+1], org[oldp]\n",
    "        pos[org[oldp]] = oldp\n",
    "        pos[org[oldp + 1]] = oldp + 1\n",
    "        oldp = oldp + 1\n",
    "    if invalid:\n",
    "        ans = \"Too chaotic\"\n",
    "print(ans)"
   ]
  },
  {
   "cell_type": "code",
   "execution_count": 43,
   "metadata": {},
   "outputs": [
    {
     "name": "stdout",
     "output_type": "stream",
     "text": [
      "The total time taken: 0.0020024776458740234\n",
      "Square: 1\n",
      "Square: 4\n",
      "Square: 9\n",
      "Square: 16\n",
      "in Daemon\n",
      "Square: 25\n",
      "Square: 36\n",
      "Double: 2\n",
      "in Daemon\n",
      "Double: 4\n",
      "in Daemon\n",
      "Double: 6\n",
      "in Daemon\n",
      "Double: 8\n",
      "in Daemon\n",
      "Double: 10\n",
      "in Daemon\n",
      "Double: 12\n"
     ]
    }
   ],
   "source": [
    "from threading import *\n",
    "import time\n",
    "def doubles(numbers):\n",
    "    time.sleep(5)\n",
    "    for n in numbers:\n",
    "        print('in Daemon')\n",
    "        time.sleep(5)\n",
    "        print(\"Double:\",2*n)\n",
    "def squares(numbers):\n",
    "    for n in numbers:\n",
    "        time.sleep(1)\n",
    "        print(\"Square:\",n*n)\n",
    "numbers=[1,2,3,4,5,6]\n",
    "begintime=time.time()\n",
    "# doubles(numbers)\n",
    "# squares(numbers)\n",
    "t1=Thread(target=doubles,args=(numbers,))\n",
    "t2=Thread(target=squares,args=(numbers,))\n",
    "t1.setDaemon(True)\n",
    "t1.start()\n",
    "t2.start()\n",
    "# t1.join(2.0)\n",
    "# print 'd.isAlive()', d.isAlive()\n",
    "# t2.join()\n",
    "print(\"The total time taken:\",time.time()-begintime)"
   ]
  },
  {
   "cell_type": "code",
   "execution_count": 27,
   "metadata": {},
   "outputs": [
    {
     "name": "stdout",
     "output_type": "stream",
     "text": [
      "Double: 2\n",
      "Double: 4\n",
      "Double: 6\n",
      "Double: 8\n",
      "Double: 10\n",
      "Double: 12\n",
      "Square: 1\n",
      "Square: 4\n",
      "Square: 9\n",
      "Square: 16\n",
      "Square: 25\n",
      "Square: 36\n",
      "The total time taken: 12.096650123596191\n"
     ]
    }
   ],
   "source": [
    "def doubles(numbers):\n",
    "    for n in numbers:\n",
    "        time.sleep(1)\n",
    "        print(\"Double:\",2*n)\n",
    "def squares(numbers):\n",
    "    for n in numbers:\n",
    "        time.sleep(1)\n",
    "        print(\"Square:\",n*n)\n",
    "numbers=[1,2,3,4,5,6]\n",
    "begintime=time.time()\n",
    "doubles(numbers)\n",
    "squares(numbers)\n",
    "print(\"The total time taken:\",time.time()-begintime)"
   ]
  },
  {
   "cell_type": "code",
   "execution_count": 19,
   "metadata": {},
   "outputs": [
    {
     "name": "stdout",
     "output_type": "stream",
     "text": [
      "0\n",
      "1\n",
      "2\n",
      "3\n",
      "4\n",
      "511\n",
      "12\n",
      "13\n",
      "14\n",
      "15\n",
      "16\n",
      "17\n",
      "18\n",
      "19\n",
      "\n",
      "6\n",
      "7\n",
      "8\n",
      "9\n"
     ]
    }
   ],
   "source": [
    "def child():\n",
    "    for i in range(10):\n",
    "        print(i)\n",
    "t=Thread(target=child)\n",
    "t.start()\n",
    "for i in range(11,20):\n",
    "    print(i)"
   ]
  },
  {
   "cell_type": "code",
   "execution_count": 25,
   "metadata": {},
   "outputs": [
    {
     "name": "stdout",
     "output_type": "stream",
     "text": [
      "Child Thread\n",
      "Child Thread\n",
      "Main ThreadChild Thread\n",
      "Child Thread\n",
      "Child Thread\n",
      "Child Thread\n",
      "Child Thread\n",
      "Child Thread\n",
      "Main Thread\n",
      "Main Thread\n",
      "Main Thread\n",
      "Main Thread\n",
      "Main Thread\n",
      "Main Thread\n",
      "Main Thread\n",
      "Main Thread\n",
      "Main Thread\n",
      "\n",
      "Child Thread\n",
      "Child Thread\n"
     ]
    }
   ],
   "source": [
    "def display():\n",
    "    for i in range(1,11):\n",
    "        print(\"Child Thread\")\n",
    "t=Thread(target=display) #creating Thread object\n",
    "t.start() #starting of Thread\n",
    "for i in range(1,11):\n",
    "    print(\"Main Thread\")"
   ]
  },
  {
   "cell_type": "code",
   "execution_count": 32,
   "metadata": {},
   "outputs": [
    {
     "name": "stdout",
     "output_type": "stream",
     "text": [
      "start\n",
      "in run\n",
      "end\n"
     ]
    }
   ],
   "source": [
    "class main(Thread):\n",
    "    def run(self):\n",
    "        print('in run')\n",
    "        time.sleep(1)\n",
    "obj=main()\n",
    "print('start')\n",
    "obj.start()\n",
    "print('end')"
   ]
  },
  {
   "cell_type": "code",
   "execution_count": 48,
   "metadata": {},
   "outputs": [
    {
     "name": "stdout",
     "output_type": "stream",
     "text": [
      "Lazy Thread\n",
      "Lazy Thread\n",
      "Lazy Thread\n",
      "End Of Main Thread\n",
      "Lazy Thread\n",
      "Lazy Thread\n",
      "Lazy Thread\n",
      "Lazy Thread\n",
      "Lazy Thread\n",
      "Lazy Thread\n",
      "Lazy Thread\n"
     ]
    }
   ],
   "source": [
    "from threading import *\n",
    "import time\n",
    "def job():\n",
    "    for i in range(10):\n",
    "        print(\"Lazy Thread\")\n",
    "        time.sleep(2)\n",
    "t=Thread(target=job)\n",
    "t.setDaemon(True)\n",
    "t.start()\n",
    "time.sleep(5)\n",
    "print(\"End Of Main Thread\")"
   ]
  },
  {
   "cell_type": "code",
   "execution_count": 91,
   "metadata": {},
   "outputs": [
    {
     "name": "stdout",
     "output_type": "stream",
     "text": [
      " ****  \n",
      " *   * \n",
      " *   * \n",
      " ****  \n",
      " *     \n",
      " *     \n",
      " *     \n",
      "\n"
     ]
    }
   ],
   "source": [
    "result_str=\"\";    \n",
    "for row in range(0,7):    \n",
    "    for column in range(0,7):     \n",
    "        if (column == 1 or ((row == 0 or row == 3) and column > 0 and column < 5) or ((column == 5 or column == 1) and (row == 1 or row == 2))):  \n",
    "            result_str=result_str+\"*\"    \n",
    "        else:      \n",
    "            result_str=result_str+\" \"    \n",
    "    result_str=result_str+\"\\n\"    \n",
    "print(result_str)"
   ]
  },
  {
   "cell_type": "code",
   "execution_count": 92,
   "metadata": {},
   "outputs": [
    {
     "data": {
      "text/plain": [
       "' ****  \\n *   * \\n *   * \\n ****  \\n *     \\n *     \\n *     \\n'"
      ]
     },
     "execution_count": 92,
     "metadata": {},
     "output_type": "execute_result"
    }
   ],
   "source": [
    "result_str"
   ]
  },
  {
   "cell_type": "code",
   "execution_count": 231,
   "metadata": {},
   "outputs": [
    {
     "name": "stdout",
     "output_type": "stream",
     "text": [
      "********\n",
      "*      *\n",
      "*      *\n",
      "*      *\n",
      "*      *\n",
      "*      *\n",
      "*      *\n",
      "********\n",
      "\n"
     ]
    }
   ],
   "source": [
    "st=''\n",
    "n=7\n",
    "for i in range(n+1):\n",
    "    for j in range(n+1):\n",
    "        if j==0 or i==0 or i==n or j==n:\n",
    "            st+='*'\n",
    "        else:\n",
    "            st+=' '\n",
    "    st+='\\n'\n",
    "print(st)"
   ]
  },
  {
   "cell_type": "code",
   "execution_count": 208,
   "metadata": {},
   "outputs": [
    {
     "name": "stdout",
     "output_type": "stream",
     "text": [
      "    *    \n",
      "   ***   \n",
      "  *****  \n",
      " ******* \n",
      "*********\n",
      "  *****               *****  \n",
      "  *****               *****  \n",
      "  *****               *****  \n",
      "  *****               *****  \n",
      "  *****               *****  \n",
      "  *****               *****  \n",
      "  *****               *****  \n",
      "  *****               *****  \n",
      "  *****               *****  \n",
      "  *****               *****  \n",
      "  *************************   \n",
      "  *************************   \n",
      "  *************************   \n",
      "  *****               *****  \n",
      "  *****               *****  \n",
      "  *****               *****  \n",
      "  *****               *****  \n",
      "  *****               *****  \n",
      "  *****               *****  \n",
      "  *****               *****  \n",
      "  *****               *****  \n",
      "  *****               *****  \n",
      "  *****               *****  \n",
      "                    *********\n",
      "                     ******* \n",
      "                      *****  \n",
      "                       ***   \n",
      "                        *    \n"
     ]
    }
   ],
   "source": [
    "s=''\n",
    "w=5\n",
    "w1=w*2\n",
    "for i in range(1,w1,2):\n",
    "    print(('*'*i).center(w1-1))\n",
    "for i in range(w1):\n",
    "    print(('*'*w).center(w1-1),(' '*w).center(w1-1),('*'*w).center(w1-1))\n",
    "for i in range(w-2):\n",
    "    print(('*'*w**2).center((w**2)+w))\n",
    "for i in range(w1):\n",
    "    print(('*'*w).center(w1-1),(' '*w).center(w1-1),('*'*w).center(w1-1))\n",
    "for i in range(w1-1,0,-2):\n",
    "    print((('*'*i).center(w1-1)).rjust((w**2)+(w-1)))"
   ]
  },
  {
   "cell_type": "code",
   "execution_count": 228,
   "metadata": {},
   "outputs": [
    {
     "name": "stdout",
     "output_type": "stream",
     "text": [
      "        ******************************       \n",
      "        ******************************       \n",
      "        ******************************       \n",
      "                      *****  \n",
      "                      *****  \n",
      "                      *****  \n",
      "                      *****  \n",
      "                      *****  \n",
      "                      *****  \n",
      "                      *****  \n",
      "                      *****  \n",
      "                      *****  \n",
      "                      *****  \n",
      "  *************************   \n",
      "  *************************   \n",
      "  *************************   \n"
     ]
    }
   ],
   "source": [
    "for i in range(w-2):\n",
    "    print(('*'*w*6).center((w*8)+w))\n",
    "for i in range(w1):\n",
    "    print((' '*w).center(w1-1),(' '*w).center(w1-1),('*'*w).center(w1-1))\n",
    "for i in range(w-2):\n",
    "    print(('*'*w**2).center((w**2)+w))\n"
   ]
  },
  {
   "cell_type": "code",
   "execution_count": 210,
   "metadata": {},
   "outputs": [
    {
     "name": "stdout",
     "output_type": "stream",
     "text": [
      "  *************************   \n",
      "  *************************   \n",
      "  *************************   \n",
      "  *****               *****  \n",
      "  *****               *****  \n",
      "  *****               *****  \n",
      "  *****               *****  \n",
      "  *****               *****  \n",
      "  *****               *****  \n",
      "  *****               *****  \n",
      "  *****               *****  \n",
      "  *****               *****  \n",
      "  *****               *****  \n",
      "  *************************   \n",
      "  *************************   \n",
      "  *************************   \n",
      "  *****               *****  \n",
      "  *****               *****  \n",
      "  *****               *****  \n",
      "  *****               *****  \n",
      "  *****               *****  \n",
      "  *****               *****  \n",
      "  *****               *****  \n",
      "  *****               *****  \n",
      "  *****               *****  \n",
      "  *****               *****  \n"
     ]
    }
   ],
   "source": [
    "w=5\n",
    "w1=w*2\n",
    "# for i in range(1,w1,2):\n",
    "#     print(('*'*i).center(w1-1))\n",
    "for i in range(w-2):\n",
    "    print(('*'*w**2).center((w**2)+w))\n",
    "for i in range(w1):\n",
    "    print(('*'*w).center(w1-1),(' '*w).center(w1-1),('*'*w).center(w1-1))\n",
    "for i in range(w-2):\n",
    "    print(('*'*w**2).center((w**2)+w))\n",
    "for i in range(w1):\n",
    "    print(('*'*w).center(w1-1),(' '*w).center(w1-1),('*'*w).center(w1-1))\n",
    "# for i in range(w1-1,0,-2):\n",
    "#     print((('*'*i).center(w1-1)).rjust((w**2)+(w-1)))"
   ]
  },
  {
   "cell_type": "code",
   "execution_count": 2,
   "metadata": {},
   "outputs": [
    {
     "name": "stdout",
     "output_type": "stream",
     "text": [
      "Consumer waiting for updation\n",
      "Producer Producing Item: 10\n",
      "Producer giving Notification\n",
      "Consumer consumed the item 10\n",
      "Producer Producing Item: 11\n",
      "Producer giving Notification\n",
      "Consumer consumed the item 11\n",
      "Producer Producing Item: 2\n",
      "Producer giving Notification\n",
      "Consumer waiting for updation\n",
      "Producer Producing Item: 85\n",
      "Producer giving Notification\n",
      "Consumer waiting for updation\n",
      "Producer Producing Item: 45\n",
      "Producer giving Notification\n",
      "Consumer consumed the item 45\n",
      "Producer Producing Item: 22\n",
      "Producer giving Notification\n",
      "Consumer consumed the item 22\n",
      "Producer Producing Item: 67\n",
      "Producer giving Notification\n",
      "Consumer waiting for updation\n",
      "Producer Producing Item: 20\n",
      "Producer giving Notification\n",
      "Consumer waiting for updation\n",
      "Producer Producing Item: 72\n",
      "Producer giving Notification\n",
      "Consumer consumed the item 72\n",
      "Producer Producing Item: 58\n",
      "Producer giving Notification\n",
      "Consumer consumed the item 58\n",
      "Producer Producing Item: 75\n",
      "Producer giving Notification\n",
      "Consumer waiting for updation\n",
      "Producer Producing Item: 32\n",
      "Producer giving Notification\n",
      "Consumer waiting for updation\n",
      "Producer Producing Item: 89\n",
      "Producer giving Notification\n",
      "Consumer consumed the item 89\n",
      "Producer Producing Item: 90\n",
      "Producer giving Notification\n",
      "Consumer consumed the item 90\n",
      "Producer Producing Item: 4\n",
      "Producer giving Notification\n",
      "Consumer waiting for updation\n",
      "Producer Producing Item: 93\n",
      "Producer giving Notification\n",
      "Consumer waiting for updation\n",
      "Producer Producing Item: 88\n",
      "Producer giving Notification\n",
      "Consumer consumed the item 88\n",
      "Producer Producing Item: 28\n",
      "Producer giving Notification\n",
      "Consumer consumed the item 28\n",
      "Producer Producing Item: 28\n",
      "Producer giving Notification\n",
      "Consumer waiting for updation\n",
      "Producer Producing Item: 82\n",
      "Producer giving Notification\n",
      "Consumer waiting for updation\n",
      "Producer Producing Item: 31\n",
      "Producer giving Notification\n",
      "Consumer consumed the item 31\n"
     ]
    }
   ],
   "source": [
    "from threading import *\n",
    "import time\n",
    "import random\n",
    "items=[]\n",
    "def produce(c):\n",
    "    while True:\n",
    "        c.acquire()\n",
    "        item=random.randint(1,100)\n",
    "        print(\"Producer Producing Item:\",item)\n",
    "        items.append(item)\n",
    "        print(\"Producer giving Notification\")\n",
    "        c.notify()\n",
    "        c.release()\n",
    "        time.sleep(5)\n",
    "\n",
    "def consume(c):\n",
    "    while True:\n",
    "        c.acquire()\n",
    "        print(\"Consumer waiting for updation\")\n",
    "        c.wait()\n",
    "        print(\"Consumer consumed the item\",items.pop())\n",
    "        c.release()\n",
    "        time.sleep(5)\n",
    "\n",
    "c=Condition()\n",
    "t1=Thread(target=consume,args=(c,))\n",
    "t2=Thread(target=produce,args=(c,))\n",
    "t1.start()\n",
    "t2.start()"
   ]
  },
  {
   "cell_type": "code",
   "execution_count": 9,
   "metadata": {},
   "outputs": [
    {
     "name": "stdout",
     "output_type": "stream",
     "text": [
      "No\n"
     ]
    }
   ],
   "source": [
    "s='hi'\n",
    "s1='world'\n",
    "if any(i in s for i in s1):\n",
    "    print('Yes')\n",
    "else:\n",
    "    print('No')"
   ]
  },
  {
   "cell_type": "code",
   "execution_count": 78,
   "metadata": {},
   "outputs": [
    {
     "ename": "KeyboardInterrupt",
     "evalue": "",
     "output_type": "error",
     "traceback": [
      "\u001b[1;31m---------------------------------------------------------------------------\u001b[0m",
      "\u001b[1;31mKeyboardInterrupt\u001b[0m                         Traceback (most recent call last)",
      "\u001b[1;32m<ipython-input-78-cf17cf8cf157>\u001b[0m in \u001b[0;36m<module>\u001b[1;34m\u001b[0m\n\u001b[0;32m      6\u001b[0m         \u001b[0mcount\u001b[0m\u001b[1;33m+=\u001b[0m\u001b[1;36m1\u001b[0m\u001b[1;33m\u001b[0m\u001b[1;33m\u001b[0m\u001b[0m\n\u001b[0;32m      7\u001b[0m         \u001b[0mn\u001b[0m\u001b[1;33m+=\u001b[0m\u001b[1;36m1\u001b[0m\u001b[1;33m\u001b[0m\u001b[1;33m\u001b[0m\u001b[0m\n\u001b[1;32m----> 8\u001b[1;33m     \u001b[1;32melif\u001b[0m \u001b[0ms\u001b[0m\u001b[1;33m[\u001b[0m\u001b[0mn\u001b[0m\u001b[1;33m:\u001b[0m\u001b[0mn\u001b[0m\u001b[1;33m+\u001b[0m\u001b[1;36m2\u001b[0m\u001b[1;33m]\u001b[0m \u001b[1;32min\u001b[0m \u001b[0ms\u001b[0m\u001b[1;33m[\u001b[0m\u001b[0mn\u001b[0m\u001b[1;33m+\u001b[0m\u001b[1;36m2\u001b[0m\u001b[1;33m:\u001b[0m\u001b[0mlen\u001b[0m\u001b[1;33m(\u001b[0m\u001b[0ms\u001b[0m\u001b[1;33m)\u001b[0m\u001b[1;33m]\u001b[0m\u001b[1;33m:\u001b[0m\u001b[1;33m\u001b[0m\u001b[1;33m\u001b[0m\u001b[0m\n\u001b[0m\u001b[0;32m      9\u001b[0m         \u001b[0mcount\u001b[0m\u001b[1;33m+=\u001b[0m\u001b[1;36m1\u001b[0m\u001b[1;33m\u001b[0m\u001b[1;33m\u001b[0m\u001b[0m\n\u001b[0;32m     10\u001b[0m         \u001b[0mn\u001b[0m\u001b[1;33m+=\u001b[0m\u001b[1;36m2\u001b[0m\u001b[1;33m\u001b[0m\u001b[1;33m\u001b[0m\u001b[0m\n",
      "\u001b[1;31mKeyboardInterrupt\u001b[0m: "
     ]
    }
   ],
   "source": [
    "s='cdcd'\n",
    "n=0\n",
    "count=0\n",
    "while n<len(s):\n",
    "    if s[n] in s[n+1:len(s)]:\n",
    "        count+=1\n",
    "        n+=1\n",
    "    elif s[n:n+2] in s[n+2:len(s)]:\n",
    "        count+=1\n",
    "        n+=2\n",
    "count"
   ]
  },
  {
   "cell_type": "code",
   "execution_count": 76,
   "metadata": {},
   "outputs": [
    {
     "data": {
      "text/plain": [
       "True"
      ]
     },
     "execution_count": 76,
     "metadata": {},
     "output_type": "execute_result"
    }
   ],
   "source": [
    "n=0\n",
    "count=0\n",
    "if s[n] in s[n+1:len(s)]:\n",
    "    count+=1\n",
    "\n",
    "s[n:n+2] in s[n+2:len(s)]"
   ]
  },
  {
   "cell_type": "code",
   "execution_count": 66,
   "metadata": {},
   "outputs": [],
   "source": [
    "# from itertools import combinations\n",
    "# count=0\n",
    "# s=set()\n",
    "# for i in combinations(['i','f','a','i','l','u','h','k','q','q'],4):\n",
    "#     s.add(''.join(i))\n",
    "# len(s)"
   ]
  },
  {
   "cell_type": "code",
   "execution_count": 77,
   "metadata": {},
   "outputs": [
    {
     "data": {
      "text/plain": [
       "'cd'"
      ]
     },
     "execution_count": 77,
     "metadata": {},
     "output_type": "execute_result"
    }
   ],
   "source": [
    "s[n+2:len(s)]"
   ]
  },
  {
   "cell_type": "code",
   "execution_count": 120,
   "metadata": {},
   "outputs": [
    {
     "name": "stdout",
     "output_type": "stream",
     "text": [
      "[40, 10, 50, 20, 30]\n",
      "[10, 20, 20, 10, 10, 30, 50, 10, 40]\n",
      "40 1\n",
      "10 4\n",
      "50 1\n",
      "20 2\n",
      "30 1\n",
      "3\n"
     ]
    }
   ],
   "source": [
    "def countPairs(ar):\n",
    "    s = list(set(ar))\n",
    "    print(s)\n",
    "    print(ar)\n",
    "    pairs = 0\n",
    "    for i in s:\n",
    "        count=0\n",
    "        for j in range(len(ar)):\n",
    "            if i == ar[j]:\n",
    "                count+=1\n",
    "        print(i,count)\n",
    "        count//=2\n",
    "        pairs = pairs+count\n",
    "    print(pairs)`\n",
    "countPairs([10,20,20,10,10,30,50,10,40])"
   ]
  },
  {
   "cell_type": "code",
   "execution_count": 125,
   "metadata": {},
   "outputs": [
    {
     "name": "stdout",
     "output_type": "stream",
     "text": [
      "1\n",
      "5\n",
      "9\n"
     ]
    }
   ],
   "source": [
    "a = [[1,2,3],\n",
    "     [4,5,6],\n",
    "     [7,8,9]]\n",
    "for i,j in zip(range(len(a)),range(len(a))):\n",
    "    print(a[i][j])\n"
   ]
  },
  {
   "cell_type": "code",
   "execution_count": 149,
   "metadata": {},
   "outputs": [
    {
     "name": "stdout",
     "output_type": "stream",
     "text": [
      "3\n",
      "5\n",
      "7\n"
     ]
    }
   ],
   "source": [
    "a = [[1,2,3],\n",
    "     [4,5,6],\n",
    "     [7,8,9]]\n",
    "for i,j in zip(range(len(a)),range(len(a))):\n",
    "    print(a[i][len(a)-i-1])"
   ]
  },
  {
   "cell_type": "code",
   "execution_count": 158,
   "metadata": {},
   "outputs": [
    {
     "data": {
      "text/plain": [
       "15"
      ]
     },
     "execution_count": 158,
     "metadata": {},
     "output_type": "execute_result"
    }
   ],
   "source": [
    "a = [[11,2,4],\n",
    "     [4,5,6],\n",
    "     [10,8,-12]]\n",
    "sum1 = 0\n",
    "for i in range(len(a)):\n",
    "    sum1 += a[i][i] - a[i][len(a)-i-1]\n",
    "abs(sum1)"
   ]
  },
  {
   "cell_type": "code",
   "execution_count": 213,
   "metadata": {},
   "outputs": [
    {
     "name": "stdout",
     "output_type": "stream",
     "text": [
      "        A           \n",
      "      B B C         \n",
      "    C C C D D       \n",
      "  D D D D E E E     \n",
      "E E E E E F F F F   \n"
     ]
    }
   ],
   "source": [
    "n = 6\n",
    "a = 65\n",
    "for i in range(1,n):\n",
    "    for j in range(1,n):\n",
    "        if i+j>=n:\n",
    "            print(chr(a),end=' ')\n",
    "        else:\n",
    "            print(' ',end=' ')\n",
    "    a+=1\n",
    "    for k in range(1,n):\n",
    "        if k<i:\n",
    "            print(chr(a),end=' ')\n",
    "        else:\n",
    "            print(' ', end=' ')\n",
    "#     a+=1\n",
    "    print()"
   ]
  },
  {
   "cell_type": "code",
   "execution_count": 273,
   "metadata": {},
   "outputs": [
    {
     "name": "stdout",
     "output_type": "stream",
     "text": [
      "        A \n",
      "      A B \n",
      "    A B C \n",
      "  A B C D \n",
      "A B C D E \n"
     ]
    }
   ],
   "source": [
    "n = 6\n",
    "a = 65\n",
    "for i in range(1,n):\n",
    "    for j in range(1,n):\n",
    "        if i+j>=n:\n",
    "            print(chr(a),end=' ')\n",
    "            a+=1\n",
    "        else:\n",
    "            print(' ',end=' ')\n",
    "    a=65\n",
    "    print()"
   ]
  },
  {
   "cell_type": "code",
   "execution_count": 274,
   "metadata": {},
   "outputs": [
    {
     "name": "stdout",
     "output_type": "stream",
     "text": [
      "        A \n",
      "      A B \n",
      "    A B C \n",
      "  A B C D \n",
      "A B C D E \n"
     ]
    }
   ],
   "source": [
    "n = 6\n",
    "a = 64\n",
    "for i in range(1,n):\n",
    "    a=65\n",
    "    for j in range(1,n):\n",
    "        if i+j>=n:\n",
    "            print(chr(a),end=' ')\n",
    "            a+=1\n",
    "        else:\n",
    "            print(' ',end=' ')\n",
    "    print()"
   ]
  },
  {
   "cell_type": "code",
   "execution_count": 282,
   "metadata": {},
   "outputs": [
    {
     "name": "stdout",
     "output_type": "stream",
     "text": [
      "10 14\n"
     ]
    }
   ],
   "source": [
    "a=[1,2,3,4,5]\n",
    "l=[]\n",
    "for i in combinations(a,4):\n",
    "    l.append(sum(i))\n",
    "print(min(l),max(l))"
   ]
  },
  {
   "cell_type": "code",
   "execution_count": 7,
   "metadata": {},
   "outputs": [],
   "source": [
    "from collections import Counter\n",
    "a=Counter([1,2,3,4])"
   ]
  },
  {
   "cell_type": "code",
   "execution_count": 21,
   "metadata": {},
   "outputs": [
    {
     "data": {
      "text/plain": [
       "['A', 'A', 'A', 'A', 'A']"
      ]
     },
     "execution_count": 21,
     "metadata": {},
     "output_type": "execute_result"
    }
   ],
   "source": [
    "a = 65\n",
    "n = 5\n",
    "[chr(a) for i in range(n)]"
   ]
  },
  {
   "cell_type": "code",
   "execution_count": 36,
   "metadata": {},
   "outputs": [
    {
     "name": "stdout",
     "output_type": "stream",
     "text": [
      "Table Created...\n",
      "Records Inserted Successfully...\n",
      "Employee Number: 100\n",
      "Employee Name: Sachin\n",
      "Employee Salary: 1000.0\n",
      "Employee Address: Mumbai\n",
      "\n",
      "\n",
      "Employee Number: 200\n",
      "Employee Name: Dhoni\n",
      "Employee Salary: 2000.0\n",
      "Employee Address: Ranchi\n",
      "\n",
      "\n",
      "Employee Number: 300\n",
      "Employee Name: Kohli\n",
      "Employee Salary: 3000.0\n",
      "Employee Address: Delhi\n",
      "\n",
      "\n"
     ]
    }
   ],
   "source": [
    "import mysql.connector\n",
    "try:\n",
    "    con=mysql.connector.connect(host='localhost',database='mydb',user='root',password='root')\n",
    "    cursor=con.cursor()\n",
    "    cursor.execute(\"create table employees1(eno int(5) primary key,ename varchar(10),esal double(10,2),eaddr varchar(10))\")\n",
    "    print(\"Table Created...\")\n",
    "    sql = \"insert into employees1(eno, ename, esal, eaddr) VALUES(%s, %s, %s, %s)\"\n",
    "    records=[(100,'Sachin',1000,'Mumbai'),\n",
    "             (200,'Dhoni',2000,'Ranchi'),\n",
    "             (300,'Kohli',3000,'Delhi')]\n",
    "    cursor.executemany(sql,records)\n",
    "    con.commit()\n",
    "    print(\"Records Inserted Successfully...\")\n",
    "    cursor.execute(\"select * from employees\")\n",
    "    data=cursor.fetchall()\n",
    "    for row in data:\n",
    "        print(\"Employee Number:\",row[0])\n",
    "        print(\"Employee Name:\",row[1])\n",
    "        print(\"Employee Salary:\",row[2])\n",
    "        print(\"Employee Address:\",row[3])\n",
    "        print()\n",
    "        print()\n",
    "except mysql.connector.DatabaseError as e:\n",
    "    if con:\n",
    "        con.rollback()\n",
    "        print(\"There is a problem with sql :\",e)\n",
    "finally:\n",
    "    if cursor:\n",
    "        cursor.close()\n",
    "    if con:\n",
    "        con.close()"
   ]
  },
  {
   "cell_type": "code",
   "execution_count": 16,
   "metadata": {},
   "outputs": [
    {
     "name": "stdout",
     "output_type": "stream",
     "text": [
      "Connected to MySQL database\n"
     ]
    }
   ],
   "source": [
    "try:\n",
    "    conn = mysql.connector.connect(host='localhost',\n",
    "    database='mydb',\n",
    "    user='root',\n",
    "    password='root')\n",
    "    if conn.is_connected():\n",
    "        print('Connected to MySQL database')\n",
    "    \n",
    "except mysql.connector.Error as e:\n",
    "    print(e)\n",
    "    \n",
    "finally:\n",
    "    conn.close()"
   ]
  },
  {
   "cell_type": "code",
   "execution_count": 35,
   "metadata": {},
   "outputs": [
    {
     "name": "stdout",
     "output_type": "stream",
     "text": [
      "4\n",
      "75\n",
      "57\n"
     ]
    }
   ],
   "source": [
    "n=[4,73,57, ]\n",
    "for i in n:\n",
    "    if i<38 or i%5==0:\n",
    "        print(i)\n",
    "    else:\n",
    "        if (int(i/5)+1)*5-i<3:\n",
    "            print((int(i/5)+1)*5)\n",
    "        else:\n",
    "            print(i)"
   ]
  },
  {
   "cell_type": "code",
   "execution_count": 31,
   "metadata": {},
   "outputs": [
    {
     "data": {
      "text/plain": [
       "40"
      ]
     },
     "execution_count": 31,
     "metadata": {},
     "output_type": "execute_result"
    }
   ],
   "source": [
    "(int(38/5)+1)*5"
   ]
  },
  {
   "cell_type": "code",
   "execution_count": 22,
   "metadata": {},
   "outputs": [
    {
     "data": {
      "text/plain": [
       "70"
      ]
     },
     "execution_count": 22,
     "metadata": {},
     "output_type": "execute_result"
    }
   ],
   "source": [
    "5*14"
   ]
  },
  {
   "cell_type": "code",
   "execution_count": 2,
   "metadata": {},
   "outputs": [
    {
     "name": "stdout",
     "output_type": "stream",
     "text": [
      "There is a problem with Oracle ORA-12504: TNS:listener was not given the SERVICE_NAME in CONNECT_DATA\n"
     ]
    },
    {
     "ename": "NameError",
     "evalue": "name 'cursor' is not defined",
     "output_type": "error",
     "traceback": [
      "\u001b[1;31m---------------------------------------------------------------------------\u001b[0m",
      "\u001b[1;31mNameError\u001b[0m                                 Traceback (most recent call last)",
      "\u001b[1;32m<ipython-input-2-ef629682399a>\u001b[0m in \u001b[0;36m<module>\u001b[1;34m\u001b[0m\n\u001b[0;32m     19\u001b[0m \u001b[1;31m# then also we can close the all database operation\u001b[0m\u001b[1;33m\u001b[0m\u001b[1;33m\u001b[0m\u001b[1;33m\u001b[0m\u001b[0m\n\u001b[0;32m     20\u001b[0m \u001b[1;32mfinally\u001b[0m\u001b[1;33m:\u001b[0m\u001b[1;33m\u001b[0m\u001b[1;33m\u001b[0m\u001b[0m\n\u001b[1;32m---> 21\u001b[1;33m     \u001b[1;32mif\u001b[0m \u001b[0mcursor\u001b[0m\u001b[1;33m:\u001b[0m\u001b[1;33m\u001b[0m\u001b[1;33m\u001b[0m\u001b[0m\n\u001b[0m\u001b[0;32m     22\u001b[0m         \u001b[0mcursor\u001b[0m\u001b[1;33m.\u001b[0m\u001b[0mclose\u001b[0m\u001b[1;33m(\u001b[0m\u001b[1;33m)\u001b[0m\u001b[1;33m\u001b[0m\u001b[1;33m\u001b[0m\u001b[0m\n\u001b[0;32m     23\u001b[0m     \u001b[1;32mif\u001b[0m \u001b[0mcon\u001b[0m\u001b[1;33m:\u001b[0m\u001b[1;33m\u001b[0m\u001b[1;33m\u001b[0m\u001b[0m\n",
      "\u001b[1;31mNameError\u001b[0m: name 'cursor' is not defined"
     ]
    }
   ],
   "source": [
    "# importing module \n",
    "import cx_Oracle  \n",
    "# Create a table in Oracle database \n",
    "try: \n",
    "  \n",
    "    con = cx_Oracle.connect('SCOTT/root@localhost') \n",
    "      \n",
    "    # Now execute the sqlquery \n",
    "    cursor = con.cursor() \n",
    "      \n",
    "    # Creating a table srollno `heading which is number \n",
    "    cursor.execute(\"create table student(srollno number, name varchar2(10), efees number(10, 2)\") \n",
    "                      \n",
    "    print(\"Table Created successful\") \n",
    "      \n",
    "except cx_Oracle.DatabaseError as e: \n",
    "    print(\"There is a problem with Oracle\", e) \n",
    "#  by writing finally if any error occurs \n",
    "# then also we can close the all database operation \n",
    "finally: \n",
    "    if cursor: \n",
    "        cursor.close() \n",
    "    if con: \n",
    "        con.close() "
   ]
  },
  {
   "cell_type": "code",
   "execution_count": 12,
   "metadata": {},
   "outputs": [
    {
     "name": "stdout",
     "output_type": "stream",
     "text": [
      "AAB\n",
      "AAB\n",
      "AAB\n"
     ]
    }
   ],
   "source": [
    "def removeDuplicates(s,k):\n",
    "    a = ''\n",
    "    for i in range(0,len(s),k):\n",
    "        return ''.join(s[i:i+k][j] for j in range(len(s[i:i+k])))\n",
    "        \n",
    "\n",
    "s = 'AABCAAADA'\n",
    "k = 3\n",
    "for i in range(int(len(s)/k)):\n",
    "    print(removeDuplicates(s,k))"
   ]
  },
  {
   "cell_type": "code",
   "execution_count": 5,
   "metadata": {},
   "outputs": [
    {
     "name": "stdout",
     "output_type": "stream",
     "text": [
      "A\n",
      "C\n",
      "A\n"
     ]
    }
   ],
   "source": [
    "def removeDuplicates(s,k):\n",
    "    for i in range(0,len(s),k):\n",
    "        print(s[i:i+k])\n",
    "s = 'AABCAAADA'\n",
    "k = 3\n",
    "removeDuplicates(s,3)"
   ]
  },
  {
   "cell_type": "code",
   "execution_count": 8,
   "metadata": {},
   "outputs": [
    {
     "data": {
      "text/plain": [
       "9"
      ]
     },
     "execution_count": 8,
     "metadata": {},
     "output_type": "execute_result"
    }
   ],
   "source": [
    "s = 'AABCAAADA'\n",
    "k = 3\n",
    "len(s)"
   ]
  },
  {
   "cell_type": "code",
   "execution_count": 44,
   "metadata": {},
   "outputs": [
    {
     "name": "stdout",
     "output_type": "stream",
     "text": [
      "A\n",
      "A\n",
      "A\n"
     ]
    }
   ],
   "source": [
    "def removeDuplicates(s,k):\n",
    "    a = []\n",
    "    for i in range(0,len(s),k):\n",
    "        \n",
    "        return ''.join(a)\n",
    "            \n",
    "        \n",
    "        return ''.join(a)\n",
    "        \n",
    "\n",
    "s = 'AABCAAADA'\n",
    "k = 3\n",
    "for i in range(int(len(s)/k)):\n",
    "    print(removeDuplicates(s,k))"
   ]
  },
  {
   "cell_type": "code",
   "execution_count": 70,
   "metadata": {},
   "outputs": [
    {
     "name": "stdout",
     "output_type": "stream",
     "text": [
      "BA\n",
      "AC\n",
      "DA\n"
     ]
    }
   ],
   "source": [
    "s = 'AABCAAADA'\n",
    "k = 3\n",
    "for i in range(0,len(s),k):\n",
    "    print(''.join(set(s[i:i+k])))"
   ]
  },
  {
   "cell_type": "code",
   "execution_count": 5,
   "metadata": {},
   "outputs": [
    {
     "ename": "DatabaseError",
     "evalue": "ORA-12514: TNS:listener does not currently know of service requested in connect descriptor",
     "output_type": "error",
     "traceback": [
      "\u001b[1;31m---------------------------------------------------------------------------\u001b[0m",
      "\u001b[1;31mDatabaseError\u001b[0m                             Traceback (most recent call last)",
      "\u001b[1;32m<ipython-input-5-ef47e757c5a8>\u001b[0m in \u001b[0;36m<module>\u001b[1;34m\u001b[0m\n\u001b[0;32m      1\u001b[0m \u001b[1;32mimport\u001b[0m \u001b[0mcx_Oracle\u001b[0m\u001b[1;33m\u001b[0m\u001b[1;33m\u001b[0m\u001b[0m\n\u001b[0;32m      2\u001b[0m \u001b[1;33m\u001b[0m\u001b[0m\n\u001b[1;32m----> 3\u001b[1;33m \u001b[0mcon\u001b[0m \u001b[1;33m=\u001b[0m \u001b[0mcx_Oracle\u001b[0m\u001b[1;33m.\u001b[0m\u001b[0mconnect\u001b[0m\u001b[1;33m(\u001b[0m\u001b[1;34m'SCOTT/root@localhost/rak'\u001b[0m\u001b[1;33m)\u001b[0m\u001b[1;33m\u001b[0m\u001b[1;33m\u001b[0m\u001b[0m\n\u001b[0m\u001b[0;32m      4\u001b[0m \u001b[0mprint\u001b[0m\u001b[1;33m(\u001b[0m\u001b[0mcon\u001b[0m\u001b[1;33m.\u001b[0m\u001b[0mversion\u001b[0m\u001b[1;33m)\u001b[0m\u001b[1;33m\u001b[0m\u001b[1;33m\u001b[0m\u001b[0m\n\u001b[0;32m      5\u001b[0m \u001b[1;33m\u001b[0m\u001b[0m\n",
      "\u001b[1;31mDatabaseError\u001b[0m: ORA-12514: TNS:listener does not currently know of service requested in connect descriptor"
     ]
    }
   ],
   "source": [
    "import cx_Oracle\n",
    "\n",
    "con = cx_Oracle.connect('SCOTT/root@localhost/rak')\n",
    "print(con.version)\n",
    "\n",
    "con.close()"
   ]
  },
  {
   "cell_type": "code",
   "execution_count": 23,
   "metadata": {},
   "outputs": [
    {
     "ename": "DatabaseError",
     "evalue": "ORA-12514: TNS:listener does not currently know of service requested in connect descriptor",
     "output_type": "error",
     "traceback": [
      "\u001b[1;31m---------------------------------------------------------------------------\u001b[0m",
      "\u001b[1;31mDatabaseError\u001b[0m                             Traceback (most recent call last)",
      "\u001b[1;32m<ipython-input-23-58d1e510afbd>\u001b[0m in \u001b[0;36m<module>\u001b[1;34m\u001b[0m\n\u001b[1;32m----> 1\u001b[1;33m \u001b[0mcon\u001b[0m \u001b[1;33m=\u001b[0m \u001b[0mcx_Oracle\u001b[0m\u001b[1;33m.\u001b[0m\u001b[0mconnect\u001b[0m\u001b[1;33m(\u001b[0m\u001b[1;34m'SCOTT/root@127.0.0.1/rak'\u001b[0m\u001b[1;33m)\u001b[0m\u001b[1;33m\u001b[0m\u001b[1;33m\u001b[0m\u001b[0m\n\u001b[0m",
      "\u001b[1;31mDatabaseError\u001b[0m: ORA-12514: TNS:listener does not currently know of service requested in connect descriptor"
     ]
    }
   ],
   "source": [
    "con = cx_Oracle.connect('SCOTT/root@127.0.0.1/rak')"
   ]
  },
  {
   "cell_type": "code",
   "execution_count": 22,
   "metadata": {},
   "outputs": [
    {
     "name": "stdout",
     "output_type": "stream",
     "text": [
      "abcd_ADS_aac\n"
     ]
    },
    {
     "data": {
      "text/plain": [
       "<re.Match object; span=(0, 5), match='abcd_'>"
      ]
     },
     "execution_count": 22,
     "metadata": {},
     "output_type": "execute_result"
    }
   ],
   "source": [
    "import re\n",
    "s = input()\n",
    "re.search(r'[a-z_]*',s)"
   ]
  },
  {
   "cell_type": "code",
   "execution_count": 41,
   "metadata": {},
   "outputs": [
    {
     "ename": "SyntaxError",
     "evalue": "invalid syntax (<ipython-input-41-ba7e32a6f97f>, line 4)",
     "output_type": "error",
     "traceback": [
      "\u001b[1;36m  File \u001b[1;32m\"<ipython-input-41-ba7e32a6f97f>\"\u001b[1;36m, line \u001b[1;32m4\u001b[0m\n\u001b[1;33m    print( sum([1 if a+i for i in apples else 0 ]) )\u001b[0m\n\u001b[1;37m                           ^\u001b[0m\n\u001b[1;31mSyntaxError\u001b[0m\u001b[1;31m:\u001b[0m invalid syntax\n"
     ]
    }
   ],
   "source": [
    "a = 4\n",
    "apples = [2,3,-4]\n",
    "s,t = 7,10\n",
    "print( sum([1 if a+i for i in apples else 0 ]) )"
   ]
  },
  {
   "cell_type": "code",
   "execution_count": 38,
   "metadata": {},
   "outputs": [
    {
     "data": {
      "text/plain": [
       "1"
      ]
     },
     "execution_count": 38,
     "metadata": {},
     "output_type": "execute_result"
    }
   ],
   "source": [
    "sum([2,3,-4])"
   ]
  },
  {
   "cell_type": "code",
   "execution_count": 118,
   "metadata": {},
   "outputs": [
    {
     "data": {
      "text/plain": [
       "[1]"
      ]
     },
     "execution_count": 118,
     "metadata": {},
     "output_type": "execute_result"
    }
   ],
   "source": [
    "a = 4\n",
    "apples = [2,3,-4]\n",
    "s,t = 7,10\n",
    "[1 for i in apples if a+i in range(s,t)]"
   ]
  },
  {
   "cell_type": "code",
   "execution_count": 119,
   "metadata": {},
   "outputs": [
    {
     "data": {
      "text/plain": [
       "1"
      ]
     },
     "execution_count": 119,
     "metadata": {},
     "output_type": "execute_result"
    }
   ],
   "source": [
    "len(list(filter(lambda x:x+a>=s and x+a<=t,apples)))\n",
    "len(list(filter(lambda x:x+a>=s and x+a<=t,apples)))"
   ]
  },
  {
   "cell_type": "code",
   "execution_count": 82,
   "metadata": {},
   "outputs": [
    {
     "ename": "error",
     "evalue": "nothing to repeat at position 2",
     "output_type": "error",
     "traceback": [
      "\u001b[1;31m---------------------------------------------------------------------------\u001b[0m",
      "\u001b[1;31merror\u001b[0m                                     Traceback (most recent call last)",
      "\u001b[1;32m<ipython-input-82-8448b0c080a2>\u001b[0m in \u001b[0;36m<module>\u001b[1;34m\u001b[0m\n\u001b[0;32m      1\u001b[0m \u001b[1;32mimport\u001b[0m \u001b[0mre\u001b[0m\u001b[1;33m\u001b[0m\u001b[1;33m\u001b[0m\u001b[0m\n\u001b[1;32m----> 2\u001b[1;33m \u001b[0mre\u001b[0m\u001b[1;33m.\u001b[0m\u001b[0msearch\u001b[0m\u001b[1;33m(\u001b[0m\u001b[1;34mr'\\b+'\u001b[0m\u001b[1;33m,\u001b[0m \u001b[1;34m'12abc123'\u001b[0m\u001b[1;33m)\u001b[0m\u001b[1;33m\u001b[0m\u001b[1;33m\u001b[0m\u001b[0m\n\u001b[0m",
      "\u001b[1;32m~\\Anaconda3\\lib\\re.py\u001b[0m in \u001b[0;36msearch\u001b[1;34m(pattern, string, flags)\u001b[0m\n\u001b[0;32m    181\u001b[0m     \"\"\"Scan through string looking for a match to the pattern, returning\n\u001b[0;32m    182\u001b[0m     a Match object, or None if no match was found.\"\"\"\n\u001b[1;32m--> 183\u001b[1;33m     \u001b[1;32mreturn\u001b[0m \u001b[0m_compile\u001b[0m\u001b[1;33m(\u001b[0m\u001b[0mpattern\u001b[0m\u001b[1;33m,\u001b[0m \u001b[0mflags\u001b[0m\u001b[1;33m)\u001b[0m\u001b[1;33m.\u001b[0m\u001b[0msearch\u001b[0m\u001b[1;33m(\u001b[0m\u001b[0mstring\u001b[0m\u001b[1;33m)\u001b[0m\u001b[1;33m\u001b[0m\u001b[1;33m\u001b[0m\u001b[0m\n\u001b[0m\u001b[0;32m    184\u001b[0m \u001b[1;33m\u001b[0m\u001b[0m\n\u001b[0;32m    185\u001b[0m \u001b[1;32mdef\u001b[0m \u001b[0msub\u001b[0m\u001b[1;33m(\u001b[0m\u001b[0mpattern\u001b[0m\u001b[1;33m,\u001b[0m \u001b[0mrepl\u001b[0m\u001b[1;33m,\u001b[0m \u001b[0mstring\u001b[0m\u001b[1;33m,\u001b[0m \u001b[0mcount\u001b[0m\u001b[1;33m=\u001b[0m\u001b[1;36m0\u001b[0m\u001b[1;33m,\u001b[0m \u001b[0mflags\u001b[0m\u001b[1;33m=\u001b[0m\u001b[1;36m0\u001b[0m\u001b[1;33m)\u001b[0m\u001b[1;33m:\u001b[0m\u001b[1;33m\u001b[0m\u001b[1;33m\u001b[0m\u001b[0m\n",
      "\u001b[1;32m~\\Anaconda3\\lib\\re.py\u001b[0m in \u001b[0;36m_compile\u001b[1;34m(pattern, flags)\u001b[0m\n\u001b[0;32m    284\u001b[0m     \u001b[1;32mif\u001b[0m \u001b[1;32mnot\u001b[0m \u001b[0msre_compile\u001b[0m\u001b[1;33m.\u001b[0m\u001b[0misstring\u001b[0m\u001b[1;33m(\u001b[0m\u001b[0mpattern\u001b[0m\u001b[1;33m)\u001b[0m\u001b[1;33m:\u001b[0m\u001b[1;33m\u001b[0m\u001b[1;33m\u001b[0m\u001b[0m\n\u001b[0;32m    285\u001b[0m         \u001b[1;32mraise\u001b[0m \u001b[0mTypeError\u001b[0m\u001b[1;33m(\u001b[0m\u001b[1;34m\"first argument must be string or compiled pattern\"\u001b[0m\u001b[1;33m)\u001b[0m\u001b[1;33m\u001b[0m\u001b[1;33m\u001b[0m\u001b[0m\n\u001b[1;32m--> 286\u001b[1;33m     \u001b[0mp\u001b[0m \u001b[1;33m=\u001b[0m \u001b[0msre_compile\u001b[0m\u001b[1;33m.\u001b[0m\u001b[0mcompile\u001b[0m\u001b[1;33m(\u001b[0m\u001b[0mpattern\u001b[0m\u001b[1;33m,\u001b[0m \u001b[0mflags\u001b[0m\u001b[1;33m)\u001b[0m\u001b[1;33m\u001b[0m\u001b[1;33m\u001b[0m\u001b[0m\n\u001b[0m\u001b[0;32m    287\u001b[0m     \u001b[1;32mif\u001b[0m \u001b[1;32mnot\u001b[0m \u001b[1;33m(\u001b[0m\u001b[0mflags\u001b[0m \u001b[1;33m&\u001b[0m \u001b[0mDEBUG\u001b[0m\u001b[1;33m)\u001b[0m\u001b[1;33m:\u001b[0m\u001b[1;33m\u001b[0m\u001b[1;33m\u001b[0m\u001b[0m\n\u001b[0;32m    288\u001b[0m         \u001b[1;32mif\u001b[0m \u001b[0mlen\u001b[0m\u001b[1;33m(\u001b[0m\u001b[0m_cache\u001b[0m\u001b[1;33m)\u001b[0m \u001b[1;33m>=\u001b[0m \u001b[0m_MAXCACHE\u001b[0m\u001b[1;33m:\u001b[0m\u001b[1;33m\u001b[0m\u001b[1;33m\u001b[0m\u001b[0m\n",
      "\u001b[1;32m~\\Anaconda3\\lib\\sre_compile.py\u001b[0m in \u001b[0;36mcompile\u001b[1;34m(p, flags)\u001b[0m\n\u001b[0;32m    762\u001b[0m     \u001b[1;32mif\u001b[0m \u001b[0misstring\u001b[0m\u001b[1;33m(\u001b[0m\u001b[0mp\u001b[0m\u001b[1;33m)\u001b[0m\u001b[1;33m:\u001b[0m\u001b[1;33m\u001b[0m\u001b[1;33m\u001b[0m\u001b[0m\n\u001b[0;32m    763\u001b[0m         \u001b[0mpattern\u001b[0m \u001b[1;33m=\u001b[0m \u001b[0mp\u001b[0m\u001b[1;33m\u001b[0m\u001b[1;33m\u001b[0m\u001b[0m\n\u001b[1;32m--> 764\u001b[1;33m         \u001b[0mp\u001b[0m \u001b[1;33m=\u001b[0m \u001b[0msre_parse\u001b[0m\u001b[1;33m.\u001b[0m\u001b[0mparse\u001b[0m\u001b[1;33m(\u001b[0m\u001b[0mp\u001b[0m\u001b[1;33m,\u001b[0m \u001b[0mflags\u001b[0m\u001b[1;33m)\u001b[0m\u001b[1;33m\u001b[0m\u001b[1;33m\u001b[0m\u001b[0m\n\u001b[0m\u001b[0;32m    765\u001b[0m     \u001b[1;32melse\u001b[0m\u001b[1;33m:\u001b[0m\u001b[1;33m\u001b[0m\u001b[1;33m\u001b[0m\u001b[0m\n\u001b[0;32m    766\u001b[0m         \u001b[0mpattern\u001b[0m \u001b[1;33m=\u001b[0m \u001b[1;32mNone\u001b[0m\u001b[1;33m\u001b[0m\u001b[1;33m\u001b[0m\u001b[0m\n",
      "\u001b[1;32m~\\Anaconda3\\lib\\sre_parse.py\u001b[0m in \u001b[0;36mparse\u001b[1;34m(str, flags, pattern)\u001b[0m\n\u001b[0;32m    928\u001b[0m \u001b[1;33m\u001b[0m\u001b[0m\n\u001b[0;32m    929\u001b[0m     \u001b[1;32mtry\u001b[0m\u001b[1;33m:\u001b[0m\u001b[1;33m\u001b[0m\u001b[1;33m\u001b[0m\u001b[0m\n\u001b[1;32m--> 930\u001b[1;33m         \u001b[0mp\u001b[0m \u001b[1;33m=\u001b[0m \u001b[0m_parse_sub\u001b[0m\u001b[1;33m(\u001b[0m\u001b[0msource\u001b[0m\u001b[1;33m,\u001b[0m \u001b[0mpattern\u001b[0m\u001b[1;33m,\u001b[0m \u001b[0mflags\u001b[0m \u001b[1;33m&\u001b[0m \u001b[0mSRE_FLAG_VERBOSE\u001b[0m\u001b[1;33m,\u001b[0m \u001b[1;36m0\u001b[0m\u001b[1;33m)\u001b[0m\u001b[1;33m\u001b[0m\u001b[1;33m\u001b[0m\u001b[0m\n\u001b[0m\u001b[0;32m    931\u001b[0m     \u001b[1;32mexcept\u001b[0m \u001b[0mVerbose\u001b[0m\u001b[1;33m:\u001b[0m\u001b[1;33m\u001b[0m\u001b[1;33m\u001b[0m\u001b[0m\n\u001b[0;32m    932\u001b[0m         \u001b[1;31m# the VERBOSE flag was switched on inside the pattern.  to be\u001b[0m\u001b[1;33m\u001b[0m\u001b[1;33m\u001b[0m\u001b[1;33m\u001b[0m\u001b[0m\n",
      "\u001b[1;32m~\\Anaconda3\\lib\\sre_parse.py\u001b[0m in \u001b[0;36m_parse_sub\u001b[1;34m(source, state, verbose, nested)\u001b[0m\n\u001b[0;32m    424\u001b[0m     \u001b[1;32mwhile\u001b[0m \u001b[1;32mTrue\u001b[0m\u001b[1;33m:\u001b[0m\u001b[1;33m\u001b[0m\u001b[1;33m\u001b[0m\u001b[0m\n\u001b[0;32m    425\u001b[0m         itemsappend(_parse(source, state, verbose, nested + 1,\n\u001b[1;32m--> 426\u001b[1;33m                            not nested and not items))\n\u001b[0m\u001b[0;32m    427\u001b[0m         \u001b[1;32mif\u001b[0m \u001b[1;32mnot\u001b[0m \u001b[0msourcematch\u001b[0m\u001b[1;33m(\u001b[0m\u001b[1;34m\"|\"\u001b[0m\u001b[1;33m)\u001b[0m\u001b[1;33m:\u001b[0m\u001b[1;33m\u001b[0m\u001b[1;33m\u001b[0m\u001b[0m\n\u001b[0;32m    428\u001b[0m             \u001b[1;32mbreak\u001b[0m\u001b[1;33m\u001b[0m\u001b[1;33m\u001b[0m\u001b[0m\n",
      "\u001b[1;32m~\\Anaconda3\\lib\\sre_parse.py\u001b[0m in \u001b[0;36m_parse\u001b[1;34m(source, state, verbose, nested, first)\u001b[0m\n\u001b[0;32m    649\u001b[0m             \u001b[1;32mif\u001b[0m \u001b[1;32mnot\u001b[0m \u001b[0mitem\u001b[0m \u001b[1;32mor\u001b[0m \u001b[0mitem\u001b[0m\u001b[1;33m[\u001b[0m\u001b[1;36m0\u001b[0m\u001b[1;33m]\u001b[0m\u001b[1;33m[\u001b[0m\u001b[1;36m0\u001b[0m\u001b[1;33m]\u001b[0m \u001b[1;32mis\u001b[0m \u001b[0mAT\u001b[0m\u001b[1;33m:\u001b[0m\u001b[1;33m\u001b[0m\u001b[1;33m\u001b[0m\u001b[0m\n\u001b[0;32m    650\u001b[0m                 raise source.error(\"nothing to repeat\",\n\u001b[1;32m--> 651\u001b[1;33m                                    source.tell() - here + len(this))\n\u001b[0m\u001b[0;32m    652\u001b[0m             \u001b[1;32mif\u001b[0m \u001b[0mitem\u001b[0m\u001b[1;33m[\u001b[0m\u001b[1;36m0\u001b[0m\u001b[1;33m]\u001b[0m\u001b[1;33m[\u001b[0m\u001b[1;36m0\u001b[0m\u001b[1;33m]\u001b[0m \u001b[1;32min\u001b[0m \u001b[0m_REPEATCODES\u001b[0m\u001b[1;33m:\u001b[0m\u001b[1;33m\u001b[0m\u001b[1;33m\u001b[0m\u001b[0m\n\u001b[0;32m    653\u001b[0m                 raise source.error(\"multiple repeat\",\n",
      "\u001b[1;31merror\u001b[0m: nothing to repeat at position 2"
     ]
    }
   ],
   "source": [
    "import re\n",
    "re.search(r'\\b+', '12abc123')"
   ]
  },
  {
   "cell_type": "code",
   "execution_count": 86,
   "metadata": {
    "scrolled": true
   },
   "outputs": [
    {
     "name": "stdout",
     "output_type": "stream",
     "text": [
      "          \n",
      "          \n",
      "    *     \n",
      "  * * *   \n",
      "* * * * * \n"
     ]
    }
   ],
   "source": [
    "n = 5\n",
    "for i in range(1,n+1):\n",
    "    for j in range(1,n+1):\n",
    "        if i>=j and i+j>=n+1:\n",
    "            print('*',end=' ')\n",
    "        else:\n",
    "            print(' ',end=' ')\n",
    "    print()"
   ]
  },
  {
   "cell_type": "code",
   "execution_count": 3,
   "metadata": {},
   "outputs": [
    {
     "name": "stdout",
     "output_type": "stream",
     "text": [
      "  *  \n",
      " **  \n",
      " *** \n",
      "**** \n",
      "*****\n"
     ]
    },
    {
     "data": {
      "text/plain": [
       "[None, None, None, None, None]"
      ]
     },
     "execution_count": 3,
     "metadata": {},
     "output_type": "execute_result"
    }
   ],
   "source": [
    "n = 5\n",
    "[print('{:^5s}'.format('*'*i)) for i in range(1, n+1)]"
   ]
  },
  {
   "cell_type": "code",
   "execution_count": 12,
   "metadata": {},
   "outputs": [
    {
     "data": {
      "text/plain": [
       "[90, 56.6, 50, 2.34, 0.12, 0.12, 0, 0.0, -100]"
      ]
     },
     "execution_count": 12,
     "metadata": {},
     "output_type": "execute_result"
    }
   ],
   "source": [
    "a=[-100,50,0,56.6,90,0.12,.12,02.34,000.000]\n",
    "n=len(a)\n",
    "for i in range(n):\n",
    "    for j in range(i-n+1,n):\n",
    "        if a[i]>a[j]:\n",
    "            a[i],a[j]=a[j],a[i]\n",
    "a"
   ]
  },
  {
   "cell_type": "code",
   "execution_count": 15,
   "metadata": {},
   "outputs": [
    {
     "data": {
      "text/plain": [
       "[90, 56.6, 50, 50, 2.34, 0.12, 0.12, 0, 0.0, -100]"
      ]
     },
     "execution_count": 15,
     "metadata": {},
     "output_type": "execute_result"
    }
   ],
   "source": [
    "a=[-100,50,50,0,56.6,90,0.12,.12,02.34,000.000]\n",
    "n=len(a)\n",
    "for i in range(n):\n",
    "    for j in range(i+1,n):\n",
    "        if a[i]<a[j]:\n",
    "            a[i],a[j]=a[j],a[i]\n",
    "a"
   ]
  },
  {
   "cell_type": "code",
   "execution_count": 31,
   "metadata": {},
   "outputs": [
    {
     "data": {
      "text/plain": [
       "[['aleksa', 150],\n",
       " ['amy', 100],\n",
       " ['david', 100],\n",
       " ['aakansha', 75],\n",
       " ['heraldo', 50]]"
      ]
     },
     "execution_count": 31,
     "metadata": {},
     "output_type": "execute_result"
    }
   ],
   "source": [
    "a=[['amy',100] ,['david',100] ,['heraldo',50] ,['aakansha',75] ,['aleksa',150]]\n",
    "n=len(a)\n",
    "for i in range(n):\n",
    "    for j in range(i-n+1,n):\n",
    "        if a[i][1]==a[j][1] and a[i][0]<a[j][0]:\n",
    "            a[i],a[j]=a[j],a[i]\n",
    "        elif a[i][1]>a[j][1]:\n",
    "            a[i],a[j]=a[j],a[i]\n",
    "a"
   ]
  },
  {
   "cell_type": "code",
   "execution_count": 39,
   "metadata": {},
   "outputs": [
    {
     "name": "stdout",
     "output_type": "stream",
     "text": [
      "Goodbye bye world \n",
      "Sam went to his business \n",
      "Reya is the best player in eye game \n",
      "in inthe \n",
      "Hello hello Ab aB \n"
     ]
    }
   ],
   "source": [
    "s=['Goodbye bye bye world world world','Sam went went to to to his business','Reya is is the the best player in eye eye game','in inthe','Hello hello Ab aB']\n",
    "for i in s:\n",
    "    s1=''\n",
    "    for j in i.split():\n",
    "        a=\" \"+j+\" \"\n",
    "        if a not in s1:\n",
    "            s1+=j+' '\n",
    "    print(s1)"
   ]
  },
  {
   "cell_type": "code",
   "execution_count": 52,
   "metadata": {},
   "outputs": [
    {
     "name": "stdout",
     "output_type": "stream",
     "text": [
      "\n"
     ]
    }
   ],
   "source": [
    "s='a'\n",
    "if len(s)>2 and len(s)<=4:\n",
    "    print(s)\n",
    "elif len(s)==2:\n",
    "    print(s*2)\n",
    "elif len(s)>4:\n",
    "    print(s[0:2]+s[-1:-3:-1])\n",
    "else:\n",
    "    print('')"
   ]
  },
  {
   "cell_type": "code",
   "execution_count": 117,
   "metadata": {},
   "outputs": [
    {
     "data": {
      "text/plain": [
       "'abcd$j$'"
      ]
     },
     "execution_count": 117,
     "metadata": {},
     "output_type": "execute_result"
    }
   ],
   "source": [
    "s='abcdaja'\n",
    "s[0]+s[1:].replace(s[0],'$')"
   ]
  },
  {
   "cell_type": "code",
   "execution_count": 124,
   "metadata": {},
   "outputs": [
    {
     "data": {
      "text/plain": [
       "'xycd abzy'"
      ]
     },
     "execution_count": 124,
     "metadata": {},
     "output_type": "execute_result"
    }
   ],
   "source": [
    "a='abcd'\n",
    "b='xyzy'\n",
    "b[0:2]+a[2:len(a)]+' '+a[0:2]+b[2:len(b)]"
   ]
  },
  {
   "cell_type": "code",
   "execution_count": 1,
   "metadata": {},
   "outputs": [
    {
     "name": "stdout",
     "output_type": "stream",
     "text": [
      "abingly\n"
     ]
    }
   ],
   "source": [
    "s='abing'\n",
    "if len(s)>=3:\n",
    "    if s.endswith('ing'):\n",
    "        print(s+'ly')\n",
    "    else:\n",
    "        print(s+'ing')\n",
    "else:\n",
    "    print(s)"
   ]
  },
  {
   "cell_type": "code",
   "execution_count": 26,
   "metadata": {},
   "outputs": [
    {
     "data": {
      "text/plain": [
       "'the lyrics is good! the lyrics is poor!'"
      ]
     },
     "execution_count": 26,
     "metadata": {},
     "output_type": "execute_result"
    }
   ],
   "source": [
    "import re\n",
    "s='the lyrics is not that poor! the lyrics is poor!'\n",
    "re.sub('(not.*poor)(.*)(\\s+\\S*)+','good\\\\2\\\\3',s)"
   ]
  },
  {
   "cell_type": "code",
   "execution_count": 35,
   "metadata": {},
   "outputs": [
    {
     "name": "stdout",
     "output_type": "stream",
     "text": [
      "6\n"
     ]
    }
   ],
   "source": [
    "s='the lyrics is not that poor! the lyrics is poor!'\n",
    "s1=list(set(s.split()))\n",
    "for i in range(len(s1)-1):\n",
    "    ma=s1[i]\n",
    "    if len(ma)<len(s1[i+1]):\n",
    "        ma=s1[i+1]\n",
    "print(len(ma))"
   ]
  },
  {
   "cell_type": "code",
   "execution_count": 36,
   "metadata": {},
   "outputs": [
    {
     "data": {
      "text/plain": [
       "'sadsasdh'"
      ]
     },
     "execution_count": 36,
     "metadata": {},
     "output_type": "execute_result"
    }
   ],
   "source": [
    "n=5\n",
    "s='sadsaisdh'\n",
    "''.join(s.split(s[n]))"
   ]
  },
  {
   "cell_type": "code",
   "execution_count": 42,
   "metadata": {},
   "outputs": [
    {
     "data": {
      "text/plain": [
       "'hadsaisds'"
      ]
     },
     "execution_count": 42,
     "metadata": {},
     "output_type": "execute_result"
    }
   ],
   "source": [
    "s='sadsaisdh'\n",
    "s1=s[-1]+s[1:-1]+s[0]\n",
    "s1"
   ]
  },
  {
   "cell_type": "code",
   "execution_count": 43,
   "metadata": {},
   "outputs": [
    {
     "name": "stdout",
     "output_type": "stream",
     "text": [
      "<i>sadsaisdh</i>\n"
     ]
    }
   ],
   "source": [
    "tag='i'\n",
    "s='sadsaisdh'\n",
    "print('<{}>{}</{}>'.format(tag,s,tag))"
   ]
  },
  {
   "cell_type": "code",
   "execution_count": 53,
   "metadata": {},
   "outputs": [
    {
     "name": "stdout",
     "output_type": "stream",
     "text": [
      "[[python]]\n"
     ]
    }
   ],
   "source": [
    "s='[[]]'\n",
    "s1='python'\n",
    "print('{}{}{}'.format(s[0:len(s)-2],s1,s[len(s)-2:]))"
   ]
  },
  {
   "cell_type": "code",
   "execution_count": 67,
   "metadata": {},
   "outputs": [
    {
     "data": {
      "text/plain": [
       "'32,054.23'"
      ]
     },
     "execution_count": 67,
     "metadata": {},
     "output_type": "execute_result"
    }
   ],
   "source": [
    "s='32.054,23'\n",
    "s1=s.split('.')\n",
    "s1[0]+','+'.'.join(s1[1].split(','))\n"
   ]
  },
  {
   "cell_type": "code",
   "execution_count": 73,
   "metadata": {},
   "outputs": [
    {
     "name": "stdout",
     "output_type": "stream",
     "text": [
      "is lyrics\n"
     ]
    }
   ],
   "source": [
    "s='the lyrics is not that poor! the lyrics is poor!'\n",
    "l=list(set(s.split()))\n",
    "n=len(l)\n",
    "for j in range(n):\n",
    "    for k in range(j-n+1,n):\n",
    "        if len(l[k])>len(l[j]):\n",
    "            l[k],l[j]=l[j],l[k]\n",
    "print(l[0],l[n-1])"
   ]
  },
  {
   "cell_type": "code",
   "execution_count": 112,
   "metadata": {},
   "outputs": [
    {
     "name": "stdout",
     "output_type": "stream",
     "text": [
      "xyzbhx"
     ]
    }
   ],
   "source": [
    "s='xxxyyyzzzbbbhhhx'\n",
    "for i in range(len(s)-1):\n",
    "    if s[i]!=s[i+1]:\n",
    "        print(s[i],end='')\n",
    "else:\n",
    "    print(s[i+1],end='')"
   ]
  },
  {
   "cell_type": "code",
   "execution_count": 134,
   "metadata": {},
   "outputs": [
    {
     "name": "stdout",
     "output_type": "stream",
     "text": [
      "soeriu\n"
     ]
    }
   ],
   "source": [
    "s1='prwsoeriusfk'\n",
    "s2='osu'\n",
    "dic={}\n",
    "for i in range(len(s2)):\n",
    "    a=s2[i]\n",
    "    for j in range(len(s1)):\n",
    "        if a==s1[j]:\n",
    "            dic.setdefault(a,j)\n",
    "l=dic.values()\n",
    "print(s1[min(l):max(l)+1])"
   ]
  },
  {
   "cell_type": "code",
   "execution_count": 135,
   "metadata": {},
   "outputs": [
    {
     "data": {
      "text/plain": [
       "{'o': 4, 's': 3, 'u': 8}"
      ]
     },
     "execution_count": 135,
     "metadata": {},
     "output_type": "execute_result"
    }
   ],
   "source": [
    "dic"
   ]
  },
  {
   "cell_type": "code",
   "execution_count": 136,
   "metadata": {},
   "outputs": [
    {
     "data": {
      "text/plain": [
       "'pythonisthelanguage'"
      ]
     },
     "execution_count": 136,
     "metadata": {},
     "output_type": "execute_result"
    }
   ],
   "source": [
    "s='   python   is  the language'\n",
    "re.sub('\\s','',s)"
   ]
  },
  {
   "cell_type": "code",
   "execution_count": 37,
   "metadata": {},
   "outputs": [
    {
     "data": {
      "text/plain": [
       "'abcd'"
      ]
     },
     "execution_count": 37,
     "metadata": {},
     "output_type": "execute_result"
    }
   ],
   "source": [
    "s1='abcdefgcd'\n",
    "s2='xswerabcdwgcd'\n",
    "l=[]\n",
    "for i in range(len(s1)):\n",
    "    for j in range(len(s2)):\n",
    "        if s1[i]==s2[j]:\n",
    "            s=s1[i]\n",
    "            while i<(len(s1)-1) and j<(len(s2)-1):\n",
    "                if s1[i+1]==s2[j+1]:\n",
    "                    s=s+s1[i+1]\n",
    "                    if s not in l:\n",
    "                        l.append(s)\n",
    "                else:\n",
    "                    break\n",
    "                i+=1\n",
    "                j+=1\n",
    "for i in range(len(l)):\n",
    "    for j in range(len(l)-i-1):\n",
    "        if len(l[j+1])>=len(l[j]):\n",
    "            l[j+1],l[j]=l[j],l[j+1]\n",
    "l[0]"
   ]
  },
  {
   "cell_type": "code",
   "execution_count": 225,
   "metadata": {},
   "outputs": [
    {
     "name": "stdout",
     "output_type": "stream",
     "text": [
      "True\n"
     ]
    }
   ],
   "source": [
    "import array as a\n",
    "b=a.array('i',[1,2,3,4,4])\n",
    "for i in b:\n",
    "    if b.count(i)>1:\n",
    "        print(True)\n",
    "        break\n",
    "else:\n",
    "    print(False)\n",
    "        "
   ]
  },
  {
   "cell_type": "code",
   "execution_count": 228,
   "metadata": {},
   "outputs": [
    {
     "data": {
      "text/plain": [
       "True"
      ]
     },
     "execution_count": 228,
     "metadata": {},
     "output_type": "execute_result"
    }
   ],
   "source": [
    "any(b.count(i)>1 for i in b)"
   ]
  },
  {
   "cell_type": "code",
   "execution_count": 38,
   "metadata": {},
   "outputs": [],
   "source": [
    "import copy\n",
    "l=[1,2,3,4,5]\n",
    "l2=copy.deepcopy(l)"
   ]
  },
  {
   "cell_type": "code",
   "execution_count": 40,
   "metadata": {},
   "outputs": [
    {
     "data": {
      "text/plain": [
       "False"
      ]
     },
     "execution_count": 40,
     "metadata": {},
     "output_type": "execute_result"
    }
   ],
   "source": [
    "l is l2"
   ]
  },
  {
   "cell_type": "code",
   "execution_count": 46,
   "metadata": {},
   "outputs": [],
   "source": [
    "l3=l.copy()"
   ]
  },
  {
   "cell_type": "code",
   "execution_count": 47,
   "metadata": {},
   "outputs": [
    {
     "data": {
      "text/plain": [
       "False"
      ]
     },
     "execution_count": 47,
     "metadata": {},
     "output_type": "execute_result"
    }
   ],
   "source": [
    "l3 is l"
   ]
  },
  {
   "cell_type": "code",
   "execution_count": 48,
   "metadata": {},
   "outputs": [],
   "source": [
    "s='sdsf'\n",
    "s1=copy.deepcopy(s)"
   ]
  },
  {
   "cell_type": "code",
   "execution_count": 49,
   "metadata": {},
   "outputs": [
    {
     "data": {
      "text/plain": [
       "'sdsf'"
      ]
     },
     "execution_count": 49,
     "metadata": {},
     "output_type": "execute_result"
    }
   ],
   "source": [
    "s1"
   ]
  },
  {
   "cell_type": "code",
   "execution_count": 27,
   "metadata": {},
   "outputs": [
    {
     "data": {
      "text/plain": [
       "3"
      ]
     },
     "execution_count": 27,
     "metadata": {},
     "output_type": "execute_result"
    }
   ],
   "source": [
    "a=[2,4]\n",
    "b=[16,32,96]\n",
    "c=a+b\n",
    "su=0\n",
    "for i in range(a[-1],b[0]+1,a[-1]):\n",
    "    count=0   \n",
    "    for j in c:\n",
    "        if i%j==0 or j%i==0:\n",
    "            count+=1\n",
    "    if count==len(c):\n",
    "        su+=1\n",
    "su"
   ]
  },
  {
   "cell_type": "code",
   "execution_count": 48,
   "metadata": {},
   "outputs": [
    {
     "name": "stdout",
     "output_type": "stream",
     "text": [
      "4 2\n"
     ]
    }
   ],
   "source": [
    "l=[10,5,20,20,4,5,2,25,1]\n",
    "maa=0\n",
    "mii=0\n",
    "ma=l[0]\n",
    "mn=l[0]\n",
    "for j in l:\n",
    "    if ma>j:\n",
    "        ma=j\n",
    "        maa+=1\n",
    "    elif mn<j:\n",
    "        mn=j\n",
    "        mii+=1\n",
    "print(maa,mii)"
   ]
  },
  {
   "cell_type": "code",
   "execution_count": 4,
   "metadata": {},
   "outputs": [
    {
     "data": {
      "text/plain": [
       "3"
      ]
     },
     "execution_count": 4,
     "metadata": {},
     "output_type": "execute_result"
    }
   ],
   "source": [
    "n=3\n",
    "a=[1,1,1,1,1]\n",
    "m=3\n",
    "count=0\n",
    "for i in range(len(a)):\n",
    "    if sum(a[i:n])==m:\n",
    "        count+=1\n",
    "    n+=1\n",
    "count"
   ]
  },
  {
   "cell_type": "code",
   "execution_count": 13,
   "metadata": {},
   "outputs": [
    {
     "data": {
      "text/plain": [
       "2"
      ]
     },
     "execution_count": 13,
     "metadata": {},
     "output_type": "execute_result"
    }
   ],
   "source": [
    "a1=[1,3,2,6,1,2]\n",
    "m=5\n",
    "count=0\n",
    "for i in range(len(a)):\n",
    "    for j in range(len(a)):\n",
    "        if i<j and (a[i]+a[j])%m==0:\n",
    "            count+=1\n",
    "count"
   ]
  },
  {
   "cell_type": "code",
   "execution_count": null,
   "metadata": {},
   "outputs": [],
   "source": []
  }
 ],
 "metadata": {
  "kernelspec": {
   "display_name": "Python 3",
   "language": "python",
   "name": "python3"
  },
  "language_info": {
   "codemirror_mode": {
    "name": "ipython",
    "version": 3
   },
   "file_extension": ".py",
   "mimetype": "text/x-python",
   "name": "python",
   "nbconvert_exporter": "python",
   "pygments_lexer": "ipython3",
   "version": "3.7.4"
  }
 },
 "nbformat": 4,
 "nbformat_minor": 2
}
