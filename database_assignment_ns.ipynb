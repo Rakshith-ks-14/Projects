{
 "cells": [
  {
   "cell_type": "code",
   "execution_count": 66,
   "metadata": {},
   "outputs": [],
   "source": [
    "import mysql.connector"
   ]
  },
  {
   "cell_type": "markdown",
   "metadata": {},
   "source": [
    "## 1\n",
    "    1) program to connect with  database and print its version"
   ]
  },
  {
   "cell_type": "code",
   "execution_count": 67,
   "metadata": {},
   "outputs": [
    {
     "name": "stdout",
     "output_type": "stream",
     "text": [
      "8.0.19\n"
     ]
    }
   ],
   "source": [
    "try:\n",
    "    conn = mysql.connector.connect(\n",
    "        host='localhost',\n",
    "        database='mydb',\n",
    "        user='root',\n",
    "        password='root')\n",
    "    if conn.is_connected():\n",
    "        print(conn.get_server_info())\n",
    "    \n",
    "except mysql.connector.Error as e:\n",
    "    print(e)\n",
    "    \n",
    "finally:\n",
    "    if conn:\n",
    "        conn.close()"
   ]
  },
  {
   "attachments": {},
   "cell_type": "markdown",
   "metadata": {},
   "source": [
    "## 2\n",
    "    2)program to create employees table in the database"
   ]
  },
  {
   "cell_type": "code",
   "execution_count": 68,
   "metadata": {},
   "outputs": [
    {
     "name": "stdout",
     "output_type": "stream",
     "text": [
      "1050 (42S01): Table 'empdata' already exists\n"
     ]
    }
   ],
   "source": [
    "try:\n",
    "    conn = mysql.connector.connect(\n",
    "        host='localhost',\n",
    "        database='emp',\n",
    "        user='root',\n",
    "        password='root')\n",
    "    cursor = conn.cursor()\n",
    "    cursor.execute('create table empdata(ename varchar(25), empid int(10) primary key, empsal double(6,2) )')\n",
    "    conn.commit()\n",
    "\n",
    "except mysql.connector.Error as e:\n",
    "    print(e)\n",
    "\n",
    "finally:\n",
    "    if cursor:\n",
    "        cursor.close()\n",
    "    if conn:\n",
    "        conn.close()"
   ]
  },
  {
   "attachments": {},
   "cell_type": "markdown",
   "metadata": {},
   "source": [
    "## 3\n",
    "    3)program to drop employess table from database"
   ]
  },
  {
   "cell_type": "code",
   "execution_count": 69,
   "metadata": {},
   "outputs": [],
   "source": [
    "try:\n",
    "    conn = mysql.connector.connect(\n",
    "        host='localhost',\n",
    "        database='emp',\n",
    "        user='root',\n",
    "        password='root')\n",
    "    cursor = conn.cursor()\n",
    "    cursor.execute('drop table empdata')\n",
    "    conn.commit()\n",
    "\n",
    "except mysql.connector.Error as e:\n",
    "    print(e)\n",
    "\n",
    "finally:\n",
    "    if cursor:\n",
    "        cursor.close()\n",
    "    if conn:\n",
    "        conn.close()"
   ]
  },
  {
   "attachments": {},
   "cell_type": "markdown",
   "metadata": {},
   "source": [
    "## 4\n",
    "    4)program to insert a single row in employees table"
   ]
  },
  {
   "cell_type": "code",
   "execution_count": 70,
   "metadata": {},
   "outputs": [],
   "source": [
    "try:\n",
    "    conn = mysql.connector.connect(\n",
    "        host='localhost',\n",
    "        database='emp',\n",
    "        user='root',\n",
    "        password='root')\n",
    "    cursor = conn.cursor()\n",
    "    cursor.execute('create table empdata(ename varchar(25), empid int(10) primary key, empsal double(6,2) )')\n",
    "    cursor.execute(\"insert into empdata values('ns', 1234, 5000 )\")\n",
    "    conn.commit()\n",
    "\n",
    "except mysql.connector.Error as e:\n",
    "    print(e)\n",
    "\n",
    "finally:\n",
    "    if cursor:\n",
    "        cursor.close()\n",
    "    if conn:\n",
    "        conn.close()"
   ]
  },
  {
   "cell_type": "markdown",
   "metadata": {},
   "source": [
    "## 5\n",
    "    5)program to insert multiple rows in employees table by executemany() method"
   ]
  },
  {
   "cell_type": "code",
   "execution_count": 71,
   "metadata": {},
   "outputs": [
    {
     "name": "stdout",
     "output_type": "stream",
     "text": [
      "1050 (42S01): Table 'empdata' already exists\n"
     ]
    }
   ],
   "source": [
    "try:\n",
    "    conn = mysql.connector.connect(\n",
    "        host='localhost',\n",
    "        database='emp',\n",
    "        user='root',\n",
    "        password='root')\n",
    "    cursor = conn.cursor()\n",
    "    cursor.execute('create table empdata(ename varchar(25), empid int(10) primary key, empsal double(6,2) )')\n",
    "    sql = \"insert into empdata(ename, empid, empsal) VALUES(%s, %s, %s)\"\n",
    "    records=[('ns1',123, 1000),\n",
    "             ('jah',456, 2000),\n",
    "             ('rak',789, 3000)]\n",
    "    cursor.executemany(sql,records)\n",
    "    conn.commit()\n",
    "\n",
    "except mysql.connector.Error as e:\n",
    "    print(e)\n",
    "\n",
    "finally:\n",
    "    if cursor:\n",
    "        cursor.close()\n",
    "    if conn:\n",
    "        conn.close()"
   ]
  },
  {
   "cell_type": "markdown",
   "metadata": {},
   "source": [
    "## 6\n",
    "    6)program to insert multiple rows in employees table with dynamic input from keyboard"
   ]
  },
  {
   "cell_type": "code",
   "execution_count": 72,
   "metadata": {},
   "outputs": [
    {
     "name": "stdout",
     "output_type": "stream",
     "text": [
      "1050 (42S01): Table 'empdata' already exists\n"
     ]
    }
   ],
   "source": [
    "try:\n",
    "    conn = mysql.connector.connect(\n",
    "        host='localhost',\n",
    "        database='emp',\n",
    "        user='root',\n",
    "        password='root')\n",
    "    cursor = conn.cursor()\n",
    "    cursor.execute('create table empdata(ename varchar(25), empid int(10) primary key, empsal double(6,2) )')\n",
    "    sql = \"insert into empdata(ename, empid, empsal) VALUES(%s, %s, %s)\"\n",
    "    records=[('ns',123, 1000),\n",
    "             ('jah',456, 2000),\n",
    "             ('rak',789, 3000)]\n",
    "    cursor.executemany(sql,records)\n",
    "    conn.commit()\n",
    "\n",
    "except mysql.connector.Error as e:\n",
    "    print(e)\n",
    "\n",
    "finally:\n",
    "    if cursor:\n",
    "        cursor.close()\n",
    "    if conn:\n",
    "        conn.close()"
   ]
  },
  {
   "cell_type": "markdown",
   "metadata": {},
   "source": [
    "## 7\n",
    "    7)program to update employees salaries with increment for the certain range  with dynamic input"
   ]
  },
  {
   "cell_type": "code",
   "execution_count": 73,
   "metadata": {},
   "outputs": [
    {
     "name": "stdout",
     "output_type": "stream",
     "text": [
      "Enter Increment Salary:5000\n",
      "Enter Salary Range:2000\n",
      "1146 (42S02): Table 'emp.employees' doesn't exist\n"
     ]
    }
   ],
   "source": [
    "try:\n",
    "    conn=mysql.connector.connect(\n",
    "        host=\"localhost\",\n",
    "        database=\"emp\",\n",
    "        user=\"root\",\n",
    "        password=\"root\")\n",
    "    cursor=conn.cursor()\n",
    "    increment=float(input(\"Enter Increment Salary:\"))\n",
    "    salrange=float(input(\"Enter Salary Range:\"))\n",
    "    sql=\"update employees set esal=esal+%f where esal<%f\"\n",
    "    cursor.execute(sql %(increment,salrange))\n",
    "    conn.commit()\n",
    "except mysql.connector.Error as e:\n",
    "    print(e)\n",
    "finally:\n",
    "    conn.close()\n",
    "    cursor.close()"
   ]
  },
  {
   "cell_type": "markdown",
   "metadata": {},
   "source": [
    "## 8\n",
    "    8)program to delete employees whose salary greater than provided salary as dynamic input"
   ]
  },
  {
   "cell_type": "code",
   "execution_count": 74,
   "metadata": {},
   "outputs": [
    {
     "name": "stdout",
     "output_type": "stream",
     "text": [
      "Enter Salary Range:3000\n",
      "1146 (42S02): Table 'emp.employees' doesn't exist\n"
     ]
    }
   ],
   "source": [
    "try:\n",
    "    conn=mysql.connector.connect(\n",
    "        host=\"localhost\",\n",
    "        database=\"emp\",\n",
    "        user=\"root\",\n",
    "        password=\"root\")\n",
    "    cursor=conn.cursor()\n",
    "    salrange=float(input(\"Enter Salary Range:\"))\n",
    "    sql=\"delete from employees where esal>%f\"\n",
    "    cursor.execute(sql %(salrange))\n",
    "    conn.commit()\n",
    "except mysql.connector.Error as e:\n",
    "    print(e)\n",
    "finally:\n",
    "    conn.close()\n",
    "    cursor.close()"
   ]
  },
  {
   "cell_type": "markdown",
   "metadata": {},
   "source": [
    "## 9\n",
    "    9)program to select all employees info by using fetchone() method"
   ]
  },
  {
   "cell_type": "code",
   "execution_count": 75,
   "metadata": {},
   "outputs": [
    {
     "name": "stdout",
     "output_type": "stream",
     "text": [
      "('ns', 1234, 5000.0)\n"
     ]
    }
   ],
   "source": [
    "try:\n",
    "    conn=mysql.connector.connect(\n",
    "        host=\"localhost\",\n",
    "        database=\"emp\",\n",
    "        user=\"root\",\n",
    "        password=\"root\")\n",
    "    cursor=conn.cursor()\n",
    "    cursor.execute(\"select * from empdata\")\n",
    "    row=cursor.fetchone()\n",
    "    while row is not None:\n",
    "        print(row)\n",
    "        row=cursor.fetchone()\n",
    "        \n",
    "except mysql.connector.Error as e:\n",
    "    print(e)\n",
    "finally:\n",
    "    conn.close()\n",
    "    cursor.close()"
   ]
  },
  {
   "cell_type": "markdown",
   "metadata": {},
   "source": [
    "## 10\n",
    "    10)program to select all employees info by using fetchall() method"
   ]
  },
  {
   "cell_type": "code",
   "execution_count": 76,
   "metadata": {},
   "outputs": [
    {
     "name": "stdout",
     "output_type": "stream",
     "text": [
      "ns\n",
      "1234\n"
     ]
    }
   ],
   "source": [
    "try:\n",
    "    conn=mysql.connector.connect(\n",
    "        host=\"localhost\",\n",
    "        database=\"emp\",\n",
    "        user=\"root\",\n",
    "        password=\"root\")\n",
    "    cursor=conn.cursor()\n",
    "    cursor.execute(\"select * from empdata\")\n",
    "    row=cursor.fetchall()\n",
    "    for i in row:\n",
    "        print(i[0])\n",
    "        print(i[1])\n",
    "        \n",
    "except mysql.connector.Error as e:\n",
    "    print(e)\n",
    "finally:\n",
    "    conn.close()\n",
    "    cursor.close()"
   ]
  },
  {
   "cell_type": "markdown",
   "metadata": {},
   "source": [
    "## 11\n",
    "    11)program to select all employees info by using fetchmany() method , required number of rows provided as dynamic input"
   ]
  },
  {
   "cell_type": "code",
   "execution_count": 77,
   "metadata": {},
   "outputs": [
    {
     "name": "stdout",
     "output_type": "stream",
     "text": [
      "Enter the number of required rows:2\n",
      "[('ns', 1234, 5000.0)]\n"
     ]
    }
   ],
   "source": [
    "try:\n",
    "    conn=mysql.connector.connect(\n",
    "        host=\"localhost\",\n",
    "        database=\"emp\",\n",
    "        user=\"root\",\n",
    "        password=\"root\")\n",
    "    cursor=conn.cursor()\n",
    "    cursor.execute(\"select * from empdata\")\n",
    "    n=int(input(\"Enter the number of required rows:\"))\n",
    "    row=cursor.fetchmany(n)  \n",
    "    print(row)\n",
    "except mysql.connector.Error as e:\n",
    "    print(e)\n",
    "finally:\n",
    "    conn.close()\n",
    "    cursor.close()"
   ]
  },
  {
   "cell_type": "code",
   "execution_count": null,
   "metadata": {},
   "outputs": [],
   "source": []
  }
 ],
 "metadata": {
  "kernelspec": {
   "display_name": "Python 3",
   "language": "python",
   "name": "python3"
  },
  "language_info": {
   "codemirror_mode": {
    "name": "ipython",
    "version": 3
   },
   "file_extension": ".py",
   "mimetype": "text/x-python",
   "name": "python",
   "nbconvert_exporter": "python",
   "pygments_lexer": "ipython3",
   "version": "3.7.4"
  }
 },
 "nbformat": 4,
 "nbformat_minor": 2
}
