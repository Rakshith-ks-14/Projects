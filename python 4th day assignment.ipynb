{
 "cells": [
  {
   "cell_type": "markdown",
   "metadata": {},
   "source": [
    "    write a python program to check whether the given file exist or not .if its available print its content?\n",
    "    program to print the number of lines word and characters present in the given file\n",
    "    program to know current working directory , create a subdirectory in current working directory \n",
    "    display all contents of current working directory including sub directory\n",
    "    program to find largest element in array and sum of array\n",
    "    program to find cumulative elements sum of list\n",
    "    program to check Armstrong Number \n",
    "    program to split the array at specified position and add first part to the end\n",
    "    program to find permutations of the given string\n",
    "    Python Program for Product of unique prime factors of a number\n"
   ]
  },
  {
   "cell_type": "code",
   "execution_count": 1,
   "metadata": {},
   "outputs": [
    {
     "name": "stdout",
     "output_type": "stream",
     "text": [
      "Enter file name : fgbhgf\n",
      "File Dosen't Exists\n"
     ]
    }
   ],
   "source": [
    "# 1\n",
    "f1=open('file.txt','w')\n",
    "f1.write('Hello Python')\n",
    "f1.close()\n",
    "import os,sys\n",
    "f_name=input('Enter file name : ')\n",
    "if os.path.isfile(f_name):\n",
    "    print('File exist')\n",
    "    f=open(f_name,'r')\n",
    "    print(f.read())\n",
    "else:\n",
    "    print(\"File Dosen't Exists\")"
   ]
  },
  {
   "cell_type": "code",
   "execution_count": 2,
   "metadata": {},
   "outputs": [
    {
     "name": "stdout",
     "output_type": "stream",
     "text": [
      "No. of words: 11\n",
      "No. of lines: 3\n",
      "No. of char: 62\n"
     ]
    }
   ],
   "source": [
    "# 2\n",
    "with open('file2.txt','w+') as f:\n",
    "    f.writelines('Hello I am Rakshith\\nmy designation is Data Science\\nin testyantra')\n",
    "    f.seek(0)\n",
    "    l=f.read()\n",
    "k=0\n",
    "for i in l.split('\\n'):\n",
    "    k+=len(i)\n",
    "print('No. of words:',len(l.split()))\n",
    "print('No. of lines:',l.count('\\n')+1)\n",
    "print('No. of char:',k)"
   ]
  },
  {
   "cell_type": "code",
   "execution_count": 3,
   "metadata": {},
   "outputs": [
    {
     "name": "stdout",
     "output_type": "stream",
     "text": [
      "My current Directory: C:\\Users\\Rakshith KS\\TYSS\n"
     ]
    },
    {
     "ename": "FileExistsError",
     "evalue": "[WinError 183] Cannot create a file when that file already exists: 'sub'",
     "output_type": "error",
     "traceback": [
      "\u001b[1;31m---------------------------------------------------------------------------\u001b[0m",
      "\u001b[1;31mFileExistsError\u001b[0m                           Traceback (most recent call last)",
      "\u001b[1;32m<ipython-input-3-c87404c3b229>\u001b[0m in \u001b[0;36m<module>\u001b[1;34m\u001b[0m\n\u001b[0;32m      3\u001b[0m \u001b[0mcwd\u001b[0m\u001b[1;33m=\u001b[0m\u001b[0mos\u001b[0m\u001b[1;33m.\u001b[0m\u001b[0mgetcwd\u001b[0m\u001b[1;33m(\u001b[0m\u001b[1;33m)\u001b[0m\u001b[1;33m\u001b[0m\u001b[1;33m\u001b[0m\u001b[0m\n\u001b[0;32m      4\u001b[0m \u001b[0mprint\u001b[0m\u001b[1;33m(\u001b[0m\u001b[1;34m'My current Directory:'\u001b[0m\u001b[1;33m,\u001b[0m\u001b[0mcwd\u001b[0m\u001b[1;33m)\u001b[0m\u001b[1;33m\u001b[0m\u001b[1;33m\u001b[0m\u001b[0m\n\u001b[1;32m----> 5\u001b[1;33m \u001b[0msub1\u001b[0m\u001b[1;33m=\u001b[0m\u001b[0mos\u001b[0m\u001b[1;33m.\u001b[0m\u001b[0mmkdir\u001b[0m\u001b[1;33m(\u001b[0m\u001b[1;34m'sub'\u001b[0m\u001b[1;33m)\u001b[0m\u001b[1;33m\u001b[0m\u001b[1;33m\u001b[0m\u001b[0m\n\u001b[0m\u001b[0;32m      6\u001b[0m \u001b[0mprint\u001b[0m\u001b[1;33m(\u001b[0m\u001b[1;34m'my sub directory:'\u001b[0m\u001b[1;33m,\u001b[0m\u001b[0msub1\u001b[0m\u001b[1;33m)\u001b[0m\u001b[1;33m\u001b[0m\u001b[1;33m\u001b[0m\u001b[0m\n\u001b[0;32m      7\u001b[0m \u001b[0mos\u001b[0m\u001b[1;33m.\u001b[0m\u001b[0mchdir\u001b[0m\u001b[1;33m(\u001b[0m\u001b[1;34mr'\\Users\\Rakshith KS\\TYSS\\sub'\u001b[0m\u001b[1;33m)\u001b[0m\u001b[1;33m\u001b[0m\u001b[1;33m\u001b[0m\u001b[0m\n",
      "\u001b[1;31mFileExistsError\u001b[0m: [WinError 183] Cannot create a file when that file already exists: 'sub'"
     ]
    }
   ],
   "source": [
    "# 3\n",
    "import os\n",
    "cwd=os.getcwd()\n",
    "print('My current Directory:',cwd)\n",
    "sub1=os.mkdir('sub')\n",
    "print('my sub directory:',sub1)\n",
    "os.chdir(r'\\Users\\Rakshith KS\\TYSS\\sub')\n",
    "cwd=os.getcwd()\n",
    "print('My current Directory:',cwd)"
   ]
  },
  {
   "cell_type": "code",
   "execution_count": null,
   "metadata": {},
   "outputs": [],
   "source": [
    "# 4\n",
    "os.chdir(r'\\Users\\Rakshith KS\\TYSS')\n",
    "path=os.getcwd()\n",
    "for dirpath,dirnames,filenames in os.walk(path):\n",
    "    print(\"Current Directory Path:\",dirpath)\n",
    "    print(\"Directories:\",dirnames)\n",
    "    print(\"Files:\",filenames)\n",
    "    print()"
   ]
  },
  {
   "cell_type": "code",
   "execution_count": null,
   "metadata": {},
   "outputs": [],
   "source": [
    "# 5\n",
    "import array as a\n",
    "arr=a.array('i',[2,3,8,2,6])\n",
    "for i in range(len(arr)):\n",
    "    for j in range(len(arr)):\n",
    "        if arr[i]<arr[j]:\n",
    "            arr[i],arr[j]=arr[j],arr[i]\n",
    "print('Largest Element in array : ',arr[len(arr)-1])\n",
    "print('Sum of array : ',sum(arr))"
   ]
  },
  {
   "cell_type": "code",
   "execution_count": null,
   "metadata": {},
   "outputs": [],
   "source": [
    "# 6\n",
    "l=list(map(int,input().split()))\n",
    "l1=[]\n",
    "s=0\n",
    "for i in l:\n",
    "    s+=i\n",
    "    l1.append(s)\n",
    "l1"
   ]
  },
  {
   "cell_type": "code",
   "execution_count": null,
   "metadata": {},
   "outputs": [],
   "source": [
    "# 7\n",
    "n=int(input())\n",
    "num=n\n",
    "n1=0\n",
    "while num>0:\n",
    "    rem=num%10\n",
    "    n1+=rem**len(str(n))\n",
    "    num=num//10\n",
    "if n==n1:\n",
    "    print('Armstrong')\n",
    "else:\n",
    "    print('Not Armstrong')"
   ]
  },
  {
   "cell_type": "code",
   "execution_count": null,
   "metadata": {},
   "outputs": [],
   "source": [
    "# 8\n",
    "ar=a.array('i',list(map(int,input().split())))\n",
    "i=int(input('Enter the posision : '))\n",
    "if i<len(ar):\n",
    "    print(ar[i+1:len(ar)]+ar[:i+1])\n",
    "else:\n",
    "    print('Array Out of bound')"
   ]
  },
  {
   "cell_type": "code",
   "execution_count": 2,
   "metadata": {
    "scrolled": true
   },
   "outputs": [
    {
     "name": "stdout",
     "output_type": "stream",
     "text": [
      "Enter the string : poo\n",
      "poo\n",
      "poo\n",
      "opo\n",
      "oop\n",
      "opo\n",
      "oop\n"
     ]
    }
   ],
   "source": [
    "# 9\n",
    "from itertools import permutations\n",
    "s=input('Enter the string : ')\n",
    "a=permutations(s)\n",
    "for i in a:\n",
    "    print(''.join(i))"
   ]
  },
  {
   "cell_type": "code",
   "execution_count": 79,
   "metadata": {},
   "outputs": [
    {
     "name": "stdout",
     "output_type": "stream",
     "text": [
      "Enter the No. : 20\n",
      "2\n",
      "5\n"
     ]
    }
   ],
   "source": [
    "# 10\n",
    "n = int(input('Enter the No. : '))\n",
    "l=[]\n",
    "for i in range(2,(n//2)+1):\n",
    "    if n%i==0:\n",
    "        l.append(i)\n",
    "for j in l:\n",
    "    if j==2 or j==3:\n",
    "        print(j)\n",
    "    else:\n",
    "        for k in range(2,(j//2)+1):\n",
    "            if j%k==0:\n",
    "                break\n",
    "        else:  \n",
    "            print(j)\n",
    "                "
   ]
  },
  {
   "cell_type": "code",
   "execution_count": null,
   "metadata": {},
   "outputs": [],
   "source": []
  }
 ],
 "metadata": {
  "kernelspec": {
   "display_name": "Python 3",
   "language": "python",
   "name": "python3"
  },
  "language_info": {
   "codemirror_mode": {
    "name": "ipython",
    "version": 3
   },
   "file_extension": ".py",
   "mimetype": "text/x-python",
   "name": "python",
   "nbconvert_exporter": "python",
   "pygments_lexer": "ipython3",
   "version": "3.7.4"
  }
 },
 "nbformat": 4,
 "nbformat_minor": 2
}
