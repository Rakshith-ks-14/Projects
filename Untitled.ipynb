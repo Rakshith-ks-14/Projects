{
 "cells": [
  {
   "cell_type": "code",
   "execution_count": 60,
   "metadata": {},
   "outputs": [
    {
     "name": "stdout",
     "output_type": "stream",
     "text": [
      "      1 \n",
      "    1 2 1 \n",
      "  1 2 3 2 1 \n",
      "1 2 3 4 3 2 1 \n"
     ]
    }
   ],
   "source": [
    "n=4\n",
    "space=4\n",
    "star=1\n",
    "for i in range(1,n+1):\n",
    "    a=1\n",
    "    for j in range(1,space):\n",
    "        print(\" \",end=\" \")\n",
    "    for k in range(1,star+1):\n",
    "        if k+space<=4:\n",
    "            print(a,end=\" \")\n",
    "            a+=1\n",
    "        else :\n",
    "            print(a,end=\" \")\n",
    "            a-=1\n",
    "            \n",
    "    print()\n",
    "    space-=1\n",
    "    star+=2\n",
    "    "
   ]
  },
  {
   "cell_type": "code",
   "execution_count": 53,
   "metadata": {},
   "outputs": [
    {
     "name": "stdout",
     "output_type": "stream",
     "text": [
      "50\n",
      "3\n"
     ]
    }
   ],
   "source": [
    "j=0\n",
    "k=[]\n",
    "a=int(input())\n",
    "b=list(map(int,bin(a).split('b')[1]))\n",
    "for i in range(len(b)):\n",
    "    if b[i]==1:\n",
    "        j=i-j\n",
    "        k.append(j)\n",
    "        j=i\n",
    "print(max(k))"
   ]
  },
  {
   "cell_type": "code",
   "execution_count": 89,
   "metadata": {},
   "outputs": [
    {
     "name": "stdout",
     "output_type": "stream",
     "text": [
      "      1 \n",
      "    1 2 1 \n",
      "  1 2 3 2 1 \n"
     ]
    }
   ],
   "source": [
    "n=3\n",
    "space=2*n-2\n",
    "for i in range(0,n):\n",
    "    for j in range(1,space):\n",
    "        print(' ', end=\" \")\n",
    "    for k in range(1,i+1):\n",
    "        print(k,end=\" \")\n",
    "    for l in range(i+1,0,-1):\n",
    "         print(l,end=\" \")\n",
    "    print()\n",
    "    space-=1"
   ]
  },
  {
   "cell_type": "code",
   "execution_count": 71,
   "metadata": {},
   "outputs": [],
   "source": [
    "a=1,2,3\n",
    "b=a"
   ]
  },
  {
   "cell_type": "code",
   "execution_count": 72,
   "metadata": {},
   "outputs": [
    {
     "data": {
      "text/plain": [
       "True"
      ]
     },
     "execution_count": 72,
     "metadata": {},
     "output_type": "execute_result"
    }
   ],
   "source": [
    "a is b"
   ]
  },
  {
   "cell_type": "code",
   "execution_count": 70,
   "metadata": {},
   "outputs": [
    {
     "data": {
      "text/plain": [
       "(1, 2, 3)"
      ]
     },
     "execution_count": 70,
     "metadata": {},
     "output_type": "execute_result"
    }
   ],
   "source": [
    "a"
   ]
  },
  {
   "cell_type": "code",
   "execution_count": 73,
   "metadata": {},
   "outputs": [],
   "source": [
    "a=\"abc\"\n",
    "b=\"abc\""
   ]
  },
  {
   "cell_type": "code",
   "execution_count": 74,
   "metadata": {},
   "outputs": [
    {
     "data": {
      "text/plain": [
       "True"
      ]
     },
     "execution_count": 74,
     "metadata": {},
     "output_type": "execute_result"
    }
   ],
   "source": [
    "a is b"
   ]
  },
  {
   "cell_type": "code",
   "execution_count": 92,
   "metadata": {},
   "outputs": [
    {
     "name": "stdout",
     "output_type": "stream",
     "text": [
      "The Number of Command Line Arguments: 3\n",
      "The List of Command Line Arguments: ['C:\\\\Users\\\\Rakshith KS\\\\Anaconda3\\\\lib\\\\site-packages\\\\ipykernel_launcher.py', '-f', 'C:\\\\Users\\\\Rakshith KS\\\\AppData\\\\Roaming\\\\jupyter\\\\runtime\\\\kernel-3a30586e-1294-4651-94ff-6bf3e036b52c.json']\n",
      "Command Line Arguments one by one:\n",
      "C:\\Users\\Rakshith KS\\Anaconda3\\lib\\site-packages\\ipykernel_launcher.py\n",
      "-f\n",
      "C:\\Users\\Rakshith KS\\AppData\\Roaming\\jupyter\\runtime\\kernel-3a30586e-1294-4651-94ff-6bf3e036b52c.json\n"
     ]
    }
   ],
   "source": [
    "from sys import argv\n",
    "print('The Number of Command Line Arguments:', len(argv))\n",
    "print('The List of Command Line Arguments:', argv)\n",
    "print('Command Line Arguments one by one:')\n",
    "for x in argv:\n",
    "    print(x)"
   ]
  },
  {
   "cell_type": "code",
   "execution_count": null,
   "metadata": {},
   "outputs": [],
   "source": []
  }
 ],
 "metadata": {
  "kernelspec": {
   "display_name": "Python 3",
   "language": "python",
   "name": "python3"
  },
  "language_info": {
   "codemirror_mode": {
    "name": "ipython",
    "version": 3
   },
   "file_extension": ".py",
   "mimetype": "text/x-python",
   "name": "python",
   "nbconvert_exporter": "python",
   "pygments_lexer": "ipython3",
   "version": "3.7.4"
  }
 },
 "nbformat": 4,
 "nbformat_minor": 2
}
