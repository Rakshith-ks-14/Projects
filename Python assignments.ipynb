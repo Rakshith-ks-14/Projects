{
 "cells": [
  {
   "cell_type": "markdown",
   "metadata": {},
   "source": [
    "- Read 3 numbers and print max value using ternary operator . (don’t use pre defined functions)\n",
    "- Read 2 no's and compare the numbers whether 1st number is equal/greater/smaller  to 2nd number using Ternary operator\n",
    "- Read expression from keyboard , evaluate and print the result to the console\n",
    "- Read a group of int values from keyboard as command line arguments and print the sum\n",
    "- program for sum of first n numbers\n",
    "- program to reverse characters of a string   like  Input   :  Testyantra   Output:  artnaytseT  (with and without using slice - operator)\n",
    "- program to remove duplicate characters of the string      Input : mississippi   Output:misp\n",
    "- program how many times  each character present in string\n",
    "- Reverse Word  by Word  Input: Test Yantra    Output: tseT artnaY\n",
    "- program to check whether given sub-string present in the main string\n",
    "- program to check given two strings are equal or not  if not  which is smaller and bigger\n",
    "- program Input : TestYantra SoftWare Solutions  output: Solutions SoftWare SoftWare\n",
    "- program to print characters at the odd positions first followed by even position characters    Input: SOFTWARE            Output:OTAESFWR  (with and without slice operator)\n",
    "- program to merge characters of 2 strings into a single string by  taking characters alternatively.   Input : S1= \"ravi\" - S2=\"teja\" output: rtaevjia\n",
    "- program Input: a4b3c2 Output:aaaabbbcc   (characters followed by digits print characters those many number of times)\n",
    "- program Input: a4k3b2  Output:aeknbd (ie  After a 4rth character e ..after k 3rd character n after b 2nd character d)"
   ]
  },
  {
   "cell_type": "code",
   "execution_count": 1,
   "metadata": {},
   "outputs": [
    {
     "name": "stdout",
     "output_type": "stream",
     "text": [
      "Enter 3 no. : sdfd\n"
     ]
    },
    {
     "ename": "ValueError",
     "evalue": "invalid literal for int() with base 10: 'sdfd'",
     "output_type": "error",
     "traceback": [
      "\u001b[1;31m---------------------------------------------------------------------------\u001b[0m",
      "\u001b[1;31mValueError\u001b[0m                                Traceback (most recent call last)",
      "\u001b[1;32m<ipython-input-1-63707fae3fef>\u001b[0m in \u001b[0;36m<module>\u001b[1;34m\u001b[0m\n\u001b[0;32m      1\u001b[0m \u001b[1;31m# 1.\u001b[0m\u001b[1;33m\u001b[0m\u001b[1;33m\u001b[0m\u001b[1;33m\u001b[0m\u001b[0m\n\u001b[1;32m----> 2\u001b[1;33m \u001b[0mn1\u001b[0m\u001b[1;33m,\u001b[0m\u001b[0mn2\u001b[0m\u001b[1;33m,\u001b[0m\u001b[0mn3\u001b[0m \u001b[1;33m=\u001b[0m\u001b[0mmap\u001b[0m\u001b[1;33m(\u001b[0m\u001b[0mint\u001b[0m\u001b[1;33m,\u001b[0m\u001b[0minput\u001b[0m\u001b[1;33m(\u001b[0m\u001b[1;34m'Enter 3 no. : '\u001b[0m\u001b[1;33m)\u001b[0m\u001b[1;33m.\u001b[0m\u001b[0msplit\u001b[0m\u001b[1;33m(\u001b[0m\u001b[1;33m)\u001b[0m\u001b[1;33m)\u001b[0m\u001b[1;33m\u001b[0m\u001b[1;33m\u001b[0m\u001b[0m\n\u001b[0m\u001b[0;32m      3\u001b[0m \u001b[0mprint\u001b[0m\u001b[1;33m(\u001b[0m\u001b[0mn1\u001b[0m \u001b[1;32mif\u001b[0m \u001b[0mn1\u001b[0m\u001b[1;33m>\u001b[0m\u001b[0mn2\u001b[0m \u001b[1;32mand\u001b[0m \u001b[0mn1\u001b[0m\u001b[1;33m>\u001b[0m\u001b[0mn3\u001b[0m \u001b[1;32melse\u001b[0m \u001b[0mn2\u001b[0m \u001b[1;32mif\u001b[0m \u001b[0mn2\u001b[0m\u001b[1;33m>\u001b[0m\u001b[0mn3\u001b[0m \u001b[1;32mand\u001b[0m \u001b[0mn2\u001b[0m\u001b[1;33m>\u001b[0m\u001b[0mn1\u001b[0m \u001b[1;32melse\u001b[0m \u001b[0mn3\u001b[0m\u001b[1;33m)\u001b[0m\u001b[1;33m\u001b[0m\u001b[1;33m\u001b[0m\u001b[0m\n",
      "\u001b[1;31mValueError\u001b[0m: invalid literal for int() with base 10: 'sdfd'"
     ]
    }
   ],
   "source": [
    "# 1.\n",
    "n1,n2,n3 =map(int,input('Enter 3 no. : ').split())\n",
    "print(n1 if n1>n2 and n1>n3 else n2 if n2>n3 and n2>n1 else n3)"
   ]
  },
  {
   "cell_type": "code",
   "execution_count": null,
   "metadata": {},
   "outputs": [],
   "source": [
    "# 2.\n",
    "n1,n2 = map(int,input('Enter 2 no. : ').split())\n",
    "print('Equal' if n1==n2 else 'Greater' if n1>n2 else 'Smaller')"
   ]
  },
  {
   "cell_type": "code",
   "execution_count": null,
   "metadata": {},
   "outputs": [],
   "source": [
    "# 3\n",
    "eval(input('Give any expression : '))"
   ]
  },
  {
   "cell_type": "code",
   "execution_count": null,
   "metadata": {},
   "outputs": [],
   "source": [
    "# 4\n",
    "from sys import argv\n",
    "for i in argv:\n",
    "    print(i)"
   ]
  },
  {
   "cell_type": "code",
   "execution_count": null,
   "metadata": {},
   "outputs": [],
   "source": [
    "# 5\n",
    "sum=0\n",
    "num = int(input('Enter the 1st N numbers : '))\n",
    "for i in range(1,num+1):\n",
    "    sum+=i\n",
    "print(sum)"
   ]
  },
  {
   "cell_type": "code",
   "execution_count": null,
   "metadata": {},
   "outputs": [],
   "source": [
    "# 6\n",
    "string = input('Enter the String : ')\n",
    "print(string[::-1])\n",
    "s=''\n",
    "for i in string:\n",
    "    s=i+s\n",
    "print(s)"
   ]
  },
  {
   "cell_type": "code",
   "execution_count": null,
   "metadata": {},
   "outputs": [],
   "source": [
    "# 7\n",
    "string = input('Enter the String : ')\n",
    "s=''\n",
    "for i in string:\n",
    "    if i not in s:\n",
    "        s+=i\n",
    "print(s)"
   ]
  },
  {
   "cell_type": "code",
   "execution_count": null,
   "metadata": {},
   "outputs": [],
   "source": [
    "# 8\n",
    "string = input('Enter the String : ')\n",
    "dic={}\n",
    "for i in string:\n",
    "    count=0\n",
    "    for j in range(len(string)):\n",
    "        if i == string[j]:\n",
    "            count+=1\n",
    "    dic.setdefault(i,count)\n",
    "print(dic)           "
   ]
  },
  {
   "cell_type": "code",
   "execution_count": null,
   "metadata": {},
   "outputs": [],
   "source": [
    "# 9\n",
    "string = input('Enter the String : ')\n",
    "s=''\n",
    "for i in string.split():\n",
    "    s1=''\n",
    "    for j in i:\n",
    "        s1=j+s1\n",
    "    s=s+' '+s1\n",
    "print(s)"
   ]
  },
  {
   "cell_type": "code",
   "execution_count": null,
   "metadata": {},
   "outputs": [],
   "source": [
    "# 10\n",
    "string = input('Enter the String : ')\n",
    "substr = input('Enter the sub string : ')\n",
    "'Present' if substr in string else 'Not Present'"
   ]
  },
  {
   "cell_type": "code",
   "execution_count": null,
   "metadata": {},
   "outputs": [],
   "source": [
    "# 11\n",
    "string1 = input('Enter the String : ')\n",
    "string2 = input('Enter the sub string : ')\n",
    "'Same String' if string1 == string2 else 'String1 is greater' if len(string1)>len(string2) else 'String2 is greater'"
   ]
  },
  {
   "cell_type": "code",
   "execution_count": null,
   "metadata": {},
   "outputs": [],
   "source": [
    "# 12\n",
    "string = input('Enter the String : ').split()\n",
    "s=''\n",
    "for i in string:\n",
    "    s=i+' '+s\n",
    "print(s)"
   ]
  },
  {
   "cell_type": "code",
   "execution_count": null,
   "metadata": {},
   "outputs": [],
   "source": [
    "# 13\n",
    "string = 'rakshith'\n",
    "s1=''\n",
    "s2=''\n",
    "s=''\n",
    "print(string[1::2]+string[::2])\n",
    "for i in range(len(string)):\n",
    "    if i%2!=0:\n",
    "        s1+=string[i]\n",
    "    else:\n",
    "        s2+=string[i]\n",
    "s=s1+s2\n",
    "print(s)"
   ]
  },
  {
   "cell_type": "code",
   "execution_count": null,
   "metadata": {},
   "outputs": [],
   "source": [
    "# 14\n",
    "string1 = input('Enter the String : ')\n",
    "string2 = input('Enter the sub string : ')\n",
    "s=''\n",
    "for i,j in zip(string1,string2):\n",
    "    s=s+i+j\n",
    "print(s)"
   ]
  },
  {
   "cell_type": "code",
   "execution_count": null,
   "metadata": {},
   "outputs": [],
   "source": [
    "# 15\n",
    "string1 = input('Enter the String : ')\n",
    "s=''\n",
    "for i in range(0,len(string1),2):\n",
    "    s+=string1[i]*int(string1[i+1])\n",
    "s"
   ]
  },
  {
   "cell_type": "code",
   "execution_count": null,
   "metadata": {},
   "outputs": [],
   "source": [
    "# 16\n",
    "string1 = input('Enter the String : ')\n",
    "s=''\n",
    "for i in range(0,len(string1),2):\n",
    "    s=s+string1[i]+chr(ord(string1[i])+int(string1[i+1]))\n",
    "s"
   ]
  },
  {
   "cell_type": "markdown",
   "metadata": {},
   "source": [
    "\n",
    "- 1) Given an integer,n, perform the following conditional actions:\n",
    "            If n is odd, print Weird\n",
    "            If n is even and in the inclusive range of  2 to 5, print Not Weird\n",
    "            If n is even and in the inclusive range of 6 to 10 , print Weird\n",
    "            If n is even and greater than 20 , print Not Weird\n",
    "                Input Format : A single line containing a positive integer,n .\n",
    "                Constraints : 1≤n≤100\n",
    "                Output Format : Print Weird if the number is weird; otherwise, print Not Weird.\n",
    "\n",
    "- 2) Read an integer N . For all non-negative integers i<N , print i². See the sample for details.\n",
    "            Input Format :The first and only line contains the integer,N .\n",
    "            Constraints : 1≤N≤20\n",
    "            Output Format : Print N lines, one corresponding to each i .\n",
    "                                                                                 Sample Input  : 5\n",
    "                                                                                                                     Sample Output : 0  \n",
    "1\n",
    "4\n",
    "9\n",
    "16\n",
    "\n",
    "- 3)  You are given the year, and you have to write a function to check if the year is leap or not.\n",
    "        Input Format : Read y, the year that needs to be checked.\n",
    "        Constraints: 1900≤y≤100000\n",
    "        Output Format : Boolean(True/False\n",
    "        Sample Input : 1990\n",
    "        Sample Output  : False\n",
    "\n",
    "- 4)Given the participants' score sheet for your University Sports Day. you are required to find the runner-up score.\n",
    "             You are given n scores. Store them in a list and find the score of the runner-up.\n",
    "            Input Format: The first line contains n . The second line contains an array A[] of n integers each separated by a space.\n",
    "            Constraints : 2≤n≤5\n",
    "                                     -100≤A[i]≤100\n",
    "            Output Format : Print the runner-up score.\n",
    "            Sample Input : 5\n",
    "                                          2 3 6 6 5\n",
    "             Sample Output : 5\n",
    "\n",
    "- 5) given a string and your task is to swap cases. In other words, convert all lowercase letters to uppercase letters and vice versa.\n",
    "     Like Pythonist 2  to pYTHONIST 2.\n",
    " \n",
    "- 6)You are given a string. Split the string on a \" \" (space) delimiter and join using a - hyphen.\n",
    "           Input Format : The first line contains a string consisting of space separated words.\n",
    "           Output Format :Print the formatted string as explained above.\n",
    "            Sample Input :this is a string   \n",
    "          Sample Output :this-is-a-string\n",
    "\n",
    "- 7) Read a given string, change the character at a given index and then print the modified string.\n",
    "  Input Format :The first line contains a string,S.\n",
    "                The next line contains an integer i, denoting the index location and a character c separated by a space.\n",
    "  Output Format: Using any of the methods explained above, replace the character at index i with character c .\n",
    "  Sample Input : abracadabra\n",
    "                                5 k\n",
    "  Sample Output : abrackdabra\n",
    "\n",
    "- 8) the user enters a string and a substring. You have to print the number of times that the substring occurs in the given string\n",
    "\n",
    "- 9)You are given a string S.Your task is to find out \n",
    "  if the string S contains: alphanumeric characters, alphabetical characters, digits, lowercase and uppercase characters.\n",
    "  Input Format : A single line containing a string S .\n",
    "  Constraints : 0 ≤ len(S) ≤1000\n",
    "  Output Format:\n",
    "       In the first line, print True if  has any alphanumeric characters. Otherwise, print False.\n",
    "      In the second line, print True if  has any alphabetical characters. Otherwise, print False.\n",
    "      In the third line, print True if  has any digits. Otherwise, print False.\n",
    "      In the fourth line, print True if  has any lowercase characters. Otherwise, print False.\n",
    "      In the fifth line, print True if  has any uppercase characters. Otherwise, print False.\n",
    " Sample Input : qA2\n",
    "  Sample Output :\n",
    "                                  True\n",
    "                                  True\n",
    "                                  True\n",
    "                                  True\n",
    "                                  True\n",
    "\n",
    "- 10)Read a list and sort it in reverse of default natural sorting order..(using sort(reverse=True))\n",
    "   Sample Input : [20,5,16,19,4]\n",
    "   Sample Output: [20,19,16,5,4]\n",
    "\n",
    "- 11)Enter Nested list and print it as matrix\n",
    "    Sample Input : [[1,2,3],[4,5,6],[7,8,9]]\n",
    "    Sample Output: elements in matrix style\n",
    "                     1 2 3\n",
    "                     4 5 6\n",
    "                     7 8 9\n",
    "\n",
    "\n",
    "- 12) Using List Comprehension \n",
    "       a) print powers of 2 in  range(1,10)\n",
    "       b) print squares in range(1,15)\n",
    "       c) print double of number in range (1,40) and number should be even\n",
    "\n",
    "- 13) program to display unique vowels present in the given word(using list and also using set intersection).\n",
    "- 14) program to take a tuple of numbers from keyboard and print its sum and average.\n",
    "- 15) program to eleminate duplicates present in the list? (with and without using set function)\n",
    "- 16) program to take dictionary from keyboard and print the sum of values.\n",
    "- 17) program to accept student name and marks from keyboard and create a dictionary .Also display student marks by taking student name as input\n",
    "- 18) program to find number of occurences of each letter present in the given string\n",
    "- 19) program to find number of occurences of each vowel present in the given string.\n",
    "- 20) Input n persons weight and find average of distinct weights.  ( Note : distinct weights average not an average of weights)\n"
   ]
  },
  {
   "cell_type": "code",
   "execution_count": null,
   "metadata": {},
   "outputs": [],
   "source": [
    "# 1\n",
    "n = int(input())\n",
    "if 1<=n<=100:\n",
    "    if (n%2==0 and n in range(2,6)) or n>20:\n",
    "        print('Not Weird')\n",
    "    elif (n%2==0 and n in range(6,11)) or n%2!=0:\n",
    "        print('Weird')"
   ]
  },
  {
   "cell_type": "code",
   "execution_count": null,
   "metadata": {},
   "outputs": [],
   "source": [
    "# 2\n",
    "n = int(input())\n",
    "if 1<=n<=20:\n",
    "    for i in range(0,n):\n",
    "        print(i*i)"
   ]
  },
  {
   "cell_type": "code",
   "execution_count": null,
   "metadata": {},
   "outputs": [],
   "source": [
    "# 3\n",
    "n = int(input())\n",
    "if 1900<=n<=100000:\n",
    "    if n%4==0 and n%100!=0:\n",
    "        print('True')\n",
    "    elif n%100==0:\n",
    "        print('False')\n",
    "    elif n%400:\n",
    "        print('True')"
   ]
  },
  {
   "cell_type": "code",
   "execution_count": null,
   "metadata": {},
   "outputs": [],
   "source": [
    "# 4\n",
    "n = set(map(int,input().split()))\n",
    "a=list(n)\n",
    "print(a[len(a)-2])"
   ]
  },
  {
   "cell_type": "code",
   "execution_count": null,
   "metadata": {},
   "outputs": [],
   "source": [
    "# 5\n",
    "s = input().split()\n",
    "if len(s)==1:\n",
    "    print(s[0][0].lower()+s[0][1:].upper())\n",
    "elif len(s)>1:\n",
    "    s1=''\n",
    "    for i in s:\n",
    "        s1=s1+' '+i[0].lower()+i[1:].upper()\n",
    "    print(s1.strip())"
   ]
  },
  {
   "cell_type": "code",
   "execution_count": null,
   "metadata": {},
   "outputs": [],
   "source": [
    "for i in s:\n",
    "    print(i)"
   ]
  },
  {
   "cell_type": "code",
   "execution_count": null,
   "metadata": {},
   "outputs": [],
   "source": [
    "# 6\n",
    "'-'.join(input().split())"
   ]
  },
  {
   "cell_type": "code",
   "execution_count": null,
   "metadata": {},
   "outputs": [],
   "source": [
    "# 7\n",
    "s=list(input('Enter the string : '))\n",
    "p=int(input('Enter position : '))\n",
    "c=input('Enter the char : ')\n",
    "s[p]=c\n",
    "''.join(s)"
   ]
  },
  {
   "cell_type": "code",
   "execution_count": null,
   "metadata": {},
   "outputs": [],
   "source": [
    "# 8\n",
    "s=input()\n",
    "ss=input()\n",
    "count=0\n",
    "for i in range(len(s)):\n",
    "    if s[i:len(ss)+i] == ss:\n",
    "        count+=1\n",
    "count "
   ]
  },
  {
   "cell_type": "code",
   "execution_count": null,
   "metadata": {},
   "outputs": [],
   "source": [
    "# 9\n",
    "s=input()\n",
    "print(any(i.isdigit() for i in s))\n",
    "print(any(i.isupper() for i in s))\n",
    "print(any(i.isalnum() for i in s))\n",
    "print(any(i.islower() for i in s))\n",
    "print(any(i.isalpha() for i in s))"
   ]
  },
  {
   "cell_type": "code",
   "execution_count": null,
   "metadata": {},
   "outputs": [],
   "source": [
    "# 10\n",
    "l=list(map(int,input().split()))\n",
    "l.sort(reverse=True)\n",
    "l"
   ]
  },
  {
   "cell_type": "code",
   "execution_count": null,
   "metadata": {},
   "outputs": [],
   "source": [
    "# 11\n",
    "n=int(input('No of nested list : '))\n",
    "l=[list(map(int,input().split())) for i in range(n)]\n",
    "for j in l:\n",
    "    for k in j:\n",
    "        print(k,end=' ')\n",
    "    print()"
   ]
  },
  {
   "cell_type": "code",
   "execution_count": null,
   "metadata": {},
   "outputs": [],
   "source": [
    "# 12\n",
    "n=input()\n",
    "s=''\n",
    "for i in n:\n",
    "    if i in ['a','e','i','o','u','A','E','I','O','U']:\n",
    "        if i not in s:\n",
    "            s+=i\n",
    "print(s)\n",
    "s1=set(n)\n",
    "s1.intersection(['a','e','i','o','u','A','E','I','O','U'])"
   ]
  },
  {
   "cell_type": "code",
   "execution_count": null,
   "metadata": {},
   "outputs": [],
   "source": [
    "# 13\n",
    "a=[2**i for i in range(1,10)]\n",
    "b=[i**2 for i in range(1,15)]\n",
    "c=[i*2 for i in range(1,40) if i%2==0]\n",
    "print(a,'\\n',b,'\\n',c)"
   ]
  },
  {
   "cell_type": "code",
   "execution_count": null,
   "metadata": {},
   "outputs": [],
   "source": [
    "# 14\n",
    "n=tuple(map(int,input().split()))\n",
    "print('sum',sum(n),' ','Avg',sum(n)/len(n))"
   ]
  },
  {
   "cell_type": "code",
   "execution_count": null,
   "metadata": {},
   "outputs": [],
   "source": [
    "# 15\n",
    "n=list(map(int,input().split()))\n",
    "l=[]\n",
    "print(set(n))\n",
    "l1=[l.append(i) for i in n if i not in l]\n",
    "l"
   ]
  },
  {
   "cell_type": "code",
   "execution_count": null,
   "metadata": {},
   "outputs": [],
   "source": [
    "# 16\n",
    "d={}\n",
    "n=int(input('no of keys : '))\n",
    "for i in range(n):\n",
    "    d.setdefault(input(),int(input()))\n",
    "sum(d.values())"
   ]
  },
  {
   "cell_type": "code",
   "execution_count": null,
   "metadata": {},
   "outputs": [],
   "source": [
    "# 17\n",
    "n=int(input('Enter the no. records to enter : '))\n",
    "d={}\n",
    "for i in range(n):\n",
    "    name,marks = input('Enter your Name and Marks : ').split()\n",
    "    d.setdefault(name,marks)\n",
    "int(d.get(input('Enter the name : '),'Name not Found'))"
   ]
  },
  {
   "cell_type": "code",
   "execution_count": null,
   "metadata": {},
   "outputs": [],
   "source": [
    "# 18\n",
    "string=input()\n",
    "s=''\n",
    "for i in string:\n",
    "    if i not in s:\n",
    "        s+=i\n",
    "        print(i,' ',string.count(i))"
   ]
  },
  {
   "cell_type": "code",
   "execution_count": null,
   "metadata": {},
   "outputs": [],
   "source": [
    "# 19\n",
    "s=input()\n",
    "s1=''\n",
    "for i in s:\n",
    "    if i not in s1:\n",
    "        s1+=i\n",
    "        if i in ['a','e','i','o','u','A','E','I','O','U']:\n",
    "            print(i,' ',s.count(i))"
   ]
  },
  {
   "cell_type": "code",
   "execution_count": null,
   "metadata": {},
   "outputs": [],
   "source": [
    "s = 'aaabbbcccdddaa'\n",
    "s1=''\n",
    "for i in range(len(s)):\n",
    "    count=0\n",
    "    if s[i] not in s1:\n",
    "        s1+=s[i]\n",
    "        for j in range(len(s)):\n",
    "            if s[i]==s[j]:\n",
    "                count+=1\n",
    "        print(s[i],count)"
   ]
  },
  {
   "cell_type": "code",
   "execution_count": null,
   "metadata": {},
   "outputs": [],
   "source": [
    "s = 'aaaabbcccca'\n",
    "out = ''\n",
    "c = 1\n",
    "\n",
    "for i in range(len(s)):\n",
    "    if i < len(s)-1 and s[i] == s[i+1]:\n",
    "        c += 1\n",
    "    else:\n",
    "        out += s[i] + str(c)\n",
    "        c = 1\n",
    "print(out)"
   ]
  },
  {
   "cell_type": "code",
   "execution_count": null,
   "metadata": {},
   "outputs": [],
   "source": [
    "# 20\n",
    "n=set(map(int,input().split()))\n",
    "sum(n)/len(n)"
   ]
  },
  {
   "cell_type": "markdown",
   "metadata": {},
   "source": [
    "- Write a Python Function to find factorial of given number with recursion. \n",
    "- Write a program to create a lambda function to find square of given number? \n",
    "- Lambda Function to find biggest of 3 given values. \n",
    "- program to generate fibonacci series\n",
    "- program to filter only even number from the list by using filter() function? (with and with out lambda function)\n",
    "- program to print sum of elements of the list  using reduce() function\n",
    "- write a program to generate 6 digit random number as OTP\n",
    "- program to generate random password of length 6 where 1st 3rd 5th are alphabet symbols 2nd 4rth 6th are digits (like a3b5d6)\n",
    "- Given a list of rational numbers,find their product.\n",
    "- You are given a date. Your task is to find what the day is on that date.\n",
    "- program for nth fibonacci number\n",
    "- program to print ASCII Value of character\n",
    "- Given a dictionary and a character array, print all valid words that are possible using characters from the array.\n",
    "- program to convert time from 12 hour to 24 hour format\n"
   ]
  },
  {
   "cell_type": "code",
   "execution_count": null,
   "metadata": {},
   "outputs": [],
   "source": [
    "# 1\n",
    "def fact(n):\n",
    "    if n==0 or n==1:\n",
    "        return 1\n",
    "    else:\n",
    "        return n*fact(n-1)\n",
    "fact(int(input()))"
   ]
  },
  {
   "cell_type": "code",
   "execution_count": null,
   "metadata": {},
   "outputs": [],
   "source": [
    "# 2\n",
    "x=lambda x : pow(x,2)\n",
    "x(int(input()))"
   ]
  },
  {
   "cell_type": "code",
   "execution_count": null,
   "metadata": {},
   "outputs": [],
   "source": [
    "# 3\n",
    "x=lambda a,b,c :a if a>b and a>c else b if b>a and b>c else c\n",
    "a=list(map(int,input().split()))\n",
    "x(*a)"
   ]
  },
  {
   "cell_type": "code",
   "execution_count": null,
   "metadata": {},
   "outputs": [],
   "source": [
    "# 4\n",
    "def fibo(n):\n",
    "    if n<=1:\n",
    "        return n\n",
    "    else:\n",
    "        return(fibo(n-1)+fibo(n-2))\n",
    "for i in range(int(input())):\n",
    "    print(fibo(i))"
   ]
  },
  {
   "cell_type": "code",
   "execution_count": null,
   "metadata": {},
   "outputs": [],
   "source": [
    "# 5\n",
    "list(filter(lambda x : x%2==0,list(map(int,input().split()))))"
   ]
  },
  {
   "cell_type": "code",
   "execution_count": null,
   "metadata": {},
   "outputs": [],
   "source": [
    "# 6\n",
    "from functools import reduce\n",
    "reduce(lambda x,y: x+y,list(map(int,input().split())))"
   ]
  },
  {
   "cell_type": "code",
   "execution_count": null,
   "metadata": {},
   "outputs": [],
   "source": [
    "# 7\n",
    "import random as r\n",
    "print([r.randint(0,9) for i in range(int(input()))])"
   ]
  },
  {
   "cell_type": "code",
   "execution_count": null,
   "metadata": {},
   "outputs": [],
   "source": [
    "# 8\n",
    "from string import ascii_letters as l\n",
    "str(r.randint(0,9))+r.choice(l)+str(r.randint(0,9))+r.choice(l)+str(r.randint(0,9))+r.choice(l)"
   ]
  },
  {
   "cell_type": "code",
   "execution_count": null,
   "metadata": {},
   "outputs": [],
   "source": [
    "# 9\n",
    "reduce(lambda x,y: x*y,list(map(float,map(lambda x: eval(x),list(input().split())))))"
   ]
  },
  {
   "cell_type": "code",
   "execution_count": null,
   "metadata": {},
   "outputs": [],
   "source": [
    "# 10\n",
    "import datetime as d\n",
    "a,b,c=list(map(int,input().split()))\n",
    "y=d.date(a,b,c)\n",
    "y.strftime('%A')"
   ]
  },
  {
   "cell_type": "code",
   "execution_count": null,
   "metadata": {},
   "outputs": [],
   "source": [
    "# 11\n",
    "def fibo(n):\n",
    "    if n<=1:\n",
    "        return n\n",
    "    else:\n",
    "        return(fibo(n-1)+fibo(n-2))\n",
    "# for i in range(int(input())):\n",
    "#     print(fibo(i))\n",
    "fibo(10)"
   ]
  },
  {
   "cell_type": "code",
   "execution_count": null,
   "metadata": {},
   "outputs": [],
   "source": [
    "# 12\n",
    "list(map(lambda x : ord(x),input()))"
   ]
  },
  {
   "cell_type": "code",
   "execution_count": null,
   "metadata": {},
   "outputs": [],
   "source": [
    "# 13\n",
    "l=['go','bat','me','eat','goal','boy','run']\n",
    "k=['e','o','b','a','m','g','l']\n",
    "for i in l:\n",
    "    count=0\n",
    "    for j in i:\n",
    "        if j in k:\n",
    "            count+=1\n",
    "        if count==len(i):\n",
    "            print(i)\n",
    "            "
   ]
  },
  {
   "cell_type": "code",
   "execution_count": null,
   "metadata": {},
   "outputs": [],
   "source": [
    "# 14\n",
    "s=input('Enter the time in 12 hrs format : ')\n",
    "if int(s[0:2])==0 and int(s[0:2])>12:\n",
    "    \n",
    "    if s[len(s)-2:].lower() == 'pm' and int(s[0:2])<12 and int(s[3:len(s)-2])<60:\n",
    "        print(str(12+int(s[0:2]))+':'+s[3:len(s)-2])\n",
    "    elif int(s[3:len(s)-2])<60:\n",
    "        print(s[:len(s)-2])\n",
    "    else:\n",
    "        print('Enter correct time format')\n",
    "else:\n",
    "    print('Please enter 12 hour format input only')"
   ]
  },
  {
   "attachments": {},
   "cell_type": "markdown",
   "metadata": {},
   "source": []
  },
  {
   "cell_type": "code",
   "execution_count": 29,
   "metadata": {},
   "outputs": [
    {
     "name": "stdout",
     "output_type": "stream",
     "text": [
      "Enter file name : file.txt\n",
      "File exist\n",
      "Hello Python\n"
     ]
    }
   ],
   "source": []
  },
  {
   "cell_type": "code",
   "execution_count": 90,
   "metadata": {},
   "outputs": [
    {
     "name": "stdout",
     "output_type": "stream",
     "text": [
      "No. of words: 11\n",
      "No. of lines: 3\n",
      "No. of char: 62\n"
     ]
    }
   ],
   "source": []
  },
  {
   "cell_type": "code",
   "execution_count": 93,
   "metadata": {},
   "outputs": [
    {
     "name": "stdout",
     "output_type": "stream",
     "text": [
      "My current Directory: C:\\Users\\Rakshith KS\\TYSS\n"
     ]
    },
    {
     "ename": "FileExistsError",
     "evalue": "[WinError 183] Cannot create a file when that file already exists: 'sub'",
     "output_type": "error",
     "traceback": [
      "\u001b[1;31m---------------------------------------------------------------------------\u001b[0m",
      "\u001b[1;31mFileExistsError\u001b[0m                           Traceback (most recent call last)",
      "\u001b[1;32m<ipython-input-93-6196ceeeb374>\u001b[0m in \u001b[0;36m<module>\u001b[1;34m\u001b[0m\n\u001b[0;32m      3\u001b[0m \u001b[0mcwd\u001b[0m\u001b[1;33m=\u001b[0m\u001b[0mos\u001b[0m\u001b[1;33m.\u001b[0m\u001b[0mgetcwd\u001b[0m\u001b[1;33m(\u001b[0m\u001b[1;33m)\u001b[0m\u001b[1;33m\u001b[0m\u001b[1;33m\u001b[0m\u001b[0m\n\u001b[0;32m      4\u001b[0m \u001b[0mprint\u001b[0m\u001b[1;33m(\u001b[0m\u001b[1;34m'My current Directory:'\u001b[0m\u001b[1;33m,\u001b[0m\u001b[0mcwd\u001b[0m\u001b[1;33m)\u001b[0m\u001b[1;33m\u001b[0m\u001b[1;33m\u001b[0m\u001b[0m\n\u001b[1;32m----> 5\u001b[1;33m \u001b[0msub1\u001b[0m\u001b[1;33m=\u001b[0m\u001b[0mos\u001b[0m\u001b[1;33m.\u001b[0m\u001b[0mmkdir\u001b[0m\u001b[1;33m(\u001b[0m\u001b[1;34m'sub'\u001b[0m\u001b[1;33m)\u001b[0m\u001b[1;33m\u001b[0m\u001b[1;33m\u001b[0m\u001b[0m\n\u001b[0m\u001b[0;32m      6\u001b[0m \u001b[0mprint\u001b[0m\u001b[1;33m(\u001b[0m\u001b[1;34m'my sub directory:'\u001b[0m\u001b[1;33m,\u001b[0m\u001b[0msub1\u001b[0m\u001b[1;33m)\u001b[0m\u001b[1;33m\u001b[0m\u001b[1;33m\u001b[0m\u001b[0m\n\u001b[0;32m      7\u001b[0m \u001b[0mprint\u001b[0m\u001b[1;33m(\u001b[0m\u001b[1;34m'My current Directory:'\u001b[0m\u001b[1;33m,\u001b[0m\u001b[0mcwd\u001b[0m\u001b[1;33m)\u001b[0m\u001b[1;33m\u001b[0m\u001b[1;33m\u001b[0m\u001b[0m\n",
      "\u001b[1;31mFileExistsError\u001b[0m: [WinError 183] Cannot create a file when that file already exists: 'sub'"
     ]
    }
   ],
   "source": []
  },
  {
   "cell_type": "code",
   "execution_count": null,
   "metadata": {},
   "outputs": [],
   "source": []
  }
 ],
 "metadata": {
  "kernelspec": {
   "display_name": "Python 3",
   "language": "python",
   "name": "python3"
  },
  "language_info": {
   "codemirror_mode": {
    "name": "ipython",
    "version": 3
   },
   "file_extension": ".py",
   "mimetype": "text/x-python",
   "name": "python",
   "nbconvert_exporter": "python",
   "pygments_lexer": "ipython3",
   "version": "3.7.4"
  }
 },
 "nbformat": 4,
 "nbformat_minor": 2
}
